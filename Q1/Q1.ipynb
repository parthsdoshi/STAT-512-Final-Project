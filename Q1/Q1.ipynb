{
 "cells": [
  {
   "cell_type": "code",
   "execution_count": 144,
   "metadata": {},
   "outputs": [],
   "source": [
    "library(\"car\")\n",
    "library(\"MASS\")"
   ]
  },
  {
   "cell_type": "code",
   "execution_count": 1,
   "metadata": {
    "collapsed": true
   },
   "outputs": [
    {
     "data": {
      "text/html": [
       "<table>\n",
       "<thead><tr><th scope=col>a</th><th scope=col>b</th><th scope=col>c</th><th scope=col>response</th></tr></thead>\n",
       "<tbody>\n",
       "\t<tr><td>1.455183          </td><td>-1.582413         </td><td>-0.79986699       </td><td>-1.19644881450559 </td></tr>\n",
       "\t<tr><td>5.611342          </td><td>-1.623126         </td><td>-0.02688283       </td><td>-0.768555417215431</td></tr>\n",
       "\t<tr><td>1.273810          </td><td>-1.550128         </td><td> 0.29150806       </td><td>-0.230361659426824</td></tr>\n",
       "\t<tr><td>1.307202          </td><td>-2.694407         </td><td>-0.68601789       </td><td>-1.16303941768924 </td></tr>\n",
       "\t<tr><td>4.300929          </td><td>-1.154743         </td><td>-0.39088466       </td><td>-1.0131776860767  </td></tr>\n",
       "\t<tr><td>1.742520          </td><td>-2.284435         </td><td> 0.74478268       </td><td>1.90115049535415  </td></tr>\n",
       "</tbody>\n",
       "</table>\n"
      ],
      "text/latex": [
       "\\begin{tabular}{r|llll}\n",
       " a & b & c & response\\\\\n",
       "\\hline\n",
       "\t 1.455183           & -1.582413          & -0.79986699        & -1.19644881450559 \\\\\n",
       "\t 5.611342           & -1.623126          & -0.02688283        & -0.768555417215431\\\\\n",
       "\t 1.273810           & -1.550128          &  0.29150806        & -0.230361659426824\\\\\n",
       "\t 1.307202           & -2.694407          & -0.68601789        & -1.16303941768924 \\\\\n",
       "\t 4.300929           & -1.154743          & -0.39088466        & -1.0131776860767  \\\\\n",
       "\t 1.742520           & -2.284435          &  0.74478268        & 1.90115049535415  \\\\\n",
       "\\end{tabular}\n"
      ],
      "text/markdown": [
       "\n",
       "a | b | c | response | \n",
       "|---|---|---|---|---|---|\n",
       "| 1.455183           | -1.582413          | -0.79986699        | -1.19644881450559  | \n",
       "| 5.611342           | -1.623126          | -0.02688283        | -0.768555417215431 | \n",
       "| 1.273810           | -1.550128          |  0.29150806        | -0.230361659426824 | \n",
       "| 1.307202           | -2.694407          | -0.68601789        | -1.16303941768924  | \n",
       "| 4.300929           | -1.154743          | -0.39088466        | -1.0131776860767   | \n",
       "| 1.742520           | -2.284435          |  0.74478268        | 1.90115049535415   | \n",
       "\n",
       "\n"
      ],
      "text/plain": [
       "  a        b         c           response          \n",
       "1 1.455183 -1.582413 -0.79986699 -1.19644881450559 \n",
       "2 5.611342 -1.623126 -0.02688283 -0.768555417215431\n",
       "3 1.273810 -1.550128  0.29150806 -0.230361659426824\n",
       "4 1.307202 -2.694407 -0.68601789 -1.16303941768924 \n",
       "5 4.300929 -1.154743 -0.39088466 -1.0131776860767  \n",
       "6 1.742520 -2.284435  0.74478268 1.90115049535415  "
      ]
     },
     "metadata": {},
     "output_type": "display_data"
    }
   ],
   "source": [
    "q1 <- read.table(\n",
    "  \"finaltr1.dat\",\n",
    "  header = F,\n",
    "  as.is = T,\n",
    "  col.names = c('a', 'b', 'c', 'response')\n",
    ")\n",
    "c = ncol(q1)\n",
    "r = nrow(q1)\n",
    "\n",
    "head(q1)"
   ]
  },
  {
   "cell_type": "code",
   "execution_count": 2,
   "metadata": {
    "collapsed": true
   },
   "outputs": [
    {
     "data": {
      "text/html": [
       "<table>\n",
       "<thead><tr><th></th><th scope=col>a</th><th scope=col>b</th><th scope=col>c</th><th scope=col>response</th></tr></thead>\n",
       "<tbody>\n",
       "\t<tr><th scope=row>95</th><td>1.105754   </td><td>-1.657824  </td><td>-0.80571028</td><td>-1.0608188 </td></tr>\n",
       "\t<tr><th scope=row>96</th><td>2.129337   </td><td>-2.083347  </td><td> 0.76122157</td><td> 2.0030739 </td></tr>\n",
       "\t<tr><th scope=row>97</th><td>3.607869   </td><td>-1.272318  </td><td> 0.82529508</td><td> 2.2856915 </td></tr>\n",
       "\t<tr><th scope=row>98</th><td>2.664642   </td><td>-2.438818  </td><td>-0.46545227</td><td>-1.1249455 </td></tr>\n",
       "\t<tr><th scope=row>99</th><td>1.033070   </td><td>-1.512141  </td><td>-0.18543966</td><td>-0.9702493 </td></tr>\n",
       "\t<tr><th scope=row>100</th><td>1.424522   </td><td>-1.655860  </td><td>-0.07311719</td><td>-0.9193153 </td></tr>\n",
       "</tbody>\n",
       "</table>\n"
      ],
      "text/latex": [
       "\\begin{tabular}{r|llll}\n",
       "  & a & b & c & response\\\\\n",
       "\\hline\n",
       "\t95 & 1.105754    & -1.657824   & -0.80571028 & -1.0608188 \\\\\n",
       "\t96 & 2.129337    & -2.083347   &  0.76122157 &  2.0030739 \\\\\n",
       "\t97 & 3.607869    & -1.272318   &  0.82529508 &  2.2856915 \\\\\n",
       "\t98 & 2.664642    & -2.438818   & -0.46545227 & -1.1249455 \\\\\n",
       "\t99 & 1.033070    & -1.512141   & -0.18543966 & -0.9702493 \\\\\n",
       "\t100 & 1.424522    & -1.655860   & -0.07311719 & -0.9193153 \\\\\n",
       "\\end{tabular}\n"
      ],
      "text/markdown": [
       "\n",
       "| <!--/--> | a | b | c | response | \n",
       "|---|---|---|---|---|---|\n",
       "| 95 | 1.105754    | -1.657824   | -0.80571028 | -1.0608188  | \n",
       "| 96 | 2.129337    | -2.083347   |  0.76122157 |  2.0030739  | \n",
       "| 97 | 3.607869    | -1.272318   |  0.82529508 |  2.2856915  | \n",
       "| 98 | 2.664642    | -2.438818   | -0.46545227 | -1.1249455  | \n",
       "| 99 | 1.033070    | -1.512141   | -0.18543966 | -0.9702493  | \n",
       "| 100 | 1.424522    | -1.655860   | -0.07311719 | -0.9193153  | \n",
       "\n",
       "\n"
      ],
      "text/plain": [
       "    a        b         c           response  \n",
       "95  1.105754 -1.657824 -0.80571028 -1.0608188\n",
       "96  2.129337 -2.083347  0.76122157  2.0030739\n",
       "97  3.607869 -1.272318  0.82529508  2.2856915\n",
       "98  2.664642 -2.438818 -0.46545227 -1.1249455\n",
       "99  1.033070 -1.512141 -0.18543966 -0.9702493\n",
       "100 1.424522 -1.655860 -0.07311719 -0.9193153"
      ]
     },
     "metadata": {},
     "output_type": "display_data"
    },
    {
     "data": {
      "text/html": [
       "<table>\n",
       "<thead><tr><th></th><th scope=col>a</th><th scope=col>b</th><th scope=col>c</th></tr></thead>\n",
       "<tbody>\n",
       "\t<tr><th scope=row>101</th><td>1.725541  </td><td>-1.053257 </td><td> 0.3883433</td></tr>\n",
       "\t<tr><th scope=row>102</th><td>1.787613  </td><td>-1.736316 </td><td>-0.9541755</td></tr>\n",
       "\t<tr><th scope=row>103</th><td>1.658986  </td><td>-3.031713 </td><td>-0.3953767</td></tr>\n",
       "\t<tr><th scope=row>104</th><td>4.408264  </td><td>-1.004072 </td><td> 0.4066485</td></tr>\n",
       "\t<tr><th scope=row>105</th><td>1.100892  </td><td>-1.433089 </td><td> 0.9974857</td></tr>\n",
       "\t<tr><th scope=row>106</th><td>1.253575  </td><td>-1.063971 </td><td>-0.6151925</td></tr>\n",
       "</tbody>\n",
       "</table>\n"
      ],
      "text/latex": [
       "\\begin{tabular}{r|lll}\n",
       "  & a & b & c\\\\\n",
       "\\hline\n",
       "\t101 & 1.725541   & -1.053257  &  0.3883433\\\\\n",
       "\t102 & 1.787613   & -1.736316  & -0.9541755\\\\\n",
       "\t103 & 1.658986   & -3.031713  & -0.3953767\\\\\n",
       "\t104 & 4.408264   & -1.004072  &  0.4066485\\\\\n",
       "\t105 & 1.100892   & -1.433089  &  0.9974857\\\\\n",
       "\t106 & 1.253575   & -1.063971  & -0.6151925\\\\\n",
       "\\end{tabular}\n"
      ],
      "text/markdown": [
       "\n",
       "| <!--/--> | a | b | c | \n",
       "|---|---|---|---|---|---|\n",
       "| 101 | 1.725541   | -1.053257  |  0.3883433 | \n",
       "| 102 | 1.787613   | -1.736316  | -0.9541755 | \n",
       "| 103 | 1.658986   | -3.031713  | -0.3953767 | \n",
       "| 104 | 4.408264   | -1.004072  |  0.4066485 | \n",
       "| 105 | 1.100892   | -1.433089  |  0.9974857 | \n",
       "| 106 | 1.253575   | -1.063971  | -0.6151925 | \n",
       "\n",
       "\n"
      ],
      "text/plain": [
       "    a        b         c         \n",
       "101 1.725541 -1.053257  0.3883433\n",
       "102 1.787613 -1.736316 -0.9541755\n",
       "103 1.658986 -3.031713 -0.3953767\n",
       "104 4.408264 -1.004072  0.4066485\n",
       "105 1.100892 -1.433089  0.9974857\n",
       "106 1.253575 -1.063971 -0.6151925"
      ]
     },
     "metadata": {},
     "output_type": "display_data"
    },
    {
     "data": {
      "text/html": [
       "<table>\n",
       "<thead><tr><th scope=col>response</th></tr></thead>\n",
       "<tbody>\n",
       "\t<tr><td> 0.3453552</td></tr>\n",
       "\t<tr><td>-0.9287183</td></tr>\n",
       "\t<tr><td>-1.1055420</td></tr>\n",
       "\t<tr><td> 0.2575511</td></tr>\n",
       "\t<tr><td> 3.9184790</td></tr>\n",
       "\t<tr><td>-0.9030137</td></tr>\n",
       "</tbody>\n",
       "</table>\n"
      ],
      "text/latex": [
       "\\begin{tabular}{r|l}\n",
       " response\\\\\n",
       "\\hline\n",
       "\t  0.3453552\\\\\n",
       "\t -0.9287183\\\\\n",
       "\t -1.1055420\\\\\n",
       "\t  0.2575511\\\\\n",
       "\t  3.9184790\\\\\n",
       "\t -0.9030137\\\\\n",
       "\\end{tabular}\n"
      ],
      "text/markdown": [
       "\n",
       "response | \n",
       "|---|---|---|---|---|---|\n",
       "|  0.3453552 | \n",
       "| -0.9287183 | \n",
       "| -1.1055420 | \n",
       "|  0.2575511 | \n",
       "|  3.9184790 | \n",
       "| -0.9030137 | \n",
       "\n",
       "\n"
      ],
      "text/plain": [
       "  response  \n",
       "1  0.3453552\n",
       "2 -0.9287183\n",
       "3 -1.1055420\n",
       "4  0.2575511\n",
       "5  3.9184790\n",
       "6 -0.9030137"
      ]
     },
     "metadata": {},
     "output_type": "display_data"
    }
   ],
   "source": [
    "train = q1[1:100,]\n",
    "train$response = as.numeric(train$response)\n",
    "test_x = q1[101:nrow(q1),][,c(\"a\",\"b\",\"c\")]\n",
    "test_y = read.table(\"finalprq1.dat\", header = F, as.is = T, col.names = c('response'))\n",
    "\n",
    "tail(train)\n",
    "head(test_x)\n",
    "head(test_y)"
   ]
  },
  {
   "cell_type": "code",
   "execution_count": 50,
   "metadata": {
    "collapsed": true
   },
   "outputs": [
    {
     "data": {
      "image/png": "[encoded data removed]",
      "text/plain": [
       "plot without title"
      ]
     },
     "metadata": {},
     "output_type": "display_data"
    },
    {
     "data": {
      "image/png": "[encoded data removed]",
      "text/plain": [
       "plot without title"
      ]
     },
     "metadata": {},
     "output_type": "display_data"
    },
    {
     "data": {
      "image/png": "[encoded data removed]",
      "text/plain": [
       "plot without title"
      ]
     },
     "metadata": {},
     "output_type": "display_data"
    }
   ],
   "source": [
    "plot(train$a, train$response)\n",
    "plot(train$b, train$response)\n",
    "plot(train$c, train$response)"
   ]
  },
  {
   "cell_type": "code",
   "execution_count": 61,
   "metadata": {
    "collapsed": true
   },
   "outputs": [
    {
     "data": {
      "text/plain": [
       "\n",
       "Call:\n",
       "lm(formula = response ~ a + b + c, data = train)\n",
       "\n",
       "Residuals:\n",
       "     Min       1Q   Median       3Q      Max \n",
       "-0.87851 -0.44218 -0.09036  0.35552  1.76216 \n",
       "\n",
       "Coefficients:\n",
       "            Estimate Std. Error t value Pr(>|t|)    \n",
       "(Intercept) -0.04423    0.16075  -0.275    0.784    \n",
       "a           -0.04009    0.04827  -0.830    0.408    \n",
       "b           -0.02742    0.06294  -0.436    0.664    \n",
       "c            2.04069    0.10470  19.490   <2e-16 ***\n",
       "---\n",
       "Signif. codes:  0 '***' 0.001 '**' 0.01 '*' 0.05 '.' 0.1 ' ' 1\n",
       "\n",
       "Residual standard error: 0.5865 on 96 degrees of freedom\n",
       "Multiple R-squared:  0.8013,\tAdjusted R-squared:  0.7951 \n",
       "F-statistic:   129 on 3 and 96 DF,  p-value: < 2.2e-16\n"
      ]
     },
     "metadata": {},
     "output_type": "display_data"
    },
    {
     "data": {
      "text/html": [
       "<table>\n",
       "<thead><tr><th></th><th scope=col>Df</th><th scope=col>Sum Sq</th><th scope=col>Mean Sq</th><th scope=col>F value</th><th scope=col>Pr(&gt;F)</th></tr></thead>\n",
       "<tbody>\n",
       "\t<tr><th scope=row>a</th><td> 1          </td><td>  2.47866189</td><td>  2.47866189</td><td>  7.20607357</td><td>8.559253e-03</td></tr>\n",
       "\t<tr><th scope=row>b</th><td> 1          </td><td>  0.02420428</td><td>  0.02420428</td><td>  0.07036775</td><td>7.913709e-01</td></tr>\n",
       "\t<tr><th scope=row>c</th><td> 1          </td><td>130.66379470</td><td>130.66379470</td><td>379.87146318</td><td>3.863691e-35</td></tr>\n",
       "\t<tr><th scope=row>Residuals</th><td>96          </td><td> 33.02097027</td><td>  0.34396844</td><td>          NA</td><td>          NA</td></tr>\n",
       "</tbody>\n",
       "</table>\n"
      ],
      "text/latex": [
       "\\begin{tabular}{r|lllll}\n",
       "  & Df & Sum Sq & Mean Sq & F value & Pr(>F)\\\\\n",
       "\\hline\n",
       "\ta &  1           &   2.47866189 &   2.47866189 &   7.20607357 & 8.559253e-03\\\\\n",
       "\tb &  1           &   0.02420428 &   0.02420428 &   0.07036775 & 7.913709e-01\\\\\n",
       "\tc &  1           & 130.66379470 & 130.66379470 & 379.87146318 & 3.863691e-35\\\\\n",
       "\tResiduals & 96           &  33.02097027 &   0.34396844 &           NA &           NA\\\\\n",
       "\\end{tabular}\n"
      ],
      "text/markdown": [
       "\n",
       "| <!--/--> | Df | Sum Sq | Mean Sq | F value | Pr(>F) | \n",
       "|---|---|---|---|\n",
       "| a |  1           |   2.47866189 |   2.47866189 |   7.20607357 | 8.559253e-03 | \n",
       "| b |  1           |   0.02420428 |   0.02420428 |   0.07036775 | 7.913709e-01 | \n",
       "| c |  1           | 130.66379470 | 130.66379470 | 379.87146318 | 3.863691e-35 | \n",
       "| Residuals | 96           |  33.02097027 |   0.34396844 |           NA |           NA | \n",
       "\n",
       "\n"
      ],
      "text/plain": [
       "          Df Sum Sq       Mean Sq      F value      Pr(>F)      \n",
       "a          1   2.47866189   2.47866189   7.20607357 8.559253e-03\n",
       "b          1   0.02420428   0.02420428   0.07036775 7.913709e-01\n",
       "c          1 130.66379470 130.66379470 379.87146318 3.863691e-35\n",
       "Residuals 96  33.02097027   0.34396844           NA           NA"
      ]
     },
     "metadata": {},
     "output_type": "display_data"
    },
    {
     "data": {
      "image/png": "[encoded data removed]",
      "text/plain": [
       "plot without title"
      ]
     },
     "metadata": {},
     "output_type": "display_data"
    },
    {
     "data": {
      "image/png": "[encoded data removed]",
      "text/plain": [
       "Plot with title \"Histogram of simple_model$residuals\""
      ]
     },
     "metadata": {},
     "output_type": "display_data"
    },
    {
     "data": {
      "image/png": "[encoded data removed]",
      "text/plain": [
       "Plot with title \"Normal Q-Q Plot\""
      ]
     },
     "metadata": {},
     "output_type": "display_data"
    }
   ],
   "source": [
    "simple_model = lm(response ~ a + b + c, data=train)\n",
    "summary(simple_model)\n",
    "anova(simple_model)\n",
    "\n",
    "# we see that response can be negative, we should shift it\n",
    "plot(train$response, simple_model$residuals)\n",
    "\n",
    "# right skewed residuals although still normal mostly\n",
    "hist(simple_model$residuals)\n",
    "qqnorm(simple_model$residuals)\n",
    "qqline(simple_model$residuals)"
   ]
  },
  {
   "cell_type": "code",
   "execution_count": 59,
   "metadata": {
    "collapsed": true
   },
   "outputs": [
    {
     "data": {
      "image/png": "[encoded data removed]",
      "text/plain": [
       "plot without title"
      ]
     },
     "metadata": {},
     "output_type": "display_data"
    },
    {
     "data": {
      "image/png": "[encoded data removed]",
      "text/plain": [
       "plot without title"
      ]
     },
     "metadata": {},
     "output_type": "display_data"
    },
    {
     "data": {
      "image/png": "[encoded data removed]",
      "text/plain": [
       "plot without title"
      ]
     },
     "metadata": {},
     "output_type": "display_data"
    }
   ],
   "source": [
    "plot(train$a, simple_model$residuals)\n",
    "plot(train$b, simple_model$residuals)\n",
    "plot(train$c, simple_model$residuals)"
   ]
  },
  {
   "cell_type": "code",
   "execution_count": 7,
   "metadata": {
    "collapsed": true
   },
   "outputs": [],
   "source": [
    "# we add 10^(-5) because we need every value to be positive, not just 0\n",
    "response_shift = abs(min(train$response)) + 10e-5\n",
    "train$shifted_response = train$response + response_shift"
   ]
  },
  {
   "cell_type": "code",
   "execution_count": 145,
   "metadata": {
    "collapsed": true
   },
   "outputs": [
    {
     "data": {
      "text/html": [
       "<table>\n",
       "<thead><tr><th></th><th scope=col>a</th><th scope=col>b</th><th scope=col>c</th><th scope=col>response</th><th scope=col>shifted_response</th></tr></thead>\n",
       "<tbody>\n",
       "\t<tr><th scope=row>a</th><td> 1.00000000</td><td>-0.09974212</td><td> 0.17618836</td><td> 0.12212633</td><td> 0.12212633</td></tr>\n",
       "\t<tr><th scope=row>b</th><td>-0.09974212</td><td> 1.00000000</td><td>-0.00901372</td><td>-0.02418928</td><td>-0.02418928</td></tr>\n",
       "\t<tr><th scope=row>c</th><td> 0.17618836</td><td>-0.00901372</td><td> 1.00000000</td><td> 0.89421214</td><td> 0.89421214</td></tr>\n",
       "\t<tr><th scope=row>response</th><td> 0.12212633</td><td>-0.02418928</td><td> 0.89421214</td><td> 1.00000000</td><td> 1.00000000</td></tr>\n",
       "\t<tr><th scope=row>shifted_response</th><td> 0.12212633</td><td>-0.02418928</td><td> 0.89421214</td><td> 1.00000000</td><td> 1.00000000</td></tr>\n",
       "</tbody>\n",
       "</table>\n"
      ],
      "text/latex": [
       "\\begin{tabular}{r|lllll}\n",
       "  & a & b & c & response & shifted\\_response\\\\\n",
       "\\hline\n",
       "\ta &  1.00000000 & -0.09974212 &  0.17618836 &  0.12212633 &  0.12212633\\\\\n",
       "\tb & -0.09974212 &  1.00000000 & -0.00901372 & -0.02418928 & -0.02418928\\\\\n",
       "\tc &  0.17618836 & -0.00901372 &  1.00000000 &  0.89421214 &  0.89421214\\\\\n",
       "\tresponse &  0.12212633 & -0.02418928 &  0.89421214 &  1.00000000 &  1.00000000\\\\\n",
       "\tshifted\\_response &  0.12212633 & -0.02418928 &  0.89421214 &  1.00000000 &  1.00000000\\\\\n",
       "\\end{tabular}\n"
      ],
      "text/markdown": [
       "\n",
       "| <!--/--> | a | b | c | response | shifted_response | \n",
       "|---|---|---|---|---|\n",
       "| a |  1.00000000 | -0.09974212 |  0.17618836 |  0.12212633 |  0.12212633 | \n",
       "| b | -0.09974212 |  1.00000000 | -0.00901372 | -0.02418928 | -0.02418928 | \n",
       "| c |  0.17618836 | -0.00901372 |  1.00000000 |  0.89421214 |  0.89421214 | \n",
       "| response |  0.12212633 | -0.02418928 |  0.89421214 |  1.00000000 |  1.00000000 | \n",
       "| shifted_response |  0.12212633 | -0.02418928 |  0.89421214 |  1.00000000 |  1.00000000 | \n",
       "\n",
       "\n"
      ],
      "text/plain": [
       "                 a           b           c           response   \n",
       "a                 1.00000000 -0.09974212  0.17618836  0.12212633\n",
       "b                -0.09974212  1.00000000 -0.00901372 -0.02418928\n",
       "c                 0.17618836 -0.00901372  1.00000000  0.89421214\n",
       "response          0.12212633 -0.02418928  0.89421214  1.00000000\n",
       "shifted_response  0.12212633 -0.02418928  0.89421214  1.00000000\n",
       "                 shifted_response\n",
       "a                 0.12212633     \n",
       "b                -0.02418928     \n",
       "c                 0.89421214     \n",
       "response          1.00000000     \n",
       "shifted_response  1.00000000     "
      ]
     },
     "metadata": {},
     "output_type": "display_data"
    },
    {
     "data": {
      "image/png": "[encoded data removed]",
      "text/plain": [
       "plot without title"
      ]
     },
     "metadata": {},
     "output_type": "display_data"
    }
   ],
   "source": [
    "# looks like lambda \\approx 0.4\n",
    "# aka perform sqrt transformation\n",
    "boxcox(shifted_response ~ a + b + c, data=train)\n",
    "\n",
    "# some correlation between a and c\n",
    "# c holds the most correlation towards our response variable...\n",
    "cor(train)"
   ]
  },
  {
   "cell_type": "code",
   "execution_count": 56,
   "metadata": {
    "collapsed": true
   },
   "outputs": [
    {
     "data": {
      "text/plain": [
       "\n",
       "Call:\n",
       "lm(formula = sqrt(shifted_response) ~ a + b + c, data = train)\n",
       "\n",
       "Residuals:\n",
       "     Min       1Q   Median       3Q      Max \n",
       "-0.47279 -0.12352 -0.01343  0.11484  0.48119 \n",
       "\n",
       "Coefficients:\n",
       "             Estimate Std. Error t value Pr(>|t|)    \n",
       "(Intercept)  1.086134   0.048283  22.495   <2e-16 ***\n",
       "a           -0.017757   0.014499  -1.225    0.224    \n",
       "b           -0.009224   0.018905  -0.488    0.627    \n",
       "c            0.871703   0.031449  27.718   <2e-16 ***\n",
       "---\n",
       "Signif. codes:  0 '***' 0.001 '**' 0.01 '*' 0.05 '.' 0.1 ' ' 1\n",
       "\n",
       "Residual standard error: 0.1762 on 96 degrees of freedom\n",
       "Multiple R-squared:  0.8907,\tAdjusted R-squared:  0.8873 \n",
       "F-statistic: 260.8 on 3 and 96 DF,  p-value: < 2.2e-16\n"
      ]
     },
     "metadata": {},
     "output_type": "display_data"
    },
    {
     "data": {
      "text/html": [
       "<table>\n",
       "<thead><tr><th></th><th scope=col>Df</th><th scope=col>Sum Sq</th><th scope=col>Mean Sq</th><th scope=col>F value</th><th scope=col>Pr(&gt;F)</th></tr></thead>\n",
       "<tbody>\n",
       "\t<tr><th scope=row>a</th><td> 1          </td><td> 0.438700563</td><td> 0.438700563</td><td> 14.13703749</td><td>2.920839e-04</td></tr>\n",
       "\t<tr><th scope=row>b</th><td> 1          </td><td> 0.001873145</td><td> 0.001873145</td><td>  0.06036172</td><td>8.064496e-01</td></tr>\n",
       "\t<tr><th scope=row>c</th><td> 1          </td><td>23.841708168</td><td>23.841708168</td><td>768.29425432</td><td>1.330300e-47</td></tr>\n",
       "\t<tr><th scope=row>Residuals</th><td>96          </td><td> 2.979072108</td><td> 0.031032001</td><td>          NA</td><td>          NA</td></tr>\n",
       "</tbody>\n",
       "</table>\n"
      ],
      "text/latex": [
       "\\begin{tabular}{r|lllll}\n",
       "  & Df & Sum Sq & Mean Sq & F value & Pr(>F)\\\\\n",
       "\\hline\n",
       "\ta &  1           &  0.438700563 &  0.438700563 &  14.13703749 & 2.920839e-04\\\\\n",
       "\tb &  1           &  0.001873145 &  0.001873145 &   0.06036172 & 8.064496e-01\\\\\n",
       "\tc &  1           & 23.841708168 & 23.841708168 & 768.29425432 & 1.330300e-47\\\\\n",
       "\tResiduals & 96           &  2.979072108 &  0.031032001 &           NA &           NA\\\\\n",
       "\\end{tabular}\n"
      ],
      "text/markdown": [
       "\n",
       "| <!--/--> | Df | Sum Sq | Mean Sq | F value | Pr(>F) | \n",
       "|---|---|---|---|\n",
       "| a |  1           |  0.438700563 |  0.438700563 |  14.13703749 | 2.920839e-04 | \n",
       "| b |  1           |  0.001873145 |  0.001873145 |   0.06036172 | 8.064496e-01 | \n",
       "| c |  1           | 23.841708168 | 23.841708168 | 768.29425432 | 1.330300e-47 | \n",
       "| Residuals | 96           |  2.979072108 |  0.031032001 |           NA |           NA | \n",
       "\n",
       "\n"
      ],
      "text/plain": [
       "          Df Sum Sq       Mean Sq      F value      Pr(>F)      \n",
       "a          1  0.438700563  0.438700563  14.13703749 2.920839e-04\n",
       "b          1  0.001873145  0.001873145   0.06036172 8.064496e-01\n",
       "c          1 23.841708168 23.841708168 768.29425432 1.330300e-47\n",
       "Residuals 96  2.979072108  0.031032001           NA           NA"
      ]
     },
     "metadata": {},
     "output_type": "display_data"
    }
   ],
   "source": [
    "model2 = lm(sqrt(shifted_response) ~ a + b + c, data=train)\n",
    "# model2 = lm(sqrt(train$shifted_response) ~ train$a + train$b + train$c)\n",
    "summary(model2)\n",
    "anova(model2)"
   ]
  },
  {
   "cell_type": "code",
   "execution_count": 57,
   "metadata": {
    "collapsed": true
   },
   "outputs": [
    {
     "data": {
      "image/png": "[encoded data removed]",
      "text/plain": [
       "Plot with title \"Histogram of model2$residuals\""
      ]
     },
     "metadata": {},
     "output_type": "display_data"
    },
    {
     "data": {
      "image/png": "[encoded data removed]",
      "text/plain": [
       "plot without title"
      ]
     },
     "metadata": {},
     "output_type": "display_data"
    },
    {
     "data": {
      "image/png": "[encoded data removed]",
      "text/plain": [
       "plot without title"
      ]
     },
     "metadata": {},
     "output_type": "display_data"
    },
    {
     "data": {
      "image/png": "[encoded data removed]",
      "text/plain": [
       "plot without title"
      ]
     },
     "metadata": {},
     "output_type": "display_data"
    },
    {
     "data": {
      "image/png": "[encoded data removed]",
      "text/plain": [
       "plot without title"
      ]
     },
     "metadata": {},
     "output_type": "display_data"
    }
   ],
   "source": [
    "# much better normality\n",
    "hist(model2$residuals, breaks=10)\n",
    "\n",
    "# however, not nearly constant variance still\n",
    "plot(train$a, model2$residuals)\n",
    "plot(train$b, model2$residuals)\n",
    "plot(train$c, model2$residuals)\n",
    "plot(exp(train$c), model2$residuals)"
   ]
  },
  {
   "cell_type": "code",
   "execution_count": 60,
   "metadata": {},
   "outputs": [
    {
     "data": {
      "text/html": [
       "7.97237070789899"
      ],
      "text/latex": [
       "7.97237070789899"
      ],
      "text/markdown": [
       "7.97237070789899"
      ],
      "text/plain": [
       "[1] 7.972371"
      ]
     },
     "metadata": {},
     "output_type": "display_data"
    },
    {
     "data": {
      "text/html": [
       "19.046602042077"
      ],
      "text/latex": [
       "19.046602042077"
      ],
      "text/markdown": [
       "19.046602042077"
      ],
      "text/plain": [
       "[1] 19.0466"
      ]
     },
     "metadata": {},
     "output_type": "display_data"
    }
   ],
   "source": [
    "# we take the prediction values and square them since we did a sqrt transform\n",
    "# then we add the minimum shift back and subtract our epsilon from before\n",
    "predict_test = (predict(model2, test_x) ** 2) - response_shift\n",
    "\n",
    "# now we compare between our initial model and the new model\n",
    "sum((predict_test - test_y)**2)\n",
    "sum((predict(simple_model, test_x) - test_y)**2)"
   ]
  },
  {
   "cell_type": "code",
   "execution_count": 49,
   "metadata": {
    "collapsed": true
   },
   "outputs": [
    {
     "data": {
      "text/html": [
       "<table>\n",
       "<thead><tr><th></th><th scope=col>predicted</th><th scope=col>real</th></tr></thead>\n",
       "<tbody>\n",
       "\t<tr><th scope=row>101</th><td> 0.4888991 </td><td> 0.34535520</td></tr>\n",
       "\t<tr><th scope=row>102</th><td>-1.4245995 </td><td>-0.92871830</td></tr>\n",
       "\t<tr><th scope=row>103</th><td>-0.9339701 </td><td>-1.10554200</td></tr>\n",
       "\t<tr><th scope=row>104</th><td> 0.3997136 </td><td> 0.25755110</td></tr>\n",
       "\t<tr><th scope=row>105</th><td> 2.3182753 </td><td> 3.91847900</td></tr>\n",
       "\t<tr><th scope=row>106</th><td>-1.1927296 </td><td>-0.90301370</td></tr>\n",
       "\t<tr><th scope=row>107</th><td> 1.4188598 </td><td> 1.68577600</td></tr>\n",
       "\t<tr><th scope=row>108</th><td>-0.9779887 </td><td>-0.87389940</td></tr>\n",
       "\t<tr><th scope=row>109</th><td>-1.0854578 </td><td>-1.05020400</td></tr>\n",
       "\t<tr><th scope=row>110</th><td>-0.6424778 </td><td>-0.77632390</td></tr>\n",
       "\t<tr><th scope=row>111</th><td>-1.3334456 </td><td>-1.00359700</td></tr>\n",
       "\t<tr><th scope=row>112</th><td> 1.5656640 </td><td> 2.27301600</td></tr>\n",
       "\t<tr><th scope=row>113</th><td>-0.3247756 </td><td>-0.69563280</td></tr>\n",
       "\t<tr><th scope=row>114</th><td>-1.3674046 </td><td>-0.94770990</td></tr>\n",
       "\t<tr><th scope=row>115</th><td>-0.4078614 </td><td>-0.77925020</td></tr>\n",
       "\t<tr><th scope=row>116</th><td>-0.1564855 </td><td>-0.30374850</td></tr>\n",
       "\t<tr><th scope=row>117</th><td>-0.8452838 </td><td>-1.00788500</td></tr>\n",
       "\t<tr><th scope=row>118</th><td>-0.8655075 </td><td>-1.06112900</td></tr>\n",
       "\t<tr><th scope=row>119</th><td> 1.0048688 </td><td> 1.15855700</td></tr>\n",
       "\t<tr><th scope=row>120</th><td>-1.3842349 </td><td>-0.75791830</td></tr>\n",
       "\t<tr><th scope=row>121</th><td> 1.5565874 </td><td> 1.90562600</td></tr>\n",
       "\t<tr><th scope=row>122</th><td> 1.0128579 </td><td> 0.93419190</td></tr>\n",
       "\t<tr><th scope=row>123</th><td>-1.2098401 </td><td>-1.24965700</td></tr>\n",
       "\t<tr><th scope=row>124</th><td>-1.2236314 </td><td>-1.00951500</td></tr>\n",
       "\t<tr><th scope=row>125</th><td> 1.0879331 </td><td> 0.96847750</td></tr>\n",
       "\t<tr><th scope=row>126</th><td> 0.1216422 </td><td>-0.30460690</td></tr>\n",
       "\t<tr><th scope=row>127</th><td> 0.0759674 </td><td>-0.04716975</td></tr>\n",
       "\t<tr><th scope=row>128</th><td>-0.5813720 </td><td>-0.94985260</td></tr>\n",
       "\t<tr><th scope=row>129</th><td>-1.2645268 </td><td>-0.84208570</td></tr>\n",
       "\t<tr><th scope=row>130</th><td> 1.7838714 </td><td> 2.36321900</td></tr>\n",
       "\t<tr><th scope=row>131</th><td> 1.4918054 </td><td> 1.95088300</td></tr>\n",
       "\t<tr><th scope=row>132</th><td> 1.2323560 </td><td> 1.29230400</td></tr>\n",
       "\t<tr><th scope=row>133</th><td> 1.5218284 </td><td> 2.19456800</td></tr>\n",
       "\t<tr><th scope=row>134</th><td>-0.5496414 </td><td>-0.81598020</td></tr>\n",
       "\t<tr><th scope=row>135</th><td>-1.4434640 </td><td>-1.15575500</td></tr>\n",
       "\t<tr><th scope=row>136</th><td> 1.1663597 </td><td> 0.88642840</td></tr>\n",
       "\t<tr><th scope=row>137</th><td>-0.8346407 </td><td>-1.11592900</td></tr>\n",
       "\t<tr><th scope=row>138</th><td>-0.1073139 </td><td>-0.61113820</td></tr>\n",
       "\t<tr><th scope=row>139</th><td>-1.3184647 </td><td>-1.20458600</td></tr>\n",
       "\t<tr><th scope=row>140</th><td>-1.4486791 </td><td>-1.24743300</td></tr>\n",
       "\t<tr><th scope=row>141</th><td>-0.3823902 </td><td>-0.74649420</td></tr>\n",
       "\t<tr><th scope=row>142</th><td> 0.3872690 </td><td> 0.10481760</td></tr>\n",
       "\t<tr><th scope=row>143</th><td>-1.3933373 </td><td>-1.01605700</td></tr>\n",
       "\t<tr><th scope=row>144</th><td> 1.4244728 </td><td> 1.43416100</td></tr>\n",
       "\t<tr><th scope=row>145</th><td>-0.9971204 </td><td>-1.12316400</td></tr>\n",
       "\t<tr><th scope=row>146</th><td> 0.8300180 </td><td> 0.53563450</td></tr>\n",
       "\t<tr><th scope=row>147</th><td>-1.3994591 </td><td>-1.04593200</td></tr>\n",
       "\t<tr><th scope=row>148</th><td> 1.6579049 </td><td> 2.12938300</td></tr>\n",
       "\t<tr><th scope=row>149</th><td>-0.7883842 </td><td>-0.94637230</td></tr>\n",
       "\t<tr><th scope=row>150</th><td> 0.5757901 </td><td> 0.13316900</td></tr>\n",
       "</tbody>\n",
       "</table>\n"
      ],
      "text/latex": [
       "\\begin{tabular}{r|ll}\n",
       "  & predicted & real\\\\\n",
       "\\hline\n",
       "\t101 &  0.4888991  &  0.34535520\\\\\n",
       "\t102 & -1.4245995  & -0.92871830\\\\\n",
       "\t103 & -0.9339701  & -1.10554200\\\\\n",
       "\t104 &  0.3997136  &  0.25755110\\\\\n",
       "\t105 &  2.3182753  &  3.91847900\\\\\n",
       "\t106 & -1.1927296  & -0.90301370\\\\\n",
       "\t107 &  1.4188598  &  1.68577600\\\\\n",
       "\t108 & -0.9779887  & -0.87389940\\\\\n",
       "\t109 & -1.0854578  & -1.05020400\\\\\n",
       "\t110 & -0.6424778  & -0.77632390\\\\\n",
       "\t111 & -1.3334456  & -1.00359700\\\\\n",
       "\t112 &  1.5656640  &  2.27301600\\\\\n",
       "\t113 & -0.3247756  & -0.69563280\\\\\n",
       "\t114 & -1.3674046  & -0.94770990\\\\\n",
       "\t115 & -0.4078614  & -0.77925020\\\\\n",
       "\t116 & -0.1564855  & -0.30374850\\\\\n",
       "\t117 & -0.8452838  & -1.00788500\\\\\n",
       "\t118 & -0.8655075  & -1.06112900\\\\\n",
       "\t119 &  1.0048688  &  1.15855700\\\\\n",
       "\t120 & -1.3842349  & -0.75791830\\\\\n",
       "\t121 &  1.5565874  &  1.90562600\\\\\n",
       "\t122 &  1.0128579  &  0.93419190\\\\\n",
       "\t123 & -1.2098401  & -1.24965700\\\\\n",
       "\t124 & -1.2236314  & -1.00951500\\\\\n",
       "\t125 &  1.0879331  &  0.96847750\\\\\n",
       "\t126 &  0.1216422  & -0.30460690\\\\\n",
       "\t127 &  0.0759674  & -0.04716975\\\\\n",
       "\t128 & -0.5813720  & -0.94985260\\\\\n",
       "\t129 & -1.2645268  & -0.84208570\\\\\n",
       "\t130 &  1.7838714  &  2.36321900\\\\\n",
       "\t131 &  1.4918054  &  1.95088300\\\\\n",
       "\t132 &  1.2323560  &  1.29230400\\\\\n",
       "\t133 &  1.5218284  &  2.19456800\\\\\n",
       "\t134 & -0.5496414  & -0.81598020\\\\\n",
       "\t135 & -1.4434640  & -1.15575500\\\\\n",
       "\t136 &  1.1663597  &  0.88642840\\\\\n",
       "\t137 & -0.8346407  & -1.11592900\\\\\n",
       "\t138 & -0.1073139  & -0.61113820\\\\\n",
       "\t139 & -1.3184647  & -1.20458600\\\\\n",
       "\t140 & -1.4486791  & -1.24743300\\\\\n",
       "\t141 & -0.3823902  & -0.74649420\\\\\n",
       "\t142 &  0.3872690  &  0.10481760\\\\\n",
       "\t143 & -1.3933373  & -1.01605700\\\\\n",
       "\t144 &  1.4244728  &  1.43416100\\\\\n",
       "\t145 & -0.9971204  & -1.12316400\\\\\n",
       "\t146 &  0.8300180  &  0.53563450\\\\\n",
       "\t147 & -1.3994591  & -1.04593200\\\\\n",
       "\t148 &  1.6579049  &  2.12938300\\\\\n",
       "\t149 & -0.7883842  & -0.94637230\\\\\n",
       "\t150 &  0.5757901  &  0.13316900\\\\\n",
       "\\end{tabular}\n"
      ],
      "text/markdown": [
       "\n",
       "| <!--/--> | predicted | real | \n",
       "|---|---|---|---|---|---|---|---|---|---|---|---|---|---|---|---|---|---|---|---|---|---|---|---|---|---|---|---|---|---|---|---|---|---|---|---|---|---|---|---|---|---|---|---|---|---|---|---|---|---|\n",
       "| 101 |  0.4888991  |  0.34535520 | \n",
       "| 102 | -1.4245995  | -0.92871830 | \n",
       "| 103 | -0.9339701  | -1.10554200 | \n",
       "| 104 |  0.3997136  |  0.25755110 | \n",
       "| 105 |  2.3182753  |  3.91847900 | \n",
       "| 106 | -1.1927296  | -0.90301370 | \n",
       "| 107 |  1.4188598  |  1.68577600 | \n",
       "| 108 | -0.9779887  | -0.87389940 | \n",
       "| 109 | -1.0854578  | -1.05020400 | \n",
       "| 110 | -0.6424778  | -0.77632390 | \n",
       "| 111 | -1.3334456  | -1.00359700 | \n",
       "| 112 |  1.5656640  |  2.27301600 | \n",
       "| 113 | -0.3247756  | -0.69563280 | \n",
       "| 114 | -1.3674046  | -0.94770990 | \n",
       "| 115 | -0.4078614  | -0.77925020 | \n",
       "| 116 | -0.1564855  | -0.30374850 | \n",
       "| 117 | -0.8452838  | -1.00788500 | \n",
       "| 118 | -0.8655075  | -1.06112900 | \n",
       "| 119 |  1.0048688  |  1.15855700 | \n",
       "| 120 | -1.3842349  | -0.75791830 | \n",
       "| 121 |  1.5565874  |  1.90562600 | \n",
       "| 122 |  1.0128579  |  0.93419190 | \n",
       "| 123 | -1.2098401  | -1.24965700 | \n",
       "| 124 | -1.2236314  | -1.00951500 | \n",
       "| 125 |  1.0879331  |  0.96847750 | \n",
       "| 126 |  0.1216422  | -0.30460690 | \n",
       "| 127 |  0.0759674  | -0.04716975 | \n",
       "| 128 | -0.5813720  | -0.94985260 | \n",
       "| 129 | -1.2645268  | -0.84208570 | \n",
       "| 130 |  1.7838714  |  2.36321900 | \n",
       "| 131 |  1.4918054  |  1.95088300 | \n",
       "| 132 |  1.2323560  |  1.29230400 | \n",
       "| 133 |  1.5218284  |  2.19456800 | \n",
       "| 134 | -0.5496414  | -0.81598020 | \n",
       "| 135 | -1.4434640  | -1.15575500 | \n",
       "| 136 |  1.1663597  |  0.88642840 | \n",
       "| 137 | -0.8346407  | -1.11592900 | \n",
       "| 138 | -0.1073139  | -0.61113820 | \n",
       "| 139 | -1.3184647  | -1.20458600 | \n",
       "| 140 | -1.4486791  | -1.24743300 | \n",
       "| 141 | -0.3823902  | -0.74649420 | \n",
       "| 142 |  0.3872690  |  0.10481760 | \n",
       "| 143 | -1.3933373  | -1.01605700 | \n",
       "| 144 |  1.4244728  |  1.43416100 | \n",
       "| 145 | -0.9971204  | -1.12316400 | \n",
       "| 146 |  0.8300180  |  0.53563450 | \n",
       "| 147 | -1.3994591  | -1.04593200 | \n",
       "| 148 |  1.6579049  |  2.12938300 | \n",
       "| 149 | -0.7883842  | -0.94637230 | \n",
       "| 150 |  0.5757901  |  0.13316900 | \n",
       "\n",
       "\n"
      ],
      "text/plain": [
       "    predicted  real       \n",
       "101  0.4888991  0.34535520\n",
       "102 -1.4245995 -0.92871830\n",
       "103 -0.9339701 -1.10554200\n",
       "104  0.3997136  0.25755110\n",
       "105  2.3182753  3.91847900\n",
       "106 -1.1927296 -0.90301370\n",
       "107  1.4188598  1.68577600\n",
       "108 -0.9779887 -0.87389940\n",
       "109 -1.0854578 -1.05020400\n",
       "110 -0.6424778 -0.77632390\n",
       "111 -1.3334456 -1.00359700\n",
       "112  1.5656640  2.27301600\n",
       "113 -0.3247756 -0.69563280\n",
       "114 -1.3674046 -0.94770990\n",
       "115 -0.4078614 -0.77925020\n",
       "116 -0.1564855 -0.30374850\n",
       "117 -0.8452838 -1.00788500\n",
       "118 -0.8655075 -1.06112900\n",
       "119  1.0048688  1.15855700\n",
       "120 -1.3842349 -0.75791830\n",
       "121  1.5565874  1.90562600\n",
       "122  1.0128579  0.93419190\n",
       "123 -1.2098401 -1.24965700\n",
       "124 -1.2236314 -1.00951500\n",
       "125  1.0879331  0.96847750\n",
       "126  0.1216422 -0.30460690\n",
       "127  0.0759674 -0.04716975\n",
       "128 -0.5813720 -0.94985260\n",
       "129 -1.2645268 -0.84208570\n",
       "130  1.7838714  2.36321900\n",
       "131  1.4918054  1.95088300\n",
       "132  1.2323560  1.29230400\n",
       "133  1.5218284  2.19456800\n",
       "134 -0.5496414 -0.81598020\n",
       "135 -1.4434640 -1.15575500\n",
       "136  1.1663597  0.88642840\n",
       "137 -0.8346407 -1.11592900\n",
       "138 -0.1073139 -0.61113820\n",
       "139 -1.3184647 -1.20458600\n",
       "140 -1.4486791 -1.24743300\n",
       "141 -0.3823902 -0.74649420\n",
       "142  0.3872690  0.10481760\n",
       "143 -1.3933373 -1.01605700\n",
       "144  1.4244728  1.43416100\n",
       "145 -0.9971204 -1.12316400\n",
       "146  0.8300180  0.53563450\n",
       "147 -1.3994591 -1.04593200\n",
       "148  1.6579049  2.12938300\n",
       "149 -0.7883842 -0.94637230\n",
       "150  0.5757901  0.13316900"
      ]
     },
     "metadata": {},
     "output_type": "display_data"
    }
   ],
   "source": [
    "data.frame(\"predicted\"=predict_test, \"real\"=test_y$response)"
   ]
  },
  {
   "cell_type": "code",
   "execution_count": 72,
   "metadata": {
    "collapsed": true
   },
   "outputs": [
    {
     "data": {
      "text/plain": [
       "\n",
       "Call:\n",
       "lm(formula = sqrt(shifted_response) ~ a + c, data = train)\n",
       "\n",
       "Residuals:\n",
       "     Min       1Q   Median       3Q      Max \n",
       "-0.47305 -0.12293 -0.01923  0.11650  0.49798 \n",
       "\n",
       "Coefficients:\n",
       "            Estimate Std. Error t value Pr(>|t|)    \n",
       "(Intercept)  1.10231    0.03497  31.526   <2e-16 ***\n",
       "a           -0.01705    0.01437  -1.187    0.238    \n",
       "c            0.87157    0.03132  27.824   <2e-16 ***\n",
       "---\n",
       "Signif. codes:  0 '***' 0.001 '**' 0.01 '*' 0.05 '.' 0.1 ' ' 1\n",
       "\n",
       "Residual standard error: 0.1755 on 97 degrees of freedom\n",
       "Multiple R-squared:  0.8905,\tAdjusted R-squared:  0.8882 \n",
       "F-statistic: 394.2 on 2 and 97 DF,  p-value: < 2.2e-16\n"
      ]
     },
     "metadata": {},
     "output_type": "display_data"
    },
    {
     "data": {
      "text/html": [
       "<table>\n",
       "<thead><tr><th></th><th scope=col>Df</th><th scope=col>Sum Sq</th><th scope=col>Mean Sq</th><th scope=col>F value</th><th scope=col>Pr(&gt;F)</th></tr></thead>\n",
       "<tbody>\n",
       "\t<tr><th scope=row>a</th><td> 1          </td><td> 0.4387006  </td><td> 0.43870056 </td><td> 14.24896   </td><td>2.759136e-04</td></tr>\n",
       "\t<tr><th scope=row>c</th><td> 1          </td><td>23.8361938  </td><td>23.83619384 </td><td>774.19792   </td><td>4.957722e-48</td></tr>\n",
       "\t<tr><th scope=row>Residuals</th><td>97          </td><td> 2.9864596  </td><td> 0.03078824 </td><td>       NA   </td><td>          NA</td></tr>\n",
       "</tbody>\n",
       "</table>\n"
      ],
      "text/latex": [
       "\\begin{tabular}{r|lllll}\n",
       "  & Df & Sum Sq & Mean Sq & F value & Pr(>F)\\\\\n",
       "\\hline\n",
       "\ta &  1           &  0.4387006   &  0.43870056  &  14.24896    & 2.759136e-04\\\\\n",
       "\tc &  1           & 23.8361938   & 23.83619384  & 774.19792    & 4.957722e-48\\\\\n",
       "\tResiduals & 97           &  2.9864596   &  0.03078824  &        NA    &           NA\\\\\n",
       "\\end{tabular}\n"
      ],
      "text/markdown": [
       "\n",
       "| <!--/--> | Df | Sum Sq | Mean Sq | F value | Pr(>F) | \n",
       "|---|---|---|\n",
       "| a |  1           |  0.4387006   |  0.43870056  |  14.24896    | 2.759136e-04 | \n",
       "| c |  1           | 23.8361938   | 23.83619384  | 774.19792    | 4.957722e-48 | \n",
       "| Residuals | 97           |  2.9864596   |  0.03078824  |        NA    |           NA | \n",
       "\n",
       "\n"
      ],
      "text/plain": [
       "          Df Sum Sq     Mean Sq     F value   Pr(>F)      \n",
       "a          1  0.4387006  0.43870056  14.24896 2.759136e-04\n",
       "c          1 23.8361938 23.83619384 774.19792 4.957722e-48\n",
       "Residuals 97  2.9864596  0.03078824        NA           NA"
      ]
     },
     "metadata": {},
     "output_type": "display_data"
    }
   ],
   "source": [
    "model3 = lm(sqrt(shifted_response) ~ a + c, data=train)\n",
    "summary(model3)\n",
    "anova(model3)"
   ]
  },
  {
   "cell_type": "code",
   "execution_count": 101,
   "metadata": {},
   "outputs": [
    {
     "data": {
      "text/html": [
       "7.92667625261408"
      ],
      "text/latex": [
       "7.92667625261408"
      ],
      "text/markdown": [
       "7.92667625261408"
      ],
      "text/plain": [
       "[1] 7.926676"
      ]
     },
     "metadata": {},
     "output_type": "display_data"
    }
   ],
   "source": [
    "predict_test_model3 = (predict(model3, test_x) ** 2) - response_shift\n",
    "sum((predict_test_model3 - test_y)**2)"
   ]
  },
  {
   "cell_type": "code",
   "execution_count": 150,
   "metadata": {
    "collapsed": true
   },
   "outputs": [
    {
     "data": {
      "text/html": [
       "<table>\n",
       "<thead><tr><th></th><th scope=col>Df</th><th scope=col>Sum Sq</th><th scope=col>Mean Sq</th><th scope=col>F value</th><th scope=col>Pr(&gt;F)</th></tr></thead>\n",
       "<tbody>\n",
       "\t<tr><th scope=row>exp(c)</th><td> 1          </td><td>26.12280010 </td><td>26.12280010 </td><td>2370.021248 </td><td>5.632224e-69</td></tr>\n",
       "\t<tr><th scope=row>a</th><td> 1          </td><td> 0.03492462 </td><td> 0.03492462 </td><td>   3.168577 </td><td>7.826512e-02</td></tr>\n",
       "\t<tr><th scope=row>c</th><td> 1          </td><td> 0.02886211 </td><td> 0.02886211 </td><td>   2.618548 </td><td>1.089366e-01</td></tr>\n",
       "\t<tr><th scope=row>a:c</th><td> 1          </td><td> 0.02766008 </td><td> 0.02766008 </td><td>   2.509492 </td><td>1.164858e-01</td></tr>\n",
       "\t<tr><th scope=row>Residuals</th><td>95          </td><td> 1.04710707 </td><td> 0.01102218 </td><td>         NA </td><td>          NA</td></tr>\n",
       "</tbody>\n",
       "</table>\n"
      ],
      "text/latex": [
       "\\begin{tabular}{r|lllll}\n",
       "  & Df & Sum Sq & Mean Sq & F value & Pr(>F)\\\\\n",
       "\\hline\n",
       "\texp(c) &  1           & 26.12280010  & 26.12280010  & 2370.021248  & 5.632224e-69\\\\\n",
       "\ta &  1           &  0.03492462  &  0.03492462  &    3.168577  & 7.826512e-02\\\\\n",
       "\tc &  1           &  0.02886211  &  0.02886211  &    2.618548  & 1.089366e-01\\\\\n",
       "\ta:c &  1           &  0.02766008  &  0.02766008  &    2.509492  & 1.164858e-01\\\\\n",
       "\tResiduals & 95           &  1.04710707  &  0.01102218  &          NA  &           NA\\\\\n",
       "\\end{tabular}\n"
      ],
      "text/markdown": [
       "\n",
       "| <!--/--> | Df | Sum Sq | Mean Sq | F value | Pr(>F) | \n",
       "|---|---|---|---|---|\n",
       "| exp(c) |  1           | 26.12280010  | 26.12280010  | 2370.021248  | 5.632224e-69 | \n",
       "| a |  1           |  0.03492462  |  0.03492462  |    3.168577  | 7.826512e-02 | \n",
       "| c |  1           |  0.02886211  |  0.02886211  |    2.618548  | 1.089366e-01 | \n",
       "| a:c |  1           |  0.02766008  |  0.02766008  |    2.509492  | 1.164858e-01 | \n",
       "| Residuals | 95           |  1.04710707  |  0.01102218  |          NA  |           NA | \n",
       "\n",
       "\n"
      ],
      "text/plain": [
       "          Df Sum Sq      Mean Sq     F value     Pr(>F)      \n",
       "exp(c)     1 26.12280010 26.12280010 2370.021248 5.632224e-69\n",
       "a          1  0.03492462  0.03492462    3.168577 7.826512e-02\n",
       "c          1  0.02886211  0.02886211    2.618548 1.089366e-01\n",
       "a:c        1  0.02766008  0.02766008    2.509492 1.164858e-01\n",
       "Residuals 95  1.04710707  0.01102218          NA           NA"
      ]
     },
     "metadata": {},
     "output_type": "display_data"
    },
    {
     "data": {
      "text/html": [
       "<table>\n",
       "<thead><tr><th></th><th scope=col>Sum Sq</th><th scope=col>Df</th><th scope=col>F value</th><th scope=col>Pr(&gt;F)</th></tr></thead>\n",
       "<tbody>\n",
       "\t<tr><th scope=row>exp(c)</th><td>1.76016965  </td><td> 1          </td><td>159.693427  </td><td>4.641996e-22</td></tr>\n",
       "\t<tr><th scope=row>a</th><td>0.03076151  </td><td> 1          </td><td>  2.790874  </td><td>9.809406e-02</td></tr>\n",
       "\t<tr><th scope=row>c</th><td>0.02886211  </td><td> 1          </td><td>  2.618548  </td><td>1.089366e-01</td></tr>\n",
       "\t<tr><th scope=row>a:c</th><td>0.02766008  </td><td> 1          </td><td>  2.509492  </td><td>1.164858e-01</td></tr>\n",
       "\t<tr><th scope=row>Residuals</th><td>1.04710707  </td><td>95          </td><td>        NA  </td><td>          NA</td></tr>\n",
       "</tbody>\n",
       "</table>\n"
      ],
      "text/latex": [
       "\\begin{tabular}{r|llll}\n",
       "  & Sum Sq & Df & F value & Pr(>F)\\\\\n",
       "\\hline\n",
       "\texp(c) & 1.76016965   &  1           & 159.693427   & 4.641996e-22\\\\\n",
       "\ta & 0.03076151   &  1           &   2.790874   & 9.809406e-02\\\\\n",
       "\tc & 0.02886211   &  1           &   2.618548   & 1.089366e-01\\\\\n",
       "\ta:c & 0.02766008   &  1           &   2.509492   & 1.164858e-01\\\\\n",
       "\tResiduals & 1.04710707   & 95           &         NA   &           NA\\\\\n",
       "\\end{tabular}\n"
      ],
      "text/markdown": [
       "\n",
       "| <!--/--> | Sum Sq | Df | F value | Pr(>F) | \n",
       "|---|---|---|---|---|\n",
       "| exp(c) | 1.76016965   |  1           | 159.693427   | 4.641996e-22 | \n",
       "| a | 0.03076151   |  1           |   2.790874   | 9.809406e-02 | \n",
       "| c | 0.02886211   |  1           |   2.618548   | 1.089366e-01 | \n",
       "| a:c | 0.02766008   |  1           |   2.509492   | 1.164858e-01 | \n",
       "| Residuals | 1.04710707   | 95           |         NA   |           NA | \n",
       "\n",
       "\n"
      ],
      "text/plain": [
       "          Sum Sq     Df F value    Pr(>F)      \n",
       "exp(c)    1.76016965  1 159.693427 4.641996e-22\n",
       "a         0.03076151  1   2.790874 9.809406e-02\n",
       "c         0.02886211  1   2.618548 1.089366e-01\n",
       "a:c       0.02766008  1   2.509492 1.164858e-01\n",
       "Residuals 1.04710707 95         NA           NA"
      ]
     },
     "metadata": {},
     "output_type": "display_data"
    }
   ],
   "source": [
    "model4 = lm(sqrt(shifted_response) ~ exp(c) + a*c, data=train)\n",
    "anova(model4)\n",
    "Anova(model4)"
   ]
  },
  {
   "cell_type": "code",
   "execution_count": 143,
   "metadata": {},
   "outputs": [
    {
     "data": {
      "text/html": [
       "1.34014100453132"
      ],
      "text/latex": [
       "1.34014100453132"
      ],
      "text/markdown": [
       "1.34014100453132"
      ],
      "text/plain": [
       "[1] 1.340141"
      ]
     },
     "metadata": {},
     "output_type": "display_data"
    },
    {
     "data": {
      "text/html": [
       "0.0268028200906263"
      ],
      "text/latex": [
       "0.0268028200906263"
      ],
      "text/markdown": [
       "0.0268028200906263"
      ],
      "text/plain": [
       "[1] 0.02680282"
      ]
     },
     "metadata": {},
     "output_type": "display_data"
    },
    {
     "data": {
      "text/html": [
       "0.0110221797079737"
      ],
      "text/latex": [
       "0.0110221797079737"
      ],
      "text/markdown": [
       "0.0110221797079737"
      ],
      "text/plain": [
       "[1] 0.01102218"
      ]
     },
     "metadata": {},
     "output_type": "display_data"
    }
   ],
   "source": [
    "predict_test_model4 = (predict(model4, test_x) ** 2) - response_shift\n",
    "\n",
    "# SSE\n",
    "sum((predict_test_model4 - test_y)^2)\n",
    "\n",
    "# MSE of test\n",
    "mean(((predict_test_model4 - test_y)^2)$response)\n",
    "# MSE of model (residuals) against training\n",
    "anova(model4)[\"Mean Sq\"][5,1]"
   ]
  },
  {
   "cell_type": "code",
   "execution_count": 146,
   "metadata": {
    "collapsed": true
   },
   "outputs": [
    {
     "data": {
      "text/html": [
       "<table>\n",
       "<thead><tr><th></th><th scope=col>predicted</th><th scope=col>real</th></tr></thead>\n",
       "<tbody>\n",
       "\t<tr><th scope=row>101</th><td> 0.21046637</td><td> 0.34535520</td></tr>\n",
       "\t<tr><th scope=row>102</th><td>-1.25701227</td><td>-0.92871830</td></tr>\n",
       "\t<tr><th scope=row>103</th><td>-1.02647775</td><td>-1.10554200</td></tr>\n",
       "\t<tr><th scope=row>104</th><td> 0.21026714</td><td> 0.25755110</td></tr>\n",
       "\t<tr><th scope=row>105</th><td> 3.95504957</td><td> 3.91847900</td></tr>\n",
       "\t<tr><th scope=row>106</th><td>-1.12422147</td><td>-0.90301370</td></tr>\n",
       "\t<tr><th scope=row>107</th><td> 1.73279892</td><td> 1.68577600</td></tr>\n",
       "\t<tr><th scope=row>108</th><td>-1.04059451</td><td>-0.87389940</td></tr>\n",
       "\t<tr><th scope=row>109</th><td>-1.08597553</td><td>-1.05020400</td></tr>\n",
       "\t<tr><th scope=row>110</th><td>-0.84409161</td><td>-0.77632390</td></tr>\n",
       "\t<tr><th scope=row>111</th><td>-1.18215708</td><td>-1.00359700</td></tr>\n",
       "\t<tr><th scope=row>112</th><td> 2.27782661</td><td> 2.27301600</td></tr>\n",
       "\t<tr><th scope=row>113</th><td>-0.63048017</td><td>-0.69563280</td></tr>\n",
       "\t<tr><th scope=row>114</th><td>-1.27606153</td><td>-0.94770990</td></tr>\n",
       "\t<tr><th scope=row>115</th><td>-0.69251574</td><td>-0.77925020</td></tr>\n",
       "\t<tr><th scope=row>116</th><td>-0.46903552</td><td>-0.30374850</td></tr>\n",
       "\t<tr><th scope=row>117</th><td>-0.96836798</td><td>-1.00788500</td></tr>\n",
       "\t<tr><th scope=row>118</th><td>-0.97740089</td><td>-1.06112900</td></tr>\n",
       "\t<tr><th scope=row>119</th><td> 0.97457650</td><td> 1.15855700</td></tr>\n",
       "\t<tr><th scope=row>120</th><td>-1.24982578</td><td>-0.75791830</td></tr>\n",
       "\t<tr><th scope=row>121</th><td> 1.97269147</td><td> 1.90562600</td></tr>\n",
       "\t<tr><th scope=row>122</th><td> 0.95819701</td><td> 0.93419190</td></tr>\n",
       "\t<tr><th scope=row>123</th><td>-1.13207194</td><td>-1.24965700</td></tr>\n",
       "\t<tr><th scope=row>124</th><td>-1.15934622</td><td>-1.00951500</td></tr>\n",
       "\t<tr><th scope=row>125</th><td> 1.05737291</td><td> 0.96847750</td></tr>\n",
       "\t<tr><th scope=row>126</th><td>-0.21418722</td><td>-0.30460690</td></tr>\n",
       "\t<tr><th scope=row>127</th><td>-0.26601124</td><td>-0.04716975</td></tr>\n",
       "\t<tr><th scope=row>128</th><td>-0.81463073</td><td>-0.94985260</td></tr>\n",
       "\t<tr><th scope=row>129</th><td>-1.20689674</td><td>-0.84208570</td></tr>\n",
       "\t<tr><th scope=row>130</th><td> 2.46989287</td><td> 2.36321900</td></tr>\n",
       "\t<tr><th scope=row>131</th><td> 1.75493309</td><td> 1.95088300</td></tr>\n",
       "\t<tr><th scope=row>132</th><td> 1.35270673</td><td> 1.29230400</td></tr>\n",
       "\t<tr><th scope=row>133</th><td> 2.10988061</td><td> 2.19456800</td></tr>\n",
       "\t<tr><th scope=row>134</th><td>-0.78867703</td><td>-0.81598020</td></tr>\n",
       "\t<tr><th scope=row>135</th><td>-1.27430348</td><td>-1.15575500</td></tr>\n",
       "\t<tr><th scope=row>136</th><td> 1.06303600</td><td> 0.88642840</td></tr>\n",
       "\t<tr><th scope=row>137</th><td>-0.97236387</td><td>-1.11592900</td></tr>\n",
       "\t<tr><th scope=row>138</th><td>-0.44101894</td><td>-0.61113820</td></tr>\n",
       "\t<tr><th scope=row>139</th><td>-1.19748786</td><td>-1.20458600</td></tr>\n",
       "\t<tr><th scope=row>140</th><td>-1.31020905</td><td>-1.24743300</td></tr>\n",
       "\t<tr><th scope=row>141</th><td>-0.66484165</td><td>-0.74649420</td></tr>\n",
       "\t<tr><th scope=row>142</th><td> 0.02356286</td><td> 0.10481760</td></tr>\n",
       "\t<tr><th scope=row>143</th><td>-1.22193823</td><td>-1.01605700</td></tr>\n",
       "\t<tr><th scope=row>144</th><td> 1.74503449</td><td> 1.43416100</td></tr>\n",
       "\t<tr><th scope=row>145</th><td>-1.04712934</td><td>-1.12316400</td></tr>\n",
       "\t<tr><th scope=row>146</th><td> 0.61670199</td><td> 0.53563450</td></tr>\n",
       "\t<tr><th scope=row>147</th><td>-1.25544852</td><td>-1.04593200</td></tr>\n",
       "\t<tr><th scope=row>148</th><td> 2.17929698</td><td> 2.12938300</td></tr>\n",
       "\t<tr><th scope=row>149</th><td>-0.95631340</td><td>-0.94637230</td></tr>\n",
       "\t<tr><th scope=row>150</th><td> 0.30163036</td><td> 0.13316900</td></tr>\n",
       "</tbody>\n",
       "</table>\n"
      ],
      "text/latex": [
       "\\begin{tabular}{r|ll}\n",
       "  & predicted & real\\\\\n",
       "\\hline\n",
       "\t101 &  0.21046637 &  0.34535520\\\\\n",
       "\t102 & -1.25701227 & -0.92871830\\\\\n",
       "\t103 & -1.02647775 & -1.10554200\\\\\n",
       "\t104 &  0.21026714 &  0.25755110\\\\\n",
       "\t105 &  3.95504957 &  3.91847900\\\\\n",
       "\t106 & -1.12422147 & -0.90301370\\\\\n",
       "\t107 &  1.73279892 &  1.68577600\\\\\n",
       "\t108 & -1.04059451 & -0.87389940\\\\\n",
       "\t109 & -1.08597553 & -1.05020400\\\\\n",
       "\t110 & -0.84409161 & -0.77632390\\\\\n",
       "\t111 & -1.18215708 & -1.00359700\\\\\n",
       "\t112 &  2.27782661 &  2.27301600\\\\\n",
       "\t113 & -0.63048017 & -0.69563280\\\\\n",
       "\t114 & -1.27606153 & -0.94770990\\\\\n",
       "\t115 & -0.69251574 & -0.77925020\\\\\n",
       "\t116 & -0.46903552 & -0.30374850\\\\\n",
       "\t117 & -0.96836798 & -1.00788500\\\\\n",
       "\t118 & -0.97740089 & -1.06112900\\\\\n",
       "\t119 &  0.97457650 &  1.15855700\\\\\n",
       "\t120 & -1.24982578 & -0.75791830\\\\\n",
       "\t121 &  1.97269147 &  1.90562600\\\\\n",
       "\t122 &  0.95819701 &  0.93419190\\\\\n",
       "\t123 & -1.13207194 & -1.24965700\\\\\n",
       "\t124 & -1.15934622 & -1.00951500\\\\\n",
       "\t125 &  1.05737291 &  0.96847750\\\\\n",
       "\t126 & -0.21418722 & -0.30460690\\\\\n",
       "\t127 & -0.26601124 & -0.04716975\\\\\n",
       "\t128 & -0.81463073 & -0.94985260\\\\\n",
       "\t129 & -1.20689674 & -0.84208570\\\\\n",
       "\t130 &  2.46989287 &  2.36321900\\\\\n",
       "\t131 &  1.75493309 &  1.95088300\\\\\n",
       "\t132 &  1.35270673 &  1.29230400\\\\\n",
       "\t133 &  2.10988061 &  2.19456800\\\\\n",
       "\t134 & -0.78867703 & -0.81598020\\\\\n",
       "\t135 & -1.27430348 & -1.15575500\\\\\n",
       "\t136 &  1.06303600 &  0.88642840\\\\\n",
       "\t137 & -0.97236387 & -1.11592900\\\\\n",
       "\t138 & -0.44101894 & -0.61113820\\\\\n",
       "\t139 & -1.19748786 & -1.20458600\\\\\n",
       "\t140 & -1.31020905 & -1.24743300\\\\\n",
       "\t141 & -0.66484165 & -0.74649420\\\\\n",
       "\t142 &  0.02356286 &  0.10481760\\\\\n",
       "\t143 & -1.22193823 & -1.01605700\\\\\n",
       "\t144 &  1.74503449 &  1.43416100\\\\\n",
       "\t145 & -1.04712934 & -1.12316400\\\\\n",
       "\t146 &  0.61670199 &  0.53563450\\\\\n",
       "\t147 & -1.25544852 & -1.04593200\\\\\n",
       "\t148 &  2.17929698 &  2.12938300\\\\\n",
       "\t149 & -0.95631340 & -0.94637230\\\\\n",
       "\t150 &  0.30163036 &  0.13316900\\\\\n",
       "\\end{tabular}\n"
      ],
      "text/markdown": [
       "\n",
       "| <!--/--> | predicted | real | \n",
       "|---|---|---|---|---|---|---|---|---|---|---|---|---|---|---|---|---|---|---|---|---|---|---|---|---|---|---|---|---|---|---|---|---|---|---|---|---|---|---|---|---|---|---|---|---|---|---|---|---|---|\n",
       "| 101 |  0.21046637 |  0.34535520 | \n",
       "| 102 | -1.25701227 | -0.92871830 | \n",
       "| 103 | -1.02647775 | -1.10554200 | \n",
       "| 104 |  0.21026714 |  0.25755110 | \n",
       "| 105 |  3.95504957 |  3.91847900 | \n",
       "| 106 | -1.12422147 | -0.90301370 | \n",
       "| 107 |  1.73279892 |  1.68577600 | \n",
       "| 108 | -1.04059451 | -0.87389940 | \n",
       "| 109 | -1.08597553 | -1.05020400 | \n",
       "| 110 | -0.84409161 | -0.77632390 | \n",
       "| 111 | -1.18215708 | -1.00359700 | \n",
       "| 112 |  2.27782661 |  2.27301600 | \n",
       "| 113 | -0.63048017 | -0.69563280 | \n",
       "| 114 | -1.27606153 | -0.94770990 | \n",
       "| 115 | -0.69251574 | -0.77925020 | \n",
       "| 116 | -0.46903552 | -0.30374850 | \n",
       "| 117 | -0.96836798 | -1.00788500 | \n",
       "| 118 | -0.97740089 | -1.06112900 | \n",
       "| 119 |  0.97457650 |  1.15855700 | \n",
       "| 120 | -1.24982578 | -0.75791830 | \n",
       "| 121 |  1.97269147 |  1.90562600 | \n",
       "| 122 |  0.95819701 |  0.93419190 | \n",
       "| 123 | -1.13207194 | -1.24965700 | \n",
       "| 124 | -1.15934622 | -1.00951500 | \n",
       "| 125 |  1.05737291 |  0.96847750 | \n",
       "| 126 | -0.21418722 | -0.30460690 | \n",
       "| 127 | -0.26601124 | -0.04716975 | \n",
       "| 128 | -0.81463073 | -0.94985260 | \n",
       "| 129 | -1.20689674 | -0.84208570 | \n",
       "| 130 |  2.46989287 |  2.36321900 | \n",
       "| 131 |  1.75493309 |  1.95088300 | \n",
       "| 132 |  1.35270673 |  1.29230400 | \n",
       "| 133 |  2.10988061 |  2.19456800 | \n",
       "| 134 | -0.78867703 | -0.81598020 | \n",
       "| 135 | -1.27430348 | -1.15575500 | \n",
       "| 136 |  1.06303600 |  0.88642840 | \n",
       "| 137 | -0.97236387 | -1.11592900 | \n",
       "| 138 | -0.44101894 | -0.61113820 | \n",
       "| 139 | -1.19748786 | -1.20458600 | \n",
       "| 140 | -1.31020905 | -1.24743300 | \n",
       "| 141 | -0.66484165 | -0.74649420 | \n",
       "| 142 |  0.02356286 |  0.10481760 | \n",
       "| 143 | -1.22193823 | -1.01605700 | \n",
       "| 144 |  1.74503449 |  1.43416100 | \n",
       "| 145 | -1.04712934 | -1.12316400 | \n",
       "| 146 |  0.61670199 |  0.53563450 | \n",
       "| 147 | -1.25544852 | -1.04593200 | \n",
       "| 148 |  2.17929698 |  2.12938300 | \n",
       "| 149 | -0.95631340 | -0.94637230 | \n",
       "| 150 |  0.30163036 |  0.13316900 | \n",
       "\n",
       "\n"
      ],
      "text/plain": [
       "    predicted   real       \n",
       "101  0.21046637  0.34535520\n",
       "102 -1.25701227 -0.92871830\n",
       "103 -1.02647775 -1.10554200\n",
       "104  0.21026714  0.25755110\n",
       "105  3.95504957  3.91847900\n",
       "106 -1.12422147 -0.90301370\n",
       "107  1.73279892  1.68577600\n",
       "108 -1.04059451 -0.87389940\n",
       "109 -1.08597553 -1.05020400\n",
       "110 -0.84409161 -0.77632390\n",
       "111 -1.18215708 -1.00359700\n",
       "112  2.27782661  2.27301600\n",
       "113 -0.63048017 -0.69563280\n",
       "114 -1.27606153 -0.94770990\n",
       "115 -0.69251574 -0.77925020\n",
       "116 -0.46903552 -0.30374850\n",
       "117 -0.96836798 -1.00788500\n",
       "118 -0.97740089 -1.06112900\n",
       "119  0.97457650  1.15855700\n",
       "120 -1.24982578 -0.75791830\n",
       "121  1.97269147  1.90562600\n",
       "122  0.95819701  0.93419190\n",
       "123 -1.13207194 -1.24965700\n",
       "124 -1.15934622 -1.00951500\n",
       "125  1.05737291  0.96847750\n",
       "126 -0.21418722 -0.30460690\n",
       "127 -0.26601124 -0.04716975\n",
       "128 -0.81463073 -0.94985260\n",
       "129 -1.20689674 -0.84208570\n",
       "130  2.46989287  2.36321900\n",
       "131  1.75493309  1.95088300\n",
       "132  1.35270673  1.29230400\n",
       "133  2.10988061  2.19456800\n",
       "134 -0.78867703 -0.81598020\n",
       "135 -1.27430348 -1.15575500\n",
       "136  1.06303600  0.88642840\n",
       "137 -0.97236387 -1.11592900\n",
       "138 -0.44101894 -0.61113820\n",
       "139 -1.19748786 -1.20458600\n",
       "140 -1.31020905 -1.24743300\n",
       "141 -0.66484165 -0.74649420\n",
       "142  0.02356286  0.10481760\n",
       "143 -1.22193823 -1.01605700\n",
       "144  1.74503449  1.43416100\n",
       "145 -1.04712934 -1.12316400\n",
       "146  0.61670199  0.53563450\n",
       "147 -1.25544852 -1.04593200\n",
       "148  2.17929698  2.12938300\n",
       "149 -0.95631340 -0.94637230\n",
       "150  0.30163036  0.13316900"
      ]
     },
     "metadata": {},
     "output_type": "display_data"
    }
   ],
   "source": [
    "data.frame(\"predicted\"=predict_test_model4, \"real\"=test_y$response)"
   ]
  },
  {
   "cell_type": "code",
   "execution_count": 181,
   "metadata": {},
   "outputs": [],
   "source": [
    "write.table(predict_test_model4, file=\"PR1_submit.dat\", col.names = F, row.names = F)"
   ]
  }
 ],
 "metadata": {
  "kernelspec": {
   "display_name": "R",
   "language": "R",
   "name": "ir"
  },
  "language_info": {
   "codemirror_mode": "r",
   "file_extension": ".r",
   "mimetype": "text/x-r-source",
   "name": "R",
   "pygments_lexer": "r",
   "version": "3.5.1"
  },
  "toc": {
   "base_numbering": 1,
   "nav_menu": {
    "height": "284px",
    "width": "205px"
   },
   "number_sections": true,
   "sideBar": true,
   "skip_h1_title": false,
   "title_cell": "Table of Contents",
   "title_sidebar": "Contents",
   "toc_cell": false,
   "toc_position": {},
   "toc_section_display": true,
   "toc_window_display": false
  },
  "varInspector": {
   "cols": {
    "lenName": 16,
    "lenType": 16,
    "lenVar": 40
   },
   "kernels_config": {
    "python": {
     "delete_cmd_postfix": "",
     "delete_cmd_prefix": "del ",
     "library": "var_list.py",
     "varRefreshCmd": "print(var_dic_list())"
    },
    "r": {
     "delete_cmd_postfix": ") ",
     "delete_cmd_prefix": "rm(",
     "library": "var_list.r",
     "varRefreshCmd": "cat(var_dic_list()) "
    }
   },
   "position": {
    "height": "292px",
    "left": "1947px",
    "right": "20px",
    "top": "561px",
    "width": "362px"
   },
   "types_to_exclude": [
    "module",
    "function",
    "builtin_function_or_method",
    "instance",
    "_Feature"
   ],
   "window_display": true
  }
 },
 "nbformat": 4,
 "nbformat_minor": 2
}
