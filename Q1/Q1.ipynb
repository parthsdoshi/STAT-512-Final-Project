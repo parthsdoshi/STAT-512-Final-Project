{
 "cells": [
  {
   "cell_type": "code",
   "execution_count": 1,
   "metadata": {},
   "outputs": [
    {
     "name": "stderr",
     "output_type": "stream",
     "text": [
      "Loading required package: carData\n"
     ]
    }
   ],
   "source": [
    "library(\"car\")\n",
    "library(\"MASS\")"
   ]
  },
  {
   "cell_type": "code",
   "execution_count": 2,
   "metadata": {},
   "outputs": [
    {
     "data": {
      "text/html": [
       "<table>\n",
       "<thead><tr><th scope=col>a</th><th scope=col>b</th><th scope=col>c</th><th scope=col>response</th></tr></thead>\n",
       "<tbody>\n",
       "\t<tr><td>1.455183          </td><td>-1.582413         </td><td>-0.79986699       </td><td>-1.19644881450559 </td></tr>\n",
       "\t<tr><td>5.611342          </td><td>-1.623126         </td><td>-0.02688283       </td><td>-0.768555417215431</td></tr>\n",
       "\t<tr><td>1.273810          </td><td>-1.550128         </td><td> 0.29150806       </td><td>-0.230361659426824</td></tr>\n",
       "\t<tr><td>1.307202          </td><td>-2.694407         </td><td>-0.68601789       </td><td>-1.16303941768924 </td></tr>\n",
       "\t<tr><td>4.300929          </td><td>-1.154743         </td><td>-0.39088466       </td><td>-1.0131776860767  </td></tr>\n",
       "\t<tr><td>1.742520          </td><td>-2.284435         </td><td> 0.74478268       </td><td>1.90115049535415  </td></tr>\n",
       "</tbody>\n",
       "</table>\n"
      ],
      "text/latex": [
       "\\begin{tabular}{r|llll}\n",
       " a & b & c & response\\\\\n",
       "\\hline\n",
       "\t 1.455183           & -1.582413          & -0.79986699        & -1.19644881450559 \\\\\n",
       "\t 5.611342           & -1.623126          & -0.02688283        & -0.768555417215431\\\\\n",
       "\t 1.273810           & -1.550128          &  0.29150806        & -0.230361659426824\\\\\n",
       "\t 1.307202           & -2.694407          & -0.68601789        & -1.16303941768924 \\\\\n",
       "\t 4.300929           & -1.154743          & -0.39088466        & -1.0131776860767  \\\\\n",
       "\t 1.742520           & -2.284435          &  0.74478268        & 1.90115049535415  \\\\\n",
       "\\end{tabular}\n"
      ],
      "text/markdown": [
       "\n",
       "a | b | c | response | \n",
       "|---|---|---|---|---|---|\n",
       "| 1.455183           | -1.582413          | -0.79986699        | -1.19644881450559  | \n",
       "| 5.611342           | -1.623126          | -0.02688283        | -0.768555417215431 | \n",
       "| 1.273810           | -1.550128          |  0.29150806        | -0.230361659426824 | \n",
       "| 1.307202           | -2.694407          | -0.68601789        | -1.16303941768924  | \n",
       "| 4.300929           | -1.154743          | -0.39088466        | -1.0131776860767   | \n",
       "| 1.742520           | -2.284435          |  0.74478268        | 1.90115049535415   | \n",
       "\n",
       "\n"
      ],
      "text/plain": [
       "  a        b         c           response          \n",
       "1 1.455183 -1.582413 -0.79986699 -1.19644881450559 \n",
       "2 5.611342 -1.623126 -0.02688283 -0.768555417215431\n",
       "3 1.273810 -1.550128  0.29150806 -0.230361659426824\n",
       "4 1.307202 -2.694407 -0.68601789 -1.16303941768924 \n",
       "5 4.300929 -1.154743 -0.39088466 -1.0131776860767  \n",
       "6 1.742520 -2.284435  0.74478268 1.90115049535415  "
      ]
     },
     "metadata": {},
     "output_type": "display_data"
    }
   ],
   "source": [
    "q1 <- read.table(\n",
    "  \"finaltr1.dat\",\n",
    "  header = F,\n",
    "  as.is = T,\n",
    "  col.names = c('a', 'b', 'c', 'response')\n",
    ")\n",
    "c = ncol(q1)\n",
    "r = nrow(q1)\n",
    "\n",
    "head(q1)"
   ]
  },
  {
   "cell_type": "code",
   "execution_count": 3,
   "metadata": {
    "collapsed": true
   },
   "outputs": [
    {
     "data": {
      "text/html": [
       "<table>\n",
       "<thead><tr><th></th><th scope=col>a</th><th scope=col>b</th><th scope=col>c</th><th scope=col>response</th></tr></thead>\n",
       "<tbody>\n",
       "\t<tr><th scope=row>95</th><td>1.105754   </td><td>-1.657824  </td><td>-0.80571028</td><td>-1.0608188 </td></tr>\n",
       "\t<tr><th scope=row>96</th><td>2.129337   </td><td>-2.083347  </td><td> 0.76122157</td><td> 2.0030739 </td></tr>\n",
       "\t<tr><th scope=row>97</th><td>3.607869   </td><td>-1.272318  </td><td> 0.82529508</td><td> 2.2856915 </td></tr>\n",
       "\t<tr><th scope=row>98</th><td>2.664642   </td><td>-2.438818  </td><td>-0.46545227</td><td>-1.1249455 </td></tr>\n",
       "\t<tr><th scope=row>99</th><td>1.033070   </td><td>-1.512141  </td><td>-0.18543966</td><td>-0.9702493 </td></tr>\n",
       "\t<tr><th scope=row>100</th><td>1.424522   </td><td>-1.655860  </td><td>-0.07311719</td><td>-0.9193153 </td></tr>\n",
       "</tbody>\n",
       "</table>\n"
      ],
      "text/latex": [
       "\\begin{tabular}{r|llll}\n",
       "  & a & b & c & response\\\\\n",
       "\\hline\n",
       "\t95 & 1.105754    & -1.657824   & -0.80571028 & -1.0608188 \\\\\n",
       "\t96 & 2.129337    & -2.083347   &  0.76122157 &  2.0030739 \\\\\n",
       "\t97 & 3.607869    & -1.272318   &  0.82529508 &  2.2856915 \\\\\n",
       "\t98 & 2.664642    & -2.438818   & -0.46545227 & -1.1249455 \\\\\n",
       "\t99 & 1.033070    & -1.512141   & -0.18543966 & -0.9702493 \\\\\n",
       "\t100 & 1.424522    & -1.655860   & -0.07311719 & -0.9193153 \\\\\n",
       "\\end{tabular}\n"
      ],
      "text/markdown": [
       "\n",
       "| <!--/--> | a | b | c | response | \n",
       "|---|---|---|---|---|---|\n",
       "| 95 | 1.105754    | -1.657824   | -0.80571028 | -1.0608188  | \n",
       "| 96 | 2.129337    | -2.083347   |  0.76122157 |  2.0030739  | \n",
       "| 97 | 3.607869    | -1.272318   |  0.82529508 |  2.2856915  | \n",
       "| 98 | 2.664642    | -2.438818   | -0.46545227 | -1.1249455  | \n",
       "| 99 | 1.033070    | -1.512141   | -0.18543966 | -0.9702493  | \n",
       "| 100 | 1.424522    | -1.655860   | -0.07311719 | -0.9193153  | \n",
       "\n",
       "\n"
      ],
      "text/plain": [
       "    a        b         c           response  \n",
       "95  1.105754 -1.657824 -0.80571028 -1.0608188\n",
       "96  2.129337 -2.083347  0.76122157  2.0030739\n",
       "97  3.607869 -1.272318  0.82529508  2.2856915\n",
       "98  2.664642 -2.438818 -0.46545227 -1.1249455\n",
       "99  1.033070 -1.512141 -0.18543966 -0.9702493\n",
       "100 1.424522 -1.655860 -0.07311719 -0.9193153"
      ]
     },
     "metadata": {},
     "output_type": "display_data"
    },
    {
     "data": {
      "text/html": [
       "<table>\n",
       "<thead><tr><th></th><th scope=col>a</th><th scope=col>b</th><th scope=col>c</th></tr></thead>\n",
       "<tbody>\n",
       "\t<tr><th scope=row>101</th><td>1.725541  </td><td>-1.053257 </td><td> 0.3883433</td></tr>\n",
       "\t<tr><th scope=row>102</th><td>1.787613  </td><td>-1.736316 </td><td>-0.9541755</td></tr>\n",
       "\t<tr><th scope=row>103</th><td>1.658986  </td><td>-3.031713 </td><td>-0.3953767</td></tr>\n",
       "\t<tr><th scope=row>104</th><td>4.408264  </td><td>-1.004072 </td><td> 0.4066485</td></tr>\n",
       "\t<tr><th scope=row>105</th><td>1.100892  </td><td>-1.433089 </td><td> 0.9974857</td></tr>\n",
       "\t<tr><th scope=row>106</th><td>1.253575  </td><td>-1.063971 </td><td>-0.6151925</td></tr>\n",
       "</tbody>\n",
       "</table>\n"
      ],
      "text/latex": [
       "\\begin{tabular}{r|lll}\n",
       "  & a & b & c\\\\\n",
       "\\hline\n",
       "\t101 & 1.725541   & -1.053257  &  0.3883433\\\\\n",
       "\t102 & 1.787613   & -1.736316  & -0.9541755\\\\\n",
       "\t103 & 1.658986   & -3.031713  & -0.3953767\\\\\n",
       "\t104 & 4.408264   & -1.004072  &  0.4066485\\\\\n",
       "\t105 & 1.100892   & -1.433089  &  0.9974857\\\\\n",
       "\t106 & 1.253575   & -1.063971  & -0.6151925\\\\\n",
       "\\end{tabular}\n"
      ],
      "text/markdown": [
       "\n",
       "| <!--/--> | a | b | c | \n",
       "|---|---|---|---|---|---|\n",
       "| 101 | 1.725541   | -1.053257  |  0.3883433 | \n",
       "| 102 | 1.787613   | -1.736316  | -0.9541755 | \n",
       "| 103 | 1.658986   | -3.031713  | -0.3953767 | \n",
       "| 104 | 4.408264   | -1.004072  |  0.4066485 | \n",
       "| 105 | 1.100892   | -1.433089  |  0.9974857 | \n",
       "| 106 | 1.253575   | -1.063971  | -0.6151925 | \n",
       "\n",
       "\n"
      ],
      "text/plain": [
       "    a        b         c         \n",
       "101 1.725541 -1.053257  0.3883433\n",
       "102 1.787613 -1.736316 -0.9541755\n",
       "103 1.658986 -3.031713 -0.3953767\n",
       "104 4.408264 -1.004072  0.4066485\n",
       "105 1.100892 -1.433089  0.9974857\n",
       "106 1.253575 -1.063971 -0.6151925"
      ]
     },
     "metadata": {},
     "output_type": "display_data"
    },
    {
     "data": {
      "text/html": [
       "<table>\n",
       "<thead><tr><th scope=col>response</th></tr></thead>\n",
       "<tbody>\n",
       "\t<tr><td> 0.3453552</td></tr>\n",
       "\t<tr><td>-0.9287183</td></tr>\n",
       "\t<tr><td>-1.1055420</td></tr>\n",
       "\t<tr><td> 0.2575511</td></tr>\n",
       "\t<tr><td> 3.9184790</td></tr>\n",
       "\t<tr><td>-0.9030137</td></tr>\n",
       "</tbody>\n",
       "</table>\n"
      ],
      "text/latex": [
       "\\begin{tabular}{r|l}\n",
       " response\\\\\n",
       "\\hline\n",
       "\t  0.3453552\\\\\n",
       "\t -0.9287183\\\\\n",
       "\t -1.1055420\\\\\n",
       "\t  0.2575511\\\\\n",
       "\t  3.9184790\\\\\n",
       "\t -0.9030137\\\\\n",
       "\\end{tabular}\n"
      ],
      "text/markdown": [
       "\n",
       "response | \n",
       "|---|---|---|---|---|---|\n",
       "|  0.3453552 | \n",
       "| -0.9287183 | \n",
       "| -1.1055420 | \n",
       "|  0.2575511 | \n",
       "|  3.9184790 | \n",
       "| -0.9030137 | \n",
       "\n",
       "\n"
      ],
      "text/plain": [
       "  response  \n",
       "1  0.3453552\n",
       "2 -0.9287183\n",
       "3 -1.1055420\n",
       "4  0.2575511\n",
       "5  3.9184790\n",
       "6 -0.9030137"
      ]
     },
     "metadata": {},
     "output_type": "display_data"
    }
   ],
   "source": [
    "train = q1[1:100,]\n",
    "train$response = as.numeric(train$response)\n",
    "test_x = q1[101:nrow(q1),][,c(\"a\",\"b\",\"c\")]\n",
    "test_y = read.table(\"finalprq1.dat\", header = F, as.is = T, col.names = c('response'))\n",
    "\n",
    "tail(train)\n",
    "head(test_x)\n",
    "head(test_y)"
   ]
  },
  {
   "cell_type": "code",
   "execution_count": 33,
   "metadata": {
    "collapsed": true
   },
   "outputs": [
    {
     "data": {
      "image/png": "[encoded data removed]",
      "text/plain": [
       "Plot with title \"response vs a\""
      ]
     },
     "metadata": {},
     "output_type": "display_data"
    },
    {
     "data": {
      "image/png": "[encoded data removed]",
      "text/plain": [
       "Plot with title \"response vs b\""
      ]
     },
     "metadata": {},
     "output_type": "display_data"
    },
    {
     "data": {
      "image/png": "[encoded data removed]",
      "text/plain": [
       "Plot with title \"response vs c\""
      ]
     },
     "metadata": {},
     "output_type": "display_data"
    }
   ],
   "source": [
    "plot(train$a, train$response, sub=\"Parth Doshi\", main=\"response vs a\")\n",
    "plot(train$b, train$response, sub=\"Parth Doshi\", main=\"response vs b\")\n",
    "plot(train$c, train$response, sub=\"Parth Doshi\", main=\"response vs c\")"
   ]
  },
  {
   "cell_type": "code",
   "execution_count": 41,
   "metadata": {
    "collapsed": true
   },
   "outputs": [
    {
     "data": {
      "image/png": "[encoded data removed]",
      "text/plain": [
       "Plot with title \"response vs exp(c)\""
      ]
     },
     "metadata": {},
     "output_type": "display_data"
    }
   ],
   "source": [
    "plot(response ~ exp(c), data=train, sub=\"Parth Doshi\", main=\"response vs exp(c)\")"
   ]
  },
  {
   "cell_type": "code",
   "execution_count": 44,
   "metadata": {
    "collapsed": true
   },
   "outputs": [
    {
     "data": {
      "text/plain": [
       "\n",
       "Call:\n",
       "lm(formula = response ~ exp(c), data = train)\n",
       "\n",
       "Residuals:\n",
       "     Min       1Q   Median       3Q      Max \n",
       "-0.50301 -0.20405 -0.00812  0.17516  0.80050 \n",
       "\n",
       "Coefficients:\n",
       "            Estimate Std. Error t value Pr(>|t|)    \n",
       "(Intercept) -2.37160    0.06618  -35.83   <2e-16 ***\n",
       "exp(c)       1.96212    0.04875   40.25   <2e-16 ***\n",
       "---\n",
       "Signif. codes:  0 '***' 0.001 '**' 0.01 '*' 0.05 '.' 0.1 ' ' 1\n",
       "\n",
       "Residual standard error: 0.311 on 98 degrees of freedom\n",
       "Multiple R-squared:  0.943,\tAdjusted R-squared:  0.9424 \n",
       "F-statistic:  1620 on 1 and 98 DF,  p-value: < 2.2e-16\n"
      ]
     },
     "metadata": {},
     "output_type": "display_data"
    },
    {
     "data": {
      "text/html": [
       "<table>\n",
       "<thead><tr><th></th><th scope=col>Df</th><th scope=col>Sum Sq</th><th scope=col>Mean Sq</th><th scope=col>F value</th><th scope=col>Pr(&gt;F)</th></tr></thead>\n",
       "<tbody>\n",
       "\t<tr><th scope=row>exp(c)</th><td> 1          </td><td>156.708546  </td><td>156.70854592</td><td>1620.139    </td><td>9.33101e-63 </td></tr>\n",
       "\t<tr><th scope=row>Residuals</th><td>98          </td><td>  9.479085  </td><td>  0.09672536</td><td>      NA    </td><td>         NA </td></tr>\n",
       "</tbody>\n",
       "</table>\n"
      ],
      "text/latex": [
       "\\begin{tabular}{r|lllll}\n",
       "  & Df & Sum Sq & Mean Sq & F value & Pr(>F)\\\\\n",
       "\\hline\n",
       "\texp(c) &  1           & 156.708546   & 156.70854592 & 1620.139     & 9.33101e-63 \\\\\n",
       "\tResiduals & 98           &   9.479085   &   0.09672536 &       NA     &          NA \\\\\n",
       "\\end{tabular}\n"
      ],
      "text/markdown": [
       "\n",
       "| <!--/--> | Df | Sum Sq | Mean Sq | F value | Pr(>F) | \n",
       "|---|---|\n",
       "| exp(c) |  1           | 156.708546   | 156.70854592 | 1620.139     | 9.33101e-63  | \n",
       "| Residuals | 98           |   9.479085   |   0.09672536 |       NA     |          NA  | \n",
       "\n",
       "\n"
      ],
      "text/plain": [
       "          Df Sum Sq     Mean Sq      F value  Pr(>F)     \n",
       "exp(c)     1 156.708546 156.70854592 1620.139 9.33101e-63\n",
       "Residuals 98   9.479085   0.09672536       NA          NA"
      ]
     },
     "metadata": {},
     "output_type": "display_data"
    },
    {
     "data": {
      "image/png": "[encoded data removed]",
      "text/plain": [
       "plot without title"
      ]
     },
     "metadata": {},
     "output_type": "display_data"
    },
    {
     "data": {
      "image/png": "[encoded data removed]",
      "text/plain": [
       "Plot with title \"Histogram of simple_model$residuals\""
      ]
     },
     "metadata": {},
     "output_type": "display_data"
    },
    {
     "data": {
      "image/png": "[encoded data removed]",
      "text/plain": [
       "Plot with title \"Normal Q-Q Plot\""
      ]
     },
     "metadata": {},
     "output_type": "display_data"
    }
   ],
   "source": [
    "simple_model = lm(response ~ exp(c), data=train)\n",
    "summary(simple_model)\n",
    "anova(simple_model)\n",
    "\n",
    "# we see that response can be negative, we should shift it\n",
    "plot(exp(train$c), simple_model$residuals)\n",
    "\n",
    "# right skewed residuals although still normal mostly\n",
    "hist(simple_model$residuals)\n",
    "qqnorm(simple_model$residuals)\n",
    "qqline(simple_model$residuals)"
   ]
  },
  {
   "cell_type": "code",
   "execution_count": 43,
   "metadata": {
    "collapsed": true
   },
   "outputs": [
    {
     "data": {
      "image/png": "[encoded data removed]",
      "text/plain": [
       "Plot with title \"residuals vs exp(c)\""
      ]
     },
     "metadata": {},
     "output_type": "display_data"
    }
   ],
   "source": [
    "plot(simple_model$residuals ~ exp(c), data=train, sub=\"Parth Doshi\", main=\"residuals vs exp(c)\")"
   ]
  },
  {
   "cell_type": "code",
   "execution_count": 7,
   "metadata": {},
   "outputs": [],
   "source": [
    "# we add 10^(-5) because we need every value to be positive, not just 0\n",
    "response_shift = abs(min(train$response)) + 10e-5\n",
    "train$shifted_response = train$response + response_shift"
   ]
  },
  {
   "cell_type": "code",
   "execution_count": 8,
   "metadata": {
    "collapsed": true
   },
   "outputs": [
    {
     "data": {
      "text/html": [
       "<table>\n",
       "<thead><tr><th></th><th scope=col>a</th><th scope=col>b</th><th scope=col>c</th><th scope=col>response</th><th scope=col>shifted_response</th></tr></thead>\n",
       "<tbody>\n",
       "\t<tr><th scope=row>a</th><td> 1.00000000</td><td>-0.09974212</td><td> 0.17618836</td><td> 0.12212633</td><td> 0.12212633</td></tr>\n",
       "\t<tr><th scope=row>b</th><td>-0.09974212</td><td> 1.00000000</td><td>-0.00901372</td><td>-0.02418928</td><td>-0.02418928</td></tr>\n",
       "\t<tr><th scope=row>c</th><td> 0.17618836</td><td>-0.00901372</td><td> 1.00000000</td><td> 0.89421214</td><td> 0.89421214</td></tr>\n",
       "\t<tr><th scope=row>response</th><td> 0.12212633</td><td>-0.02418928</td><td> 0.89421214</td><td> 1.00000000</td><td> 1.00000000</td></tr>\n",
       "\t<tr><th scope=row>shifted_response</th><td> 0.12212633</td><td>-0.02418928</td><td> 0.89421214</td><td> 1.00000000</td><td> 1.00000000</td></tr>\n",
       "</tbody>\n",
       "</table>\n"
      ],
      "text/latex": [
       "\\begin{tabular}{r|lllll}\n",
       "  & a & b & c & response & shifted\\_response\\\\\n",
       "\\hline\n",
       "\ta &  1.00000000 & -0.09974212 &  0.17618836 &  0.12212633 &  0.12212633\\\\\n",
       "\tb & -0.09974212 &  1.00000000 & -0.00901372 & -0.02418928 & -0.02418928\\\\\n",
       "\tc &  0.17618836 & -0.00901372 &  1.00000000 &  0.89421214 &  0.89421214\\\\\n",
       "\tresponse &  0.12212633 & -0.02418928 &  0.89421214 &  1.00000000 &  1.00000000\\\\\n",
       "\tshifted\\_response &  0.12212633 & -0.02418928 &  0.89421214 &  1.00000000 &  1.00000000\\\\\n",
       "\\end{tabular}\n"
      ],
      "text/markdown": [
       "\n",
       "| <!--/--> | a | b | c | response | shifted_response | \n",
       "|---|---|---|---|---|\n",
       "| a |  1.00000000 | -0.09974212 |  0.17618836 |  0.12212633 |  0.12212633 | \n",
       "| b | -0.09974212 |  1.00000000 | -0.00901372 | -0.02418928 | -0.02418928 | \n",
       "| c |  0.17618836 | -0.00901372 |  1.00000000 |  0.89421214 |  0.89421214 | \n",
       "| response |  0.12212633 | -0.02418928 |  0.89421214 |  1.00000000 |  1.00000000 | \n",
       "| shifted_response |  0.12212633 | -0.02418928 |  0.89421214 |  1.00000000 |  1.00000000 | \n",
       "\n",
       "\n"
      ],
      "text/plain": [
       "                 a           b           c           response   \n",
       "a                 1.00000000 -0.09974212  0.17618836  0.12212633\n",
       "b                -0.09974212  1.00000000 -0.00901372 -0.02418928\n",
       "c                 0.17618836 -0.00901372  1.00000000  0.89421214\n",
       "response          0.12212633 -0.02418928  0.89421214  1.00000000\n",
       "shifted_response  0.12212633 -0.02418928  0.89421214  1.00000000\n",
       "                 shifted_response\n",
       "a                 0.12212633     \n",
       "b                -0.02418928     \n",
       "c                 0.89421214     \n",
       "response          1.00000000     \n",
       "shifted_response  1.00000000     "
      ]
     },
     "metadata": {},
     "output_type": "display_data"
    },
    {
     "data": {
      "image/png": "[encoded data removed]",
      "text/plain": [
       "plot without title"
      ]
     },
     "metadata": {},
     "output_type": "display_data"
    }
   ],
   "source": [
    "# looks like lambda \\approx 0.4\n",
    "# aka perform sqrt transformation\n",
    "boxcox(shifted_response ~ a + b + c, data=train)\n",
    "\n",
    "# some correlation between a and c\n",
    "# c holds the most correlation towards our response variable...\n",
    "cor(train)"
   ]
  },
  {
   "cell_type": "code",
   "execution_count": 9,
   "metadata": {
    "collapsed": true
   },
   "outputs": [
    {
     "data": {
      "text/plain": [
       "\n",
       "Call:\n",
       "lm(formula = sqrt(shifted_response) ~ a + b + c, data = train)\n",
       "\n",
       "Residuals:\n",
       "     Min       1Q   Median       3Q      Max \n",
       "-0.47279 -0.12352 -0.01343  0.11484  0.48119 \n",
       "\n",
       "Coefficients:\n",
       "             Estimate Std. Error t value Pr(>|t|)    \n",
       "(Intercept)  1.086134   0.048283  22.495   <2e-16 ***\n",
       "a           -0.017757   0.014499  -1.225    0.224    \n",
       "b           -0.009224   0.018905  -0.488    0.627    \n",
       "c            0.871703   0.031449  27.718   <2e-16 ***\n",
       "---\n",
       "Signif. codes:  0 '***' 0.001 '**' 0.01 '*' 0.05 '.' 0.1 ' ' 1\n",
       "\n",
       "Residual standard error: 0.1762 on 96 degrees of freedom\n",
       "Multiple R-squared:  0.8907,\tAdjusted R-squared:  0.8873 \n",
       "F-statistic: 260.8 on 3 and 96 DF,  p-value: < 2.2e-16\n"
      ]
     },
     "metadata": {},
     "output_type": "display_data"
    },
    {
     "data": {
      "text/html": [
       "<table>\n",
       "<thead><tr><th></th><th scope=col>Df</th><th scope=col>Sum Sq</th><th scope=col>Mean Sq</th><th scope=col>F value</th><th scope=col>Pr(&gt;F)</th></tr></thead>\n",
       "<tbody>\n",
       "\t<tr><th scope=row>a</th><td> 1          </td><td> 0.438700563</td><td> 0.438700563</td><td> 14.13703749</td><td>2.920839e-04</td></tr>\n",
       "\t<tr><th scope=row>b</th><td> 1          </td><td> 0.001873145</td><td> 0.001873145</td><td>  0.06036172</td><td>8.064496e-01</td></tr>\n",
       "\t<tr><th scope=row>c</th><td> 1          </td><td>23.841708168</td><td>23.841708168</td><td>768.29425432</td><td>1.330300e-47</td></tr>\n",
       "\t<tr><th scope=row>Residuals</th><td>96          </td><td> 2.979072108</td><td> 0.031032001</td><td>          NA</td><td>          NA</td></tr>\n",
       "</tbody>\n",
       "</table>\n"
      ],
      "text/latex": [
       "\\begin{tabular}{r|lllll}\n",
       "  & Df & Sum Sq & Mean Sq & F value & Pr(>F)\\\\\n",
       "\\hline\n",
       "\ta &  1           &  0.438700563 &  0.438700563 &  14.13703749 & 2.920839e-04\\\\\n",
       "\tb &  1           &  0.001873145 &  0.001873145 &   0.06036172 & 8.064496e-01\\\\\n",
       "\tc &  1           & 23.841708168 & 23.841708168 & 768.29425432 & 1.330300e-47\\\\\n",
       "\tResiduals & 96           &  2.979072108 &  0.031032001 &           NA &           NA\\\\\n",
       "\\end{tabular}\n"
      ],
      "text/markdown": [
       "\n",
       "| <!--/--> | Df | Sum Sq | Mean Sq | F value | Pr(>F) | \n",
       "|---|---|---|---|\n",
       "| a |  1           |  0.438700563 |  0.438700563 |  14.13703749 | 2.920839e-04 | \n",
       "| b |  1           |  0.001873145 |  0.001873145 |   0.06036172 | 8.064496e-01 | \n",
       "| c |  1           | 23.841708168 | 23.841708168 | 768.29425432 | 1.330300e-47 | \n",
       "| Residuals | 96           |  2.979072108 |  0.031032001 |           NA |           NA | \n",
       "\n",
       "\n"
      ],
      "text/plain": [
       "          Df Sum Sq       Mean Sq      F value      Pr(>F)      \n",
       "a          1  0.438700563  0.438700563  14.13703749 2.920839e-04\n",
       "b          1  0.001873145  0.001873145   0.06036172 8.064496e-01\n",
       "c          1 23.841708168 23.841708168 768.29425432 1.330300e-47\n",
       "Residuals 96  2.979072108  0.031032001           NA           NA"
      ]
     },
     "metadata": {},
     "output_type": "display_data"
    }
   ],
   "source": [
    "model2 = lm(sqrt(shifted_response) ~ a + b + c, data=train)\n",
    "# model2 = lm(sqrt(train$shifted_response) ~ train$a + train$b + train$c)\n",
    "summary(model2)\n",
    "anova(model2)"
   ]
  },
  {
   "cell_type": "code",
   "execution_count": 10,
   "metadata": {
    "collapsed": true
   },
   "outputs": [
    {
     "data": {
      "image/png": "[encoded data removed]",
      "text/plain": [
       "Plot with title \"Histogram of model2$residuals\""
      ]
     },
     "metadata": {},
     "output_type": "display_data"
    },
    {
     "data": {
      "image/png": "[encoded data removed]",
      "text/plain": [
       "plot without title"
      ]
     },
     "metadata": {},
     "output_type": "display_data"
    },
    {
     "data": {
      "image/png": "[encoded data removed]",
      "text/plain": [
       "plot without title"
      ]
     },
     "metadata": {},
     "output_type": "display_data"
    },
    {
     "data": {
      "image/png": "[encoded data removed]",
      "text/plain": [
       "plot without title"
      ]
     },
     "metadata": {},
     "output_type": "display_data"
    },
    {
     "data": {
      "image/png": "[encoded data removed]",
      "text/plain": [
       "plot without title"
      ]
     },
     "metadata": {},
     "output_type": "display_data"
    }
   ],
   "source": [
    "# much better normality\n",
    "hist(model2$residuals, breaks=10)\n",
    "\n",
    "# however, not nearly constant variance still\n",
    "plot(train$a, model2$residuals)\n",
    "plot(train$b, model2$residuals)\n",
    "plot(train$c, model2$residuals)\n",
    "plot(exp(train$c), model2$residuals)"
   ]
  },
  {
   "cell_type": "code",
   "execution_count": 11,
   "metadata": {},
   "outputs": [
    {
     "data": {
      "text/html": [
       "7.97237070789899"
      ],
      "text/latex": [
       "7.97237070789899"
      ],
      "text/markdown": [
       "7.97237070789899"
      ],
      "text/plain": [
       "[1] 7.972371"
      ]
     },
     "metadata": {},
     "output_type": "display_data"
    },
    {
     "data": {
      "text/html": [
       "6.24193504767134"
      ],
      "text/latex": [
       "6.24193504767134"
      ],
      "text/markdown": [
       "6.24193504767134"
      ],
      "text/plain": [
       "[1] 6.241935"
      ]
     },
     "metadata": {},
     "output_type": "display_data"
    }
   ],
   "source": [
    "# we take the prediction values and square them since we did a sqrt transform\n",
    "# then we add the minimum shift back and subtract our epsilon from before\n",
    "predict_test = (predict(model2, test_x) ** 2) - response_shift\n",
    "\n",
    "# now we compare between our initial model and the new model\n",
    "sum((predict_test - test_y)**2)\n",
    "sum((predict(simple_model, test_x) - test_y)**2)"
   ]
  },
  {
   "cell_type": "code",
   "execution_count": 12,
   "metadata": {},
   "outputs": [
    {
     "data": {
      "text/html": [
       "<table>\n",
       "<thead><tr><th></th><th scope=col>predicted</th><th scope=col>real</th></tr></thead>\n",
       "<tbody>\n",
       "\t<tr><th scope=row>101</th><td> 0.4888991 </td><td> 0.34535520</td></tr>\n",
       "\t<tr><th scope=row>102</th><td>-1.4245995 </td><td>-0.92871830</td></tr>\n",
       "\t<tr><th scope=row>103</th><td>-0.9339701 </td><td>-1.10554200</td></tr>\n",
       "\t<tr><th scope=row>104</th><td> 0.3997136 </td><td> 0.25755110</td></tr>\n",
       "\t<tr><th scope=row>105</th><td> 2.3182753 </td><td> 3.91847900</td></tr>\n",
       "\t<tr><th scope=row>106</th><td>-1.1927296 </td><td>-0.90301370</td></tr>\n",
       "\t<tr><th scope=row>107</th><td> 1.4188598 </td><td> 1.68577600</td></tr>\n",
       "\t<tr><th scope=row>108</th><td>-0.9779887 </td><td>-0.87389940</td></tr>\n",
       "\t<tr><th scope=row>109</th><td>-1.0854578 </td><td>-1.05020400</td></tr>\n",
       "\t<tr><th scope=row>110</th><td>-0.6424778 </td><td>-0.77632390</td></tr>\n",
       "\t<tr><th scope=row>111</th><td>-1.3334456 </td><td>-1.00359700</td></tr>\n",
       "\t<tr><th scope=row>112</th><td> 1.5656640 </td><td> 2.27301600</td></tr>\n",
       "\t<tr><th scope=row>113</th><td>-0.3247756 </td><td>-0.69563280</td></tr>\n",
       "\t<tr><th scope=row>114</th><td>-1.3674046 </td><td>-0.94770990</td></tr>\n",
       "\t<tr><th scope=row>115</th><td>-0.4078614 </td><td>-0.77925020</td></tr>\n",
       "\t<tr><th scope=row>116</th><td>-0.1564855 </td><td>-0.30374850</td></tr>\n",
       "\t<tr><th scope=row>117</th><td>-0.8452838 </td><td>-1.00788500</td></tr>\n",
       "\t<tr><th scope=row>118</th><td>-0.8655075 </td><td>-1.06112900</td></tr>\n",
       "\t<tr><th scope=row>119</th><td> 1.0048688 </td><td> 1.15855700</td></tr>\n",
       "\t<tr><th scope=row>120</th><td>-1.3842349 </td><td>-0.75791830</td></tr>\n",
       "\t<tr><th scope=row>121</th><td> 1.5565874 </td><td> 1.90562600</td></tr>\n",
       "\t<tr><th scope=row>122</th><td> 1.0128579 </td><td> 0.93419190</td></tr>\n",
       "\t<tr><th scope=row>123</th><td>-1.2098401 </td><td>-1.24965700</td></tr>\n",
       "\t<tr><th scope=row>124</th><td>-1.2236314 </td><td>-1.00951500</td></tr>\n",
       "\t<tr><th scope=row>125</th><td> 1.0879331 </td><td> 0.96847750</td></tr>\n",
       "\t<tr><th scope=row>126</th><td> 0.1216422 </td><td>-0.30460690</td></tr>\n",
       "\t<tr><th scope=row>127</th><td> 0.0759674 </td><td>-0.04716975</td></tr>\n",
       "\t<tr><th scope=row>128</th><td>-0.5813720 </td><td>-0.94985260</td></tr>\n",
       "\t<tr><th scope=row>129</th><td>-1.2645268 </td><td>-0.84208570</td></tr>\n",
       "\t<tr><th scope=row>130</th><td> 1.7838714 </td><td> 2.36321900</td></tr>\n",
       "\t<tr><th scope=row>131</th><td> 1.4918054 </td><td> 1.95088300</td></tr>\n",
       "\t<tr><th scope=row>132</th><td> 1.2323560 </td><td> 1.29230400</td></tr>\n",
       "\t<tr><th scope=row>133</th><td> 1.5218284 </td><td> 2.19456800</td></tr>\n",
       "\t<tr><th scope=row>134</th><td>-0.5496414 </td><td>-0.81598020</td></tr>\n",
       "\t<tr><th scope=row>135</th><td>-1.4434640 </td><td>-1.15575500</td></tr>\n",
       "\t<tr><th scope=row>136</th><td> 1.1663597 </td><td> 0.88642840</td></tr>\n",
       "\t<tr><th scope=row>137</th><td>-0.8346407 </td><td>-1.11592900</td></tr>\n",
       "\t<tr><th scope=row>138</th><td>-0.1073139 </td><td>-0.61113820</td></tr>\n",
       "\t<tr><th scope=row>139</th><td>-1.3184647 </td><td>-1.20458600</td></tr>\n",
       "\t<tr><th scope=row>140</th><td>-1.4486791 </td><td>-1.24743300</td></tr>\n",
       "\t<tr><th scope=row>141</th><td>-0.3823902 </td><td>-0.74649420</td></tr>\n",
       "\t<tr><th scope=row>142</th><td> 0.3872690 </td><td> 0.10481760</td></tr>\n",
       "\t<tr><th scope=row>143</th><td>-1.3933373 </td><td>-1.01605700</td></tr>\n",
       "\t<tr><th scope=row>144</th><td> 1.4244728 </td><td> 1.43416100</td></tr>\n",
       "\t<tr><th scope=row>145</th><td>-0.9971204 </td><td>-1.12316400</td></tr>\n",
       "\t<tr><th scope=row>146</th><td> 0.8300180 </td><td> 0.53563450</td></tr>\n",
       "\t<tr><th scope=row>147</th><td>-1.3994591 </td><td>-1.04593200</td></tr>\n",
       "\t<tr><th scope=row>148</th><td> 1.6579049 </td><td> 2.12938300</td></tr>\n",
       "\t<tr><th scope=row>149</th><td>-0.7883842 </td><td>-0.94637230</td></tr>\n",
       "\t<tr><th scope=row>150</th><td> 0.5757901 </td><td> 0.13316900</td></tr>\n",
       "</tbody>\n",
       "</table>\n"
      ],
      "text/latex": [
       "\\begin{tabular}{r|ll}\n",
       "  & predicted & real\\\\\n",
       "\\hline\n",
       "\t101 &  0.4888991  &  0.34535520\\\\\n",
       "\t102 & -1.4245995  & -0.92871830\\\\\n",
       "\t103 & -0.9339701  & -1.10554200\\\\\n",
       "\t104 &  0.3997136  &  0.25755110\\\\\n",
       "\t105 &  2.3182753  &  3.91847900\\\\\n",
       "\t106 & -1.1927296  & -0.90301370\\\\\n",
       "\t107 &  1.4188598  &  1.68577600\\\\\n",
       "\t108 & -0.9779887  & -0.87389940\\\\\n",
       "\t109 & -1.0854578  & -1.05020400\\\\\n",
       "\t110 & -0.6424778  & -0.77632390\\\\\n",
       "\t111 & -1.3334456  & -1.00359700\\\\\n",
       "\t112 &  1.5656640  &  2.27301600\\\\\n",
       "\t113 & -0.3247756  & -0.69563280\\\\\n",
       "\t114 & -1.3674046  & -0.94770990\\\\\n",
       "\t115 & -0.4078614  & -0.77925020\\\\\n",
       "\t116 & -0.1564855  & -0.30374850\\\\\n",
       "\t117 & -0.8452838  & -1.00788500\\\\\n",
       "\t118 & -0.8655075  & -1.06112900\\\\\n",
       "\t119 &  1.0048688  &  1.15855700\\\\\n",
       "\t120 & -1.3842349  & -0.75791830\\\\\n",
       "\t121 &  1.5565874  &  1.90562600\\\\\n",
       "\t122 &  1.0128579  &  0.93419190\\\\\n",
       "\t123 & -1.2098401  & -1.24965700\\\\\n",
       "\t124 & -1.2236314  & -1.00951500\\\\\n",
       "\t125 &  1.0879331  &  0.96847750\\\\\n",
       "\t126 &  0.1216422  & -0.30460690\\\\\n",
       "\t127 &  0.0759674  & -0.04716975\\\\\n",
       "\t128 & -0.5813720  & -0.94985260\\\\\n",
       "\t129 & -1.2645268  & -0.84208570\\\\\n",
       "\t130 &  1.7838714  &  2.36321900\\\\\n",
       "\t131 &  1.4918054  &  1.95088300\\\\\n",
       "\t132 &  1.2323560  &  1.29230400\\\\\n",
       "\t133 &  1.5218284  &  2.19456800\\\\\n",
       "\t134 & -0.5496414  & -0.81598020\\\\\n",
       "\t135 & -1.4434640  & -1.15575500\\\\\n",
       "\t136 &  1.1663597  &  0.88642840\\\\\n",
       "\t137 & -0.8346407  & -1.11592900\\\\\n",
       "\t138 & -0.1073139  & -0.61113820\\\\\n",
       "\t139 & -1.3184647  & -1.20458600\\\\\n",
       "\t140 & -1.4486791  & -1.24743300\\\\\n",
       "\t141 & -0.3823902  & -0.74649420\\\\\n",
       "\t142 &  0.3872690  &  0.10481760\\\\\n",
       "\t143 & -1.3933373  & -1.01605700\\\\\n",
       "\t144 &  1.4244728  &  1.43416100\\\\\n",
       "\t145 & -0.9971204  & -1.12316400\\\\\n",
       "\t146 &  0.8300180  &  0.53563450\\\\\n",
       "\t147 & -1.3994591  & -1.04593200\\\\\n",
       "\t148 &  1.6579049  &  2.12938300\\\\\n",
       "\t149 & -0.7883842  & -0.94637230\\\\\n",
       "\t150 &  0.5757901  &  0.13316900\\\\\n",
       "\\end{tabular}\n"
      ],
      "text/markdown": [
       "\n",
       "| <!--/--> | predicted | real | \n",
       "|---|---|---|---|---|---|---|---|---|---|---|---|---|---|---|---|---|---|---|---|---|---|---|---|---|---|---|---|---|---|---|---|---|---|---|---|---|---|---|---|---|---|---|---|---|---|---|---|---|---|\n",
       "| 101 |  0.4888991  |  0.34535520 | \n",
       "| 102 | -1.4245995  | -0.92871830 | \n",
       "| 103 | -0.9339701  | -1.10554200 | \n",
       "| 104 |  0.3997136  |  0.25755110 | \n",
       "| 105 |  2.3182753  |  3.91847900 | \n",
       "| 106 | -1.1927296  | -0.90301370 | \n",
       "| 107 |  1.4188598  |  1.68577600 | \n",
       "| 108 | -0.9779887  | -0.87389940 | \n",
       "| 109 | -1.0854578  | -1.05020400 | \n",
       "| 110 | -0.6424778  | -0.77632390 | \n",
       "| 111 | -1.3334456  | -1.00359700 | \n",
       "| 112 |  1.5656640  |  2.27301600 | \n",
       "| 113 | -0.3247756  | -0.69563280 | \n",
       "| 114 | -1.3674046  | -0.94770990 | \n",
       "| 115 | -0.4078614  | -0.77925020 | \n",
       "| 116 | -0.1564855  | -0.30374850 | \n",
       "| 117 | -0.8452838  | -1.00788500 | \n",
       "| 118 | -0.8655075  | -1.06112900 | \n",
       "| 119 |  1.0048688  |  1.15855700 | \n",
       "| 120 | -1.3842349  | -0.75791830 | \n",
       "| 121 |  1.5565874  |  1.90562600 | \n",
       "| 122 |  1.0128579  |  0.93419190 | \n",
       "| 123 | -1.2098401  | -1.24965700 | \n",
       "| 124 | -1.2236314  | -1.00951500 | \n",
       "| 125 |  1.0879331  |  0.96847750 | \n",
       "| 126 |  0.1216422  | -0.30460690 | \n",
       "| 127 |  0.0759674  | -0.04716975 | \n",
       "| 128 | -0.5813720  | -0.94985260 | \n",
       "| 129 | -1.2645268  | -0.84208570 | \n",
       "| 130 |  1.7838714  |  2.36321900 | \n",
       "| 131 |  1.4918054  |  1.95088300 | \n",
       "| 132 |  1.2323560  |  1.29230400 | \n",
       "| 133 |  1.5218284  |  2.19456800 | \n",
       "| 134 | -0.5496414  | -0.81598020 | \n",
       "| 135 | -1.4434640  | -1.15575500 | \n",
       "| 136 |  1.1663597  |  0.88642840 | \n",
       "| 137 | -0.8346407  | -1.11592900 | \n",
       "| 138 | -0.1073139  | -0.61113820 | \n",
       "| 139 | -1.3184647  | -1.20458600 | \n",
       "| 140 | -1.4486791  | -1.24743300 | \n",
       "| 141 | -0.3823902  | -0.74649420 | \n",
       "| 142 |  0.3872690  |  0.10481760 | \n",
       "| 143 | -1.3933373  | -1.01605700 | \n",
       "| 144 |  1.4244728  |  1.43416100 | \n",
       "| 145 | -0.9971204  | -1.12316400 | \n",
       "| 146 |  0.8300180  |  0.53563450 | \n",
       "| 147 | -1.3994591  | -1.04593200 | \n",
       "| 148 |  1.6579049  |  2.12938300 | \n",
       "| 149 | -0.7883842  | -0.94637230 | \n",
       "| 150 |  0.5757901  |  0.13316900 | \n",
       "\n",
       "\n"
      ],
      "text/plain": [
       "    predicted  real       \n",
       "101  0.4888991  0.34535520\n",
       "102 -1.4245995 -0.92871830\n",
       "103 -0.9339701 -1.10554200\n",
       "104  0.3997136  0.25755110\n",
       "105  2.3182753  3.91847900\n",
       "106 -1.1927296 -0.90301370\n",
       "107  1.4188598  1.68577600\n",
       "108 -0.9779887 -0.87389940\n",
       "109 -1.0854578 -1.05020400\n",
       "110 -0.6424778 -0.77632390\n",
       "111 -1.3334456 -1.00359700\n",
       "112  1.5656640  2.27301600\n",
       "113 -0.3247756 -0.69563280\n",
       "114 -1.3674046 -0.94770990\n",
       "115 -0.4078614 -0.77925020\n",
       "116 -0.1564855 -0.30374850\n",
       "117 -0.8452838 -1.00788500\n",
       "118 -0.8655075 -1.06112900\n",
       "119  1.0048688  1.15855700\n",
       "120 -1.3842349 -0.75791830\n",
       "121  1.5565874  1.90562600\n",
       "122  1.0128579  0.93419190\n",
       "123 -1.2098401 -1.24965700\n",
       "124 -1.2236314 -1.00951500\n",
       "125  1.0879331  0.96847750\n",
       "126  0.1216422 -0.30460690\n",
       "127  0.0759674 -0.04716975\n",
       "128 -0.5813720 -0.94985260\n",
       "129 -1.2645268 -0.84208570\n",
       "130  1.7838714  2.36321900\n",
       "131  1.4918054  1.95088300\n",
       "132  1.2323560  1.29230400\n",
       "133  1.5218284  2.19456800\n",
       "134 -0.5496414 -0.81598020\n",
       "135 -1.4434640 -1.15575500\n",
       "136  1.1663597  0.88642840\n",
       "137 -0.8346407 -1.11592900\n",
       "138 -0.1073139 -0.61113820\n",
       "139 -1.3184647 -1.20458600\n",
       "140 -1.4486791 -1.24743300\n",
       "141 -0.3823902 -0.74649420\n",
       "142  0.3872690  0.10481760\n",
       "143 -1.3933373 -1.01605700\n",
       "144  1.4244728  1.43416100\n",
       "145 -0.9971204 -1.12316400\n",
       "146  0.8300180  0.53563450\n",
       "147 -1.3994591 -1.04593200\n",
       "148  1.6579049  2.12938300\n",
       "149 -0.7883842 -0.94637230\n",
       "150  0.5757901  0.13316900"
      ]
     },
     "metadata": {},
     "output_type": "display_data"
    }
   ],
   "source": [
    "data.frame(\"predicted\"=predict_test, \"real\"=test_y$response)"
   ]
  },
  {
   "cell_type": "code",
   "execution_count": 13,
   "metadata": {},
   "outputs": [
    {
     "data": {
      "text/plain": [
       "\n",
       "Call:\n",
       "lm(formula = sqrt(shifted_response) ~ a + c, data = train)\n",
       "\n",
       "Residuals:\n",
       "     Min       1Q   Median       3Q      Max \n",
       "-0.47305 -0.12293 -0.01923  0.11650  0.49798 \n",
       "\n",
       "Coefficients:\n",
       "            Estimate Std. Error t value Pr(>|t|)    \n",
       "(Intercept)  1.10231    0.03497  31.526   <2e-16 ***\n",
       "a           -0.01705    0.01437  -1.187    0.238    \n",
       "c            0.87157    0.03132  27.824   <2e-16 ***\n",
       "---\n",
       "Signif. codes:  0 '***' 0.001 '**' 0.01 '*' 0.05 '.' 0.1 ' ' 1\n",
       "\n",
       "Residual standard error: 0.1755 on 97 degrees of freedom\n",
       "Multiple R-squared:  0.8905,\tAdjusted R-squared:  0.8882 \n",
       "F-statistic: 394.2 on 2 and 97 DF,  p-value: < 2.2e-16\n"
      ]
     },
     "metadata": {},
     "output_type": "display_data"
    },
    {
     "data": {
      "text/html": [
       "<table>\n",
       "<thead><tr><th></th><th scope=col>Df</th><th scope=col>Sum Sq</th><th scope=col>Mean Sq</th><th scope=col>F value</th><th scope=col>Pr(&gt;F)</th></tr></thead>\n",
       "<tbody>\n",
       "\t<tr><th scope=row>a</th><td> 1          </td><td> 0.4387006  </td><td> 0.43870056 </td><td> 14.24896   </td><td>2.759136e-04</td></tr>\n",
       "\t<tr><th scope=row>c</th><td> 1          </td><td>23.8361938  </td><td>23.83619384 </td><td>774.19792   </td><td>4.957722e-48</td></tr>\n",
       "\t<tr><th scope=row>Residuals</th><td>97          </td><td> 2.9864596  </td><td> 0.03078824 </td><td>       NA   </td><td>          NA</td></tr>\n",
       "</tbody>\n",
       "</table>\n"
      ],
      "text/latex": [
       "\\begin{tabular}{r|lllll}\n",
       "  & Df & Sum Sq & Mean Sq & F value & Pr(>F)\\\\\n",
       "\\hline\n",
       "\ta &  1           &  0.4387006   &  0.43870056  &  14.24896    & 2.759136e-04\\\\\n",
       "\tc &  1           & 23.8361938   & 23.83619384  & 774.19792    & 4.957722e-48\\\\\n",
       "\tResiduals & 97           &  2.9864596   &  0.03078824  &        NA    &           NA\\\\\n",
       "\\end{tabular}\n"
      ],
      "text/markdown": [
       "\n",
       "| <!--/--> | Df | Sum Sq | Mean Sq | F value | Pr(>F) | \n",
       "|---|---|---|\n",
       "| a |  1           |  0.4387006   |  0.43870056  |  14.24896    | 2.759136e-04 | \n",
       "| c |  1           | 23.8361938   | 23.83619384  | 774.19792    | 4.957722e-48 | \n",
       "| Residuals | 97           |  2.9864596   |  0.03078824  |        NA    |           NA | \n",
       "\n",
       "\n"
      ],
      "text/plain": [
       "          Df Sum Sq     Mean Sq     F value   Pr(>F)      \n",
       "a          1  0.4387006  0.43870056  14.24896 2.759136e-04\n",
       "c          1 23.8361938 23.83619384 774.19792 4.957722e-48\n",
       "Residuals 97  2.9864596  0.03078824        NA           NA"
      ]
     },
     "metadata": {},
     "output_type": "display_data"
    }
   ],
   "source": [
    "model3 = lm(sqrt(shifted_response) ~ a + c, data=train)\n",
    "summary(model3)\n",
    "anova(model3)"
   ]
  },
  {
   "cell_type": "code",
   "execution_count": 14,
   "metadata": {},
   "outputs": [
    {
     "data": {
      "text/html": [
       "7.92667625261408"
      ],
      "text/latex": [
       "7.92667625261408"
      ],
      "text/markdown": [
       "7.92667625261408"
      ],
      "text/plain": [
       "[1] 7.926676"
      ]
     },
     "metadata": {},
     "output_type": "display_data"
    }
   ],
   "source": [
    "predict_test_model3 = (predict(model3, test_x) ** 2) - response_shift\n",
    "sum((predict_test_model3 - test_y)**2)"
   ]
  },
  {
   "cell_type": "code",
   "execution_count": 46,
   "metadata": {
    "collapsed": true
   },
   "outputs": [
    {
     "data": {
      "text/html": [
       "<table>\n",
       "<thead><tr><th></th><th scope=col>Df</th><th scope=col>Sum Sq</th><th scope=col>Mean Sq</th><th scope=col>F value</th><th scope=col>Pr(&gt;F)</th></tr></thead>\n",
       "<tbody>\n",
       "\t<tr><th scope=row>exp(c)</th><td> 1          </td><td>26.12280010 </td><td>26.12280010 </td><td>2370.021248 </td><td>5.632224e-69</td></tr>\n",
       "\t<tr><th scope=row>a</th><td> 1          </td><td> 0.03492462 </td><td> 0.03492462 </td><td>   3.168577 </td><td>7.826512e-02</td></tr>\n",
       "\t<tr><th scope=row>c</th><td> 1          </td><td> 0.02886211 </td><td> 0.02886211 </td><td>   2.618548 </td><td>1.089366e-01</td></tr>\n",
       "\t<tr><th scope=row>a:c</th><td> 1          </td><td> 0.02766008 </td><td> 0.02766008 </td><td>   2.509492 </td><td>1.164858e-01</td></tr>\n",
       "\t<tr><th scope=row>Residuals</th><td>95          </td><td> 1.04710707 </td><td> 0.01102218 </td><td>         NA </td><td>          NA</td></tr>\n",
       "</tbody>\n",
       "</table>\n"
      ],
      "text/latex": [
       "\\begin{tabular}{r|lllll}\n",
       "  & Df & Sum Sq & Mean Sq & F value & Pr(>F)\\\\\n",
       "\\hline\n",
       "\texp(c) &  1           & 26.12280010  & 26.12280010  & 2370.021248  & 5.632224e-69\\\\\n",
       "\ta &  1           &  0.03492462  &  0.03492462  &    3.168577  & 7.826512e-02\\\\\n",
       "\tc &  1           &  0.02886211  &  0.02886211  &    2.618548  & 1.089366e-01\\\\\n",
       "\ta:c &  1           &  0.02766008  &  0.02766008  &    2.509492  & 1.164858e-01\\\\\n",
       "\tResiduals & 95           &  1.04710707  &  0.01102218  &          NA  &           NA\\\\\n",
       "\\end{tabular}\n"
      ],
      "text/markdown": [
       "\n",
       "| <!--/--> | Df | Sum Sq | Mean Sq | F value | Pr(>F) | \n",
       "|---|---|---|---|---|\n",
       "| exp(c) |  1           | 26.12280010  | 26.12280010  | 2370.021248  | 5.632224e-69 | \n",
       "| a |  1           |  0.03492462  |  0.03492462  |    3.168577  | 7.826512e-02 | \n",
       "| c |  1           |  0.02886211  |  0.02886211  |    2.618548  | 1.089366e-01 | \n",
       "| a:c |  1           |  0.02766008  |  0.02766008  |    2.509492  | 1.164858e-01 | \n",
       "| Residuals | 95           |  1.04710707  |  0.01102218  |          NA  |           NA | \n",
       "\n",
       "\n"
      ],
      "text/plain": [
       "          Df Sum Sq      Mean Sq     F value     Pr(>F)      \n",
       "exp(c)     1 26.12280010 26.12280010 2370.021248 5.632224e-69\n",
       "a          1  0.03492462  0.03492462    3.168577 7.826512e-02\n",
       "c          1  0.02886211  0.02886211    2.618548 1.089366e-01\n",
       "a:c        1  0.02766008  0.02766008    2.509492 1.164858e-01\n",
       "Residuals 95  1.04710707  0.01102218          NA           NA"
      ]
     },
     "metadata": {},
     "output_type": "display_data"
    },
    {
     "data": {
      "text/html": [
       "<table>\n",
       "<thead><tr><th></th><th scope=col>Sum Sq</th><th scope=col>Df</th><th scope=col>F value</th><th scope=col>Pr(&gt;F)</th></tr></thead>\n",
       "<tbody>\n",
       "\t<tr><th scope=row>exp(c)</th><td>1.76016965  </td><td> 1          </td><td>159.693427  </td><td>4.641996e-22</td></tr>\n",
       "\t<tr><th scope=row>a</th><td>0.03076151  </td><td> 1          </td><td>  2.790874  </td><td>9.809406e-02</td></tr>\n",
       "\t<tr><th scope=row>c</th><td>0.02886211  </td><td> 1          </td><td>  2.618548  </td><td>1.089366e-01</td></tr>\n",
       "\t<tr><th scope=row>a:c</th><td>0.02766008  </td><td> 1          </td><td>  2.509492  </td><td>1.164858e-01</td></tr>\n",
       "\t<tr><th scope=row>Residuals</th><td>1.04710707  </td><td>95          </td><td>        NA  </td><td>          NA</td></tr>\n",
       "</tbody>\n",
       "</table>\n"
      ],
      "text/latex": [
       "\\begin{tabular}{r|llll}\n",
       "  & Sum Sq & Df & F value & Pr(>F)\\\\\n",
       "\\hline\n",
       "\texp(c) & 1.76016965   &  1           & 159.693427   & 4.641996e-22\\\\\n",
       "\ta & 0.03076151   &  1           &   2.790874   & 9.809406e-02\\\\\n",
       "\tc & 0.02886211   &  1           &   2.618548   & 1.089366e-01\\\\\n",
       "\ta:c & 0.02766008   &  1           &   2.509492   & 1.164858e-01\\\\\n",
       "\tResiduals & 1.04710707   & 95           &         NA   &           NA\\\\\n",
       "\\end{tabular}\n"
      ],
      "text/markdown": [
       "\n",
       "| <!--/--> | Sum Sq | Df | F value | Pr(>F) | \n",
       "|---|---|---|---|---|\n",
       "| exp(c) | 1.76016965   |  1           | 159.693427   | 4.641996e-22 | \n",
       "| a | 0.03076151   |  1           |   2.790874   | 9.809406e-02 | \n",
       "| c | 0.02886211   |  1           |   2.618548   | 1.089366e-01 | \n",
       "| a:c | 0.02766008   |  1           |   2.509492   | 1.164858e-01 | \n",
       "| Residuals | 1.04710707   | 95           |         NA   |           NA | \n",
       "\n",
       "\n"
      ],
      "text/plain": [
       "          Sum Sq     Df F value    Pr(>F)      \n",
       "exp(c)    1.76016965  1 159.693427 4.641996e-22\n",
       "a         0.03076151  1   2.790874 9.809406e-02\n",
       "c         0.02886211  1   2.618548 1.089366e-01\n",
       "a:c       0.02766008  1   2.509492 1.164858e-01\n",
       "Residuals 1.04710707 95         NA           NA"
      ]
     },
     "metadata": {},
     "output_type": "display_data"
    },
    {
     "data": {
      "text/html": [
       "168.219790056459"
      ],
      "text/latex": [
       "168.219790056459"
      ],
      "text/markdown": [
       "168.219790056459"
      ],
      "text/plain": [
       "[1] 168.2198"
      ]
     },
     "metadata": {},
     "output_type": "display_data"
    },
    {
     "data": {
      "text/html": [
       "3.36439580112918"
      ],
      "text/latex": [
       "3.36439580112918"
      ],
      "text/markdown": [
       "3.36439580112918"
      ],
      "text/plain": [
       "[1] 3.364396"
      ]
     },
     "metadata": {},
     "output_type": "display_data"
    }
   ],
   "source": [
    "model4 = lm(sqrt(shifted_response) ~ exp(c) + a*c, data=train)\n",
    "anova(model4)\n",
    "Anova(model4)\n",
    "\n",
    "model4_train_predict = (predict(model4, train) ** 2) - response_shift\n",
    "sum((model4_train_predict - test_y)^2)\n",
    "mean(((model4_train_predict - test_y)^2)$response)"
   ]
  },
  {
   "cell_type": "code",
   "execution_count": 16,
   "metadata": {
    "collapsed": true
   },
   "outputs": [
    {
     "data": {
      "text/html": [
       "1.34014100453132"
      ],
      "text/latex": [
       "1.34014100453132"
      ],
      "text/markdown": [
       "1.34014100453132"
      ],
      "text/plain": [
       "[1] 1.340141"
      ]
     },
     "metadata": {},
     "output_type": "display_data"
    },
    {
     "data": {
      "text/html": [
       "0.0268028200906263"
      ],
      "text/latex": [
       "0.0268028200906263"
      ],
      "text/markdown": [
       "0.0268028200906263"
      ],
      "text/plain": [
       "[1] 0.02680282"
      ]
     },
     "metadata": {},
     "output_type": "display_data"
    },
    {
     "data": {
      "text/html": [
       "0.0110221797079737"
      ],
      "text/latex": [
       "0.0110221797079737"
      ],
      "text/markdown": [
       "0.0110221797079737"
      ],
      "text/plain": [
       "[1] 0.01102218"
      ]
     },
     "metadata": {},
     "output_type": "display_data"
    }
   ],
   "source": [
    "predict_test_model4 = (predict(model4, test_x) ** 2) - response_shift\n",
    "\n",
    "# SSE\n",
    "sum((predict_test_model4 - test_y)^2)\n",
    "\n",
    "# MSE of test\n",
    "mean(((predict_test_model4 - test_y)^2)$response)\n",
    "# MSE of model (residuals) against training\n",
    "anova(model4)[\"Mean Sq\"][5,1]"
   ]
  },
  {
   "cell_type": "code",
   "execution_count": 54,
   "metadata": {
    "collapsed": true
   },
   "outputs": [
    {
     "data": {
      "text/html": [
       "<table>\n",
       "<thead><tr><th></th><th scope=col>Df</th><th scope=col>Sum Sq</th><th scope=col>Mean Sq</th><th scope=col>F value</th><th scope=col>Pr(&gt;F)</th></tr></thead>\n",
       "<tbody>\n",
       "\t<tr><th scope=row>exp(c)</th><td> 1          </td><td>26.122800   </td><td>26.1228001  </td><td>2248.496    </td><td>2.156731e-69</td></tr>\n",
       "\t<tr><th scope=row>Residuals</th><td>98          </td><td> 1.138554   </td><td> 0.0116179  </td><td>      NA    </td><td>          NA</td></tr>\n",
       "</tbody>\n",
       "</table>\n"
      ],
      "text/latex": [
       "\\begin{tabular}{r|lllll}\n",
       "  & Df & Sum Sq & Mean Sq & F value & Pr(>F)\\\\\n",
       "\\hline\n",
       "\texp(c) &  1           & 26.122800    & 26.1228001   & 2248.496     & 2.156731e-69\\\\\n",
       "\tResiduals & 98           &  1.138554    &  0.0116179   &       NA     &           NA\\\\\n",
       "\\end{tabular}\n"
      ],
      "text/markdown": [
       "\n",
       "| <!--/--> | Df | Sum Sq | Mean Sq | F value | Pr(>F) | \n",
       "|---|---|\n",
       "| exp(c) |  1           | 26.122800    | 26.1228001   | 2248.496     | 2.156731e-69 | \n",
       "| Residuals | 98           |  1.138554    |  0.0116179   |       NA     |           NA | \n",
       "\n",
       "\n"
      ],
      "text/plain": [
       "          Df Sum Sq    Mean Sq    F value  Pr(>F)      \n",
       "exp(c)     1 26.122800 26.1228001 2248.496 2.156731e-69\n",
       "Residuals 98  1.138554  0.0116179       NA           NA"
      ]
     },
     "metadata": {},
     "output_type": "display_data"
    },
    {
     "data": {
      "text/html": [
       "<table>\n",
       "<thead><tr><th></th><th scope=col>Sum Sq</th><th scope=col>Df</th><th scope=col>F value</th><th scope=col>Pr(&gt;F)</th></tr></thead>\n",
       "<tbody>\n",
       "\t<tr><th scope=row>exp(c)</th><td>26.122800   </td><td> 1          </td><td>2248.496    </td><td>2.156731e-69</td></tr>\n",
       "\t<tr><th scope=row>Residuals</th><td> 1.138554   </td><td>98          </td><td>      NA    </td><td>          NA</td></tr>\n",
       "</tbody>\n",
       "</table>\n"
      ],
      "text/latex": [
       "\\begin{tabular}{r|llll}\n",
       "  & Sum Sq & Df & F value & Pr(>F)\\\\\n",
       "\\hline\n",
       "\texp(c) & 26.122800    &  1           & 2248.496     & 2.156731e-69\\\\\n",
       "\tResiduals &  1.138554    & 98           &       NA     &           NA\\\\\n",
       "\\end{tabular}\n"
      ],
      "text/markdown": [
       "\n",
       "| <!--/--> | Sum Sq | Df | F value | Pr(>F) | \n",
       "|---|---|\n",
       "| exp(c) | 26.122800    |  1           | 2248.496     | 2.156731e-69 | \n",
       "| Residuals |  1.138554    | 98           |       NA     |           NA | \n",
       "\n",
       "\n"
      ],
      "text/plain": [
       "          Sum Sq    Df F value  Pr(>F)      \n",
       "exp(c)    26.122800  1 2248.496 2.156731e-69\n",
       "Residuals  1.138554 98       NA           NA"
      ]
     },
     "metadata": {},
     "output_type": "display_data"
    },
    {
     "data": {
      "text/html": [
       "2.39064930844164"
      ],
      "text/latex": [
       "2.39064930844164"
      ],
      "text/markdown": [
       "2.39064930844164"
      ],
      "text/plain": [
       "[1] 2.390649"
      ]
     },
     "metadata": {},
     "output_type": "display_data"
    },
    {
     "data": {
      "text/html": [
       "0.0239064930844164"
      ],
      "text/latex": [
       "0.0239064930844164"
      ],
      "text/markdown": [
       "0.0239064930844164"
      ],
      "text/plain": [
       "[1] 0.02390649"
      ]
     },
     "metadata": {},
     "output_type": "display_data"
    },
    {
     "data": {
      "image/png": "[encoded data removed]",
      "text/plain": [
       "plot without title"
      ]
     },
     "metadata": {},
     "output_type": "display_data"
    },
    {
     "data": {
      "image/png": "[encoded data removed]",
      "text/plain": [
       "plot without title"
      ]
     },
     "metadata": {},
     "output_type": "display_data"
    },
    {
     "data": {
      "image/png": "[encoded data removed]",
      "text/plain": [
       "Plot with title \"Histogram of model5$residuals\""
      ]
     },
     "metadata": {},
     "output_type": "display_data"
    },
    {
     "data": {
      "image/png": "[encoded data removed]",
      "text/plain": [
       "Plot with title \"Normal Q-Q Plot\""
      ]
     },
     "metadata": {},
     "output_type": "display_data"
    }
   ],
   "source": [
    "model5 = lm(sqrt(shifted_response) ~ exp(c), data=train)\n",
    "anova(model5)\n",
    "Anova(model5)\n",
    "\n",
    "model5_train_predict = (predict(model5, train) ** 2) - response_shift\n",
    "sum((model5_train_predict - train$response)^2)\n",
    "mean((model5_train_predict - train$response)^2)\n",
    "\n",
    "# data.frame(real=train$response, predicted=model5_train_predict)\n",
    "plot(train$response, model5_train_predict)\n",
    "\n",
    "plot(model5$residuals ~ exp(c), data=train)\n",
    "\n",
    "hist(model5$residuals)\n",
    "qqnorm(model5$residuals)\n",
    "qqline(model5$residuals)"
   ]
  },
  {
   "cell_type": "code",
   "execution_count": 56,
   "metadata": {},
   "outputs": [
    {
     "data": {
      "text/html": [
       "1.43576424310356"
      ],
      "text/latex": [
       "1.43576424310356"
      ],
      "text/markdown": [
       "1.43576424310356"
      ],
      "text/plain": [
       "[1] 1.435764"
      ]
     },
     "metadata": {},
     "output_type": "display_data"
    },
    {
     "data": {
      "text/html": [
       "0.0287152848620712"
      ],
      "text/latex": [
       "0.0287152848620712"
      ],
      "text/markdown": [
       "0.0287152848620712"
      ],
      "text/plain": [
       "[1] 0.02871528"
      ]
     },
     "metadata": {},
     "output_type": "display_data"
    }
   ],
   "source": [
    "predict_test_model5 = (predict(model5, test_x) ** 2) - response_shift\n",
    "\n",
    "# SSE\n",
    "sum((predict_test_model5 - test_y)^2)\n",
    "\n",
    "# MSE of test\n",
    "mean(((predict_test_model5 - test_y)^2)$response)"
   ]
  },
  {
   "cell_type": "code",
   "execution_count": 19,
   "metadata": {
    "collapsed": true
   },
   "outputs": [
    {
     "data": {
      "text/html": [
       "<table>\n",
       "<thead><tr><th></th><th scope=col>e_c</th><th scope=col>c</th><th scope=col>a</th><th scope=col>b</th><th scope=col>r</th></tr></thead>\n",
       "<tbody>\n",
       "\t<tr><th scope=row>e_c</th><td> 1.00000000</td><td> 0.97154258</td><td> 0.16564986</td><td>-0.01268854</td><td> 0.97889510</td></tr>\n",
       "\t<tr><th scope=row>c</th><td> 0.97154258</td><td> 1.00000000</td><td> 0.17618836</td><td>-0.00901372</td><td> 0.94279404</td></tr>\n",
       "\t<tr><th scope=row>a</th><td> 0.16564986</td><td> 0.17618836</td><td> 1.00000000</td><td>-0.09974212</td><td> 0.12685582</td></tr>\n",
       "\t<tr><th scope=row>b</th><td>-0.01268854</td><td>-0.00901372</td><td>-0.09974212</td><td> 1.00000000</td><td>-0.02090072</td></tr>\n",
       "\t<tr><th scope=row>r</th><td> 0.97889510</td><td> 0.94279404</td><td> 0.12685582</td><td>-0.02090072</td><td> 1.00000000</td></tr>\n",
       "</tbody>\n",
       "</table>\n"
      ],
      "text/latex": [
       "\\begin{tabular}{r|lllll}\n",
       "  & e\\_c & c & a & b & r\\\\\n",
       "\\hline\n",
       "\te\\_c &  1.00000000 &  0.97154258 &  0.16564986 & -0.01268854 &  0.97889510\\\\\n",
       "\tc &  0.97154258 &  1.00000000 &  0.17618836 & -0.00901372 &  0.94279404\\\\\n",
       "\ta &  0.16564986 &  0.17618836 &  1.00000000 & -0.09974212 &  0.12685582\\\\\n",
       "\tb & -0.01268854 & -0.00901372 & -0.09974212 &  1.00000000 & -0.02090072\\\\\n",
       "\tr &  0.97889510 &  0.94279404 &  0.12685582 & -0.02090072 &  1.00000000\\\\\n",
       "\\end{tabular}\n"
      ],
      "text/markdown": [
       "\n",
       "| <!--/--> | e_c | c | a | b | r | \n",
       "|---|---|---|---|---|\n",
       "| e_c |  1.00000000 |  0.97154258 |  0.16564986 | -0.01268854 |  0.97889510 | \n",
       "| c |  0.97154258 |  1.00000000 |  0.17618836 | -0.00901372 |  0.94279404 | \n",
       "| a |  0.16564986 |  0.17618836 |  1.00000000 | -0.09974212 |  0.12685582 | \n",
       "| b | -0.01268854 | -0.00901372 | -0.09974212 |  1.00000000 | -0.02090072 | \n",
       "| r |  0.97889510 |  0.94279404 |  0.12685582 | -0.02090072 |  1.00000000 | \n",
       "\n",
       "\n"
      ],
      "text/plain": [
       "    e_c         c           a           b           r          \n",
       "e_c  1.00000000  0.97154258  0.16564986 -0.01268854  0.97889510\n",
       "c    0.97154258  1.00000000  0.17618836 -0.00901372  0.94279404\n",
       "a    0.16564986  0.17618836  1.00000000 -0.09974212  0.12685582\n",
       "b   -0.01268854 -0.00901372 -0.09974212  1.00000000 -0.02090072\n",
       "r    0.97889510  0.94279404  0.12685582 -0.02090072  1.00000000"
      ]
     },
     "metadata": {},
     "output_type": "display_data"
    }
   ],
   "source": [
    "cor(data.frame(e_c=exp(train$c), c=train$c, a=train$a, b=train$b, r=sqrt(train$shifted_response)))"
   ]
  },
  {
   "cell_type": "code",
   "execution_count": 21,
   "metadata": {
    "collapsed": true
   },
   "outputs": [
    {
     "data": {
      "image/png": "[encoded data removed]",
      "text/plain": [
       "plot without title"
      ]
     },
     "metadata": {},
     "output_type": "display_data"
    }
   ],
   "source": [
    "plot((shifted_response) ~ exp(c), data=train)\n",
    "abline(model5)"
   ]
  },
  {
   "cell_type": "code",
   "execution_count": 22,
   "metadata": {},
   "outputs": [
    {
     "data": {
      "text/plain": [
       "Non-constant Variance Score Test \n",
       "Variance formula: ~ fitted.values \n",
       "Chisquare = 34.53967, Df = 1, p = 4.1765e-09"
      ]
     },
     "metadata": {},
     "output_type": "display_data"
    }
   ],
   "source": [
    "ncvTest(model5)"
   ]
  },
  {
   "cell_type": "code",
   "execution_count": 23,
   "metadata": {
    "collapsed": true
   },
   "outputs": [
    {
     "data": {
      "image/png": "[encoded data removed]",
      "text/plain": [
       "plot without title"
      ]
     },
     "metadata": {},
     "output_type": "display_data"
    }
   ],
   "source": [
    "boxplot(sqrt(train$shifted_response))"
   ]
  },
  {
   "cell_type": "code",
   "execution_count": 26,
   "metadata": {
    "collapsed": true
   },
   "outputs": [
    {
     "data": {
      "image/png": "[encoded data removed]",
      "text/plain": [
       "Plot with title \"Normal Q-Q Plot\""
      ]
     },
     "metadata": {},
     "output_type": "display_data"
    },
    {
     "data": {
      "image/png": "[encoded data removed]",
      "text/plain": [
       "plot without title"
      ]
     },
     "metadata": {},
     "output_type": "display_data"
    }
   ],
   "source": [
    "qqnorm(model6$residuals)\n",
    "qqline(model6$residuals)\n",
    "plot(model6$residuals ~ exp(c), data=train)"
   ]
  },
  {
   "cell_type": "code",
   "execution_count": 57,
   "metadata": {
    "collapsed": true
   },
   "outputs": [
    {
     "data": {
      "text/html": [
       "<table>\n",
       "<thead><tr><th></th><th scope=col>predicted</th><th scope=col>real</th></tr></thead>\n",
       "<tbody>\n",
       "\t<tr><th scope=row>101</th><td> 0.23851771</td><td> 0.34535520</td></tr>\n",
       "\t<tr><th scope=row>102</th><td>-1.28901876</td><td>-0.92871830</td></tr>\n",
       "\t<tr><th scope=row>103</th><td>-1.03299760</td><td>-1.10554200</td></tr>\n",
       "\t<tr><th scope=row>104</th><td> 0.29623454</td><td> 0.25755110</td></tr>\n",
       "\t<tr><th scope=row>105</th><td> 3.81956661</td><td> 3.91847900</td></tr>\n",
       "\t<tr><th scope=row>106</th><td>-1.16426352</td><td>-0.90301370</td></tr>\n",
       "\t<tr><th scope=row>107</th><td> 1.70883341</td><td> 1.68577600</td></tr>\n",
       "\t<tr><th scope=row>108</th><td>-1.04027466</td><td>-0.87389940</td></tr>\n",
       "\t<tr><th scope=row>109</th><td>-1.10720353</td><td>-1.05020400</td></tr>\n",
       "\t<tr><th scope=row>110</th><td>-0.86638264</td><td>-0.77632390</td></tr>\n",
       "\t<tr><th scope=row>111</th><td>-1.24668608</td><td>-1.00359700</td></tr>\n",
       "\t<tr><th scope=row>112</th><td> 2.20517134</td><td> 2.27301600</td></tr>\n",
       "\t<tr><th scope=row>113</th><td>-0.57462875</td><td>-0.69563280</td></tr>\n",
       "\t<tr><th scope=row>114</th><td>-1.25170642</td><td>-0.94770990</td></tr>\n",
       "\t<tr><th scope=row>115</th><td>-0.70530666</td><td>-0.77925020</td></tr>\n",
       "\t<tr><th scope=row>116</th><td>-0.34700307</td><td>-0.30374850</td></tr>\n",
       "\t<tr><th scope=row>117</th><td>-0.99706886</td><td>-1.00788500</td></tr>\n",
       "\t<tr><th scope=row>118</th><td>-0.98746501</td><td>-1.06112900</td></tr>\n",
       "\t<tr><th scope=row>119</th><td> 0.98762121</td><td> 1.15855700</td></tr>\n",
       "\t<tr><th scope=row>120</th><td>-1.26103397</td><td>-0.75791830</td></tr>\n",
       "\t<tr><th scope=row>121</th><td> 1.94383717</td><td> 1.90562600</td></tr>\n",
       "\t<tr><th scope=row>122</th><td> 0.96556034</td><td> 0.93419190</td></tr>\n",
       "\t<tr><th scope=row>123</th><td>-1.17430443</td><td>-1.24965700</td></tr>\n",
       "\t<tr><th scope=row>124</th><td>-1.19147586</td><td>-1.00951500</td></tr>\n",
       "\t<tr><th scope=row>125</th><td> 1.05986523</td><td> 0.96847750</td></tr>\n",
       "\t<tr><th scope=row>126</th><td>-0.16816697</td><td>-0.30460690</td></tr>\n",
       "\t<tr><th scope=row>127</th><td>-0.24714227</td><td>-0.04716975</td></tr>\n",
       "\t<tr><th scope=row>128</th><td>-0.82706734</td><td>-0.94985260</td></tr>\n",
       "\t<tr><th scope=row>129</th><td>-1.20179567</td><td>-0.84208570</td></tr>\n",
       "\t<tr><th scope=row>130</th><td> 2.40842985</td><td> 2.36321900</td></tr>\n",
       "\t<tr><th scope=row>131</th><td> 1.73005633</td><td> 1.95088300</td></tr>\n",
       "\t<tr><th scope=row>132</th><td> 1.34694132</td><td> 1.29230400</td></tr>\n",
       "\t<tr><th scope=row>133</th><td> 2.05619867</td><td> 2.19456800</td></tr>\n",
       "\t<tr><th scope=row>134</th><td>-0.79415451</td><td>-0.81598020</td></tr>\n",
       "\t<tr><th scope=row>135</th><td>-1.29917547</td><td>-1.15575500</td></tr>\n",
       "\t<tr><th scope=row>136</th><td> 1.06843029</td><td> 0.88642840</td></tr>\n",
       "\t<tr><th scope=row>137</th><td>-0.95251735</td><td>-1.11592900</td></tr>\n",
       "\t<tr><th scope=row>138</th><td>-0.43330255</td><td>-0.61113820</td></tr>\n",
       "\t<tr><th scope=row>139</th><td>-1.23748527</td><td>-1.20458600</td></tr>\n",
       "\t<tr><th scope=row>140</th><td>-1.29925509</td><td>-1.24743300</td></tr>\n",
       "\t<tr><th scope=row>141</th><td>-0.65460211</td><td>-0.74649420</td></tr>\n",
       "\t<tr><th scope=row>142</th><td> 0.03661286</td><td> 0.10481760</td></tr>\n",
       "\t<tr><th scope=row>143</th><td>-1.27497179</td><td>-1.01605700</td></tr>\n",
       "\t<tr><th scope=row>144</th><td> 1.72241998</td><td> 1.43416100</td></tr>\n",
       "\t<tr><th scope=row>145</th><td>-1.07896514</td><td>-1.12316400</td></tr>\n",
       "\t<tr><th scope=row>146</th><td> 0.63900362</td><td> 0.53563450</td></tr>\n",
       "\t<tr><th scope=row>147</th><td>-1.27036813</td><td>-1.04593200</td></tr>\n",
       "\t<tr><th scope=row>148</th><td> 2.13208195</td><td> 2.12938300</td></tr>\n",
       "\t<tr><th scope=row>149</th><td>-0.92493445</td><td>-0.94637230</td></tr>\n",
       "\t<tr><th scope=row>150</th><td> 0.32191163</td><td> 0.13316900</td></tr>\n",
       "</tbody>\n",
       "</table>\n"
      ],
      "text/latex": [
       "\\begin{tabular}{r|ll}\n",
       "  & predicted & real\\\\\n",
       "\\hline\n",
       "\t101 &  0.23851771 &  0.34535520\\\\\n",
       "\t102 & -1.28901876 & -0.92871830\\\\\n",
       "\t103 & -1.03299760 & -1.10554200\\\\\n",
       "\t104 &  0.29623454 &  0.25755110\\\\\n",
       "\t105 &  3.81956661 &  3.91847900\\\\\n",
       "\t106 & -1.16426352 & -0.90301370\\\\\n",
       "\t107 &  1.70883341 &  1.68577600\\\\\n",
       "\t108 & -1.04027466 & -0.87389940\\\\\n",
       "\t109 & -1.10720353 & -1.05020400\\\\\n",
       "\t110 & -0.86638264 & -0.77632390\\\\\n",
       "\t111 & -1.24668608 & -1.00359700\\\\\n",
       "\t112 &  2.20517134 &  2.27301600\\\\\n",
       "\t113 & -0.57462875 & -0.69563280\\\\\n",
       "\t114 & -1.25170642 & -0.94770990\\\\\n",
       "\t115 & -0.70530666 & -0.77925020\\\\\n",
       "\t116 & -0.34700307 & -0.30374850\\\\\n",
       "\t117 & -0.99706886 & -1.00788500\\\\\n",
       "\t118 & -0.98746501 & -1.06112900\\\\\n",
       "\t119 &  0.98762121 &  1.15855700\\\\\n",
       "\t120 & -1.26103397 & -0.75791830\\\\\n",
       "\t121 &  1.94383717 &  1.90562600\\\\\n",
       "\t122 &  0.96556034 &  0.93419190\\\\\n",
       "\t123 & -1.17430443 & -1.24965700\\\\\n",
       "\t124 & -1.19147586 & -1.00951500\\\\\n",
       "\t125 &  1.05986523 &  0.96847750\\\\\n",
       "\t126 & -0.16816697 & -0.30460690\\\\\n",
       "\t127 & -0.24714227 & -0.04716975\\\\\n",
       "\t128 & -0.82706734 & -0.94985260\\\\\n",
       "\t129 & -1.20179567 & -0.84208570\\\\\n",
       "\t130 &  2.40842985 &  2.36321900\\\\\n",
       "\t131 &  1.73005633 &  1.95088300\\\\\n",
       "\t132 &  1.34694132 &  1.29230400\\\\\n",
       "\t133 &  2.05619867 &  2.19456800\\\\\n",
       "\t134 & -0.79415451 & -0.81598020\\\\\n",
       "\t135 & -1.29917547 & -1.15575500\\\\\n",
       "\t136 &  1.06843029 &  0.88642840\\\\\n",
       "\t137 & -0.95251735 & -1.11592900\\\\\n",
       "\t138 & -0.43330255 & -0.61113820\\\\\n",
       "\t139 & -1.23748527 & -1.20458600\\\\\n",
       "\t140 & -1.29925509 & -1.24743300\\\\\n",
       "\t141 & -0.65460211 & -0.74649420\\\\\n",
       "\t142 &  0.03661286 &  0.10481760\\\\\n",
       "\t143 & -1.27497179 & -1.01605700\\\\\n",
       "\t144 &  1.72241998 &  1.43416100\\\\\n",
       "\t145 & -1.07896514 & -1.12316400\\\\\n",
       "\t146 &  0.63900362 &  0.53563450\\\\\n",
       "\t147 & -1.27036813 & -1.04593200\\\\\n",
       "\t148 &  2.13208195 &  2.12938300\\\\\n",
       "\t149 & -0.92493445 & -0.94637230\\\\\n",
       "\t150 &  0.32191163 &  0.13316900\\\\\n",
       "\\end{tabular}\n"
      ],
      "text/markdown": [
       "\n",
       "| <!--/--> | predicted | real | \n",
       "|---|---|---|---|---|---|---|---|---|---|---|---|---|---|---|---|---|---|---|---|---|---|---|---|---|---|---|---|---|---|---|---|---|---|---|---|---|---|---|---|---|---|---|---|---|---|---|---|---|---|\n",
       "| 101 |  0.23851771 |  0.34535520 | \n",
       "| 102 | -1.28901876 | -0.92871830 | \n",
       "| 103 | -1.03299760 | -1.10554200 | \n",
       "| 104 |  0.29623454 |  0.25755110 | \n",
       "| 105 |  3.81956661 |  3.91847900 | \n",
       "| 106 | -1.16426352 | -0.90301370 | \n",
       "| 107 |  1.70883341 |  1.68577600 | \n",
       "| 108 | -1.04027466 | -0.87389940 | \n",
       "| 109 | -1.10720353 | -1.05020400 | \n",
       "| 110 | -0.86638264 | -0.77632390 | \n",
       "| 111 | -1.24668608 | -1.00359700 | \n",
       "| 112 |  2.20517134 |  2.27301600 | \n",
       "| 113 | -0.57462875 | -0.69563280 | \n",
       "| 114 | -1.25170642 | -0.94770990 | \n",
       "| 115 | -0.70530666 | -0.77925020 | \n",
       "| 116 | -0.34700307 | -0.30374850 | \n",
       "| 117 | -0.99706886 | -1.00788500 | \n",
       "| 118 | -0.98746501 | -1.06112900 | \n",
       "| 119 |  0.98762121 |  1.15855700 | \n",
       "| 120 | -1.26103397 | -0.75791830 | \n",
       "| 121 |  1.94383717 |  1.90562600 | \n",
       "| 122 |  0.96556034 |  0.93419190 | \n",
       "| 123 | -1.17430443 | -1.24965700 | \n",
       "| 124 | -1.19147586 | -1.00951500 | \n",
       "| 125 |  1.05986523 |  0.96847750 | \n",
       "| 126 | -0.16816697 | -0.30460690 | \n",
       "| 127 | -0.24714227 | -0.04716975 | \n",
       "| 128 | -0.82706734 | -0.94985260 | \n",
       "| 129 | -1.20179567 | -0.84208570 | \n",
       "| 130 |  2.40842985 |  2.36321900 | \n",
       "| 131 |  1.73005633 |  1.95088300 | \n",
       "| 132 |  1.34694132 |  1.29230400 | \n",
       "| 133 |  2.05619867 |  2.19456800 | \n",
       "| 134 | -0.79415451 | -0.81598020 | \n",
       "| 135 | -1.29917547 | -1.15575500 | \n",
       "| 136 |  1.06843029 |  0.88642840 | \n",
       "| 137 | -0.95251735 | -1.11592900 | \n",
       "| 138 | -0.43330255 | -0.61113820 | \n",
       "| 139 | -1.23748527 | -1.20458600 | \n",
       "| 140 | -1.29925509 | -1.24743300 | \n",
       "| 141 | -0.65460211 | -0.74649420 | \n",
       "| 142 |  0.03661286 |  0.10481760 | \n",
       "| 143 | -1.27497179 | -1.01605700 | \n",
       "| 144 |  1.72241998 |  1.43416100 | \n",
       "| 145 | -1.07896514 | -1.12316400 | \n",
       "| 146 |  0.63900362 |  0.53563450 | \n",
       "| 147 | -1.27036813 | -1.04593200 | \n",
       "| 148 |  2.13208195 |  2.12938300 | \n",
       "| 149 | -0.92493445 | -0.94637230 | \n",
       "| 150 |  0.32191163 |  0.13316900 | \n",
       "\n",
       "\n"
      ],
      "text/plain": [
       "    predicted   real       \n",
       "101  0.23851771  0.34535520\n",
       "102 -1.28901876 -0.92871830\n",
       "103 -1.03299760 -1.10554200\n",
       "104  0.29623454  0.25755110\n",
       "105  3.81956661  3.91847900\n",
       "106 -1.16426352 -0.90301370\n",
       "107  1.70883341  1.68577600\n",
       "108 -1.04027466 -0.87389940\n",
       "109 -1.10720353 -1.05020400\n",
       "110 -0.86638264 -0.77632390\n",
       "111 -1.24668608 -1.00359700\n",
       "112  2.20517134  2.27301600\n",
       "113 -0.57462875 -0.69563280\n",
       "114 -1.25170642 -0.94770990\n",
       "115 -0.70530666 -0.77925020\n",
       "116 -0.34700307 -0.30374850\n",
       "117 -0.99706886 -1.00788500\n",
       "118 -0.98746501 -1.06112900\n",
       "119  0.98762121  1.15855700\n",
       "120 -1.26103397 -0.75791830\n",
       "121  1.94383717  1.90562600\n",
       "122  0.96556034  0.93419190\n",
       "123 -1.17430443 -1.24965700\n",
       "124 -1.19147586 -1.00951500\n",
       "125  1.05986523  0.96847750\n",
       "126 -0.16816697 -0.30460690\n",
       "127 -0.24714227 -0.04716975\n",
       "128 -0.82706734 -0.94985260\n",
       "129 -1.20179567 -0.84208570\n",
       "130  2.40842985  2.36321900\n",
       "131  1.73005633  1.95088300\n",
       "132  1.34694132  1.29230400\n",
       "133  2.05619867  2.19456800\n",
       "134 -0.79415451 -0.81598020\n",
       "135 -1.29917547 -1.15575500\n",
       "136  1.06843029  0.88642840\n",
       "137 -0.95251735 -1.11592900\n",
       "138 -0.43330255 -0.61113820\n",
       "139 -1.23748527 -1.20458600\n",
       "140 -1.29925509 -1.24743300\n",
       "141 -0.65460211 -0.74649420\n",
       "142  0.03661286  0.10481760\n",
       "143 -1.27497179 -1.01605700\n",
       "144  1.72241998  1.43416100\n",
       "145 -1.07896514 -1.12316400\n",
       "146  0.63900362  0.53563450\n",
       "147 -1.27036813 -1.04593200\n",
       "148  2.13208195  2.12938300\n",
       "149 -0.92493445 -0.94637230\n",
       "150  0.32191163  0.13316900"
      ]
     },
     "metadata": {},
     "output_type": "display_data"
    }
   ],
   "source": [
    "data.frame(\"predicted\"=predict_test_model5, \"real\"=test_y$response)"
   ]
  },
  {
   "cell_type": "code",
   "execution_count": 59,
   "metadata": {
    "collapsed": true
   },
   "outputs": [],
   "source": [
    "write.table(predict_test_model5, file=\"PR1_submit.dat\", col.names = F, row.names = F)"
   ]
  },
  {
   "cell_type": "code",
   "execution_count": 73,
   "metadata": {},
   "outputs": [
    {
     "data": {
      "image/png": "[encoded data removed]",
      "text/plain": [
       "plot without title"
      ]
     },
     "metadata": {},
     "output_type": "display_data"
    }
   ],
   "source": [
    "plot(test_y$response, predict_test_model5)"
   ]
  }
 ],
 "metadata": {
  "kernelspec": {
   "display_name": "R",
   "language": "R",
   "name": "ir"
  },
  "language_info": {
   "codemirror_mode": "r",
   "file_extension": ".r",
   "mimetype": "text/x-r-source",
   "name": "R",
   "pygments_lexer": "r",
   "version": "3.5.1"
  },
  "toc": {
   "base_numbering": 1,
   "nav_menu": {
    "height": "284px",
    "width": "205px"
   },
   "number_sections": true,
   "sideBar": true,
   "skip_h1_title": false,
   "title_cell": "Table of Contents",
   "title_sidebar": "Contents",
   "toc_cell": false,
   "toc_position": {},
   "toc_section_display": true,
   "toc_window_display": false
  },
  "varInspector": {
   "cols": {
    "lenName": 16,
    "lenType": 16,
    "lenVar": 40
   },
   "kernels_config": {
    "python": {
     "delete_cmd_postfix": "",
     "delete_cmd_prefix": "del ",
     "library": "var_list.py",
     "varRefreshCmd": "print(var_dic_list())"
    },
    "r": {
     "delete_cmd_postfix": ") ",
     "delete_cmd_prefix": "rm(",
     "library": "var_list.r",
     "varRefreshCmd": "cat(var_dic_list()) "
    }
   },
   "position": {
    "height": "292px",
    "left": "1947px",
    "right": "20px",
    "top": "561px",
    "width": "362px"
   },
   "types_to_exclude": [
    "module",
    "function",
    "builtin_function_or_method",
    "instance",
    "_Feature"
   ],
   "window_display": true
  }
 },
 "nbformat": 4,
 "nbformat_minor": 2
}
