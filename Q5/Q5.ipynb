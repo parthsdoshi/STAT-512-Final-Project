{
 "cells": [
  {
   "cell_type": "code",
   "execution_count": 1,
   "metadata": {
    "scrolled": true
   },
   "outputs": [
    {
     "name": "stderr",
     "output_type": "stream",
     "text": [
      "Loading required package: carData\n"
     ]
    }
   ],
   "source": [
    "library(\"car\")\n",
    "library(\"MASS\")"
   ]
  },
  {
   "cell_type": "code",
   "execution_count": 2,
   "metadata": {},
   "outputs": [
    {
     "data": {
      "text/html": [
       "<table>\n",
       "<thead><tr><th scope=col>a</th><th scope=col>b</th><th scope=col>c</th><th scope=col>response</th></tr></thead>\n",
       "<tbody>\n",
       "\t<tr><td>0.3810751       </td><td>A               </td><td>D               </td><td>3.2750839791569 </td></tr>\n",
       "\t<tr><td>0.5839031       </td><td>A               </td><td>D               </td><td>6.15893683904348</td></tr>\n",
       "\t<tr><td>0.9442381       </td><td>A               </td><td>D               </td><td>3.41909543163286</td></tr>\n",
       "\t<tr><td>3.0337701       </td><td>A               </td><td>D               </td><td>8.43174642768786</td></tr>\n",
       "\t<tr><td>1.0389591       </td><td>A               </td><td>D               </td><td>6.67844915648159</td></tr>\n",
       "\t<tr><td>0.9626621       </td><td>A               </td><td>D               </td><td>5.4526186752145 </td></tr>\n",
       "</tbody>\n",
       "</table>\n"
      ],
      "text/latex": [
       "\\begin{tabular}{r|llll}\n",
       " a & b & c & response\\\\\n",
       "\\hline\n",
       "\t 0.3810751        & A                & D                & 3.2750839791569 \\\\\n",
       "\t 0.5839031        & A                & D                & 6.15893683904348\\\\\n",
       "\t 0.9442381        & A                & D                & 3.41909543163286\\\\\n",
       "\t 3.0337701        & A                & D                & 8.43174642768786\\\\\n",
       "\t 1.0389591        & A                & D                & 6.67844915648159\\\\\n",
       "\t 0.9626621        & A                & D                & 5.4526186752145 \\\\\n",
       "\\end{tabular}\n"
      ],
      "text/markdown": [
       "\n",
       "a | b | c | response | \n",
       "|---|---|---|---|---|---|\n",
       "| 0.3810751        | A                | D                | 3.2750839791569  | \n",
       "| 0.5839031        | A                | D                | 6.15893683904348 | \n",
       "| 0.9442381        | A                | D                | 3.41909543163286 | \n",
       "| 3.0337701        | A                | D                | 8.43174642768786 | \n",
       "| 1.0389591        | A                | D                | 6.67844915648159 | \n",
       "| 0.9626621        | A                | D                | 5.4526186752145  | \n",
       "\n",
       "\n"
      ],
      "text/plain": [
       "  a         b c response        \n",
       "1 0.3810751 A D 3.2750839791569 \n",
       "2 0.5839031 A D 6.15893683904348\n",
       "3 0.9442381 A D 3.41909543163286\n",
       "4 3.0337701 A D 8.43174642768786\n",
       "5 1.0389591 A D 6.67844915648159\n",
       "6 0.9626621 A D 5.4526186752145 "
      ]
     },
     "metadata": {},
     "output_type": "display_data"
    }
   ],
   "source": [
    "q5 <- read.table(\n",
    "  \"finaltr5.dat\",\n",
    "  header = F,\n",
    "  as.is = T,\n",
    "  col.names = c('a','b','c', 'response')\n",
    ")\n",
    "c = ncol(q5)\n",
    "r = nrow(q5)\n",
    "\n",
    "head(q5)\n",
    "\n",
    "q5$b = as.factor(q5$b)\n",
    "q5$c = as.factor(q5$c)"
   ]
  },
  {
   "cell_type": "code",
   "execution_count": 24,
   "metadata": {
    "collapsed": true
   },
   "outputs": [
    {
     "data": {
      "text/html": [
       "<table>\n",
       "<thead><tr><th></th><th scope=col>a</th><th scope=col>b</th><th scope=col>c</th><th scope=col>response</th></tr></thead>\n",
       "<tbody>\n",
       "\t<tr><th scope=row>95</th><td>0.5962931</td><td>C        </td><td>E        </td><td>-4.175984</td></tr>\n",
       "\t<tr><th scope=row>96</th><td>0.3196521</td><td>C        </td><td>E        </td><td>-5.503045</td></tr>\n",
       "\t<tr><th scope=row>97</th><td>1.0546961</td><td>C        </td><td>E        </td><td>-2.635743</td></tr>\n",
       "\t<tr><th scope=row>98</th><td>0.6963731</td><td>C        </td><td>E        </td><td>-2.920227</td></tr>\n",
       "\t<tr><th scope=row>99</th><td>0.1210411</td><td>C        </td><td>E        </td><td>-4.682489</td></tr>\n",
       "\t<tr><th scope=row>100</th><td>0.0165321</td><td>C        </td><td>E        </td><td>-4.411574</td></tr>\n",
       "</tbody>\n",
       "</table>\n"
      ],
      "text/latex": [
       "\\begin{tabular}{r|llll}\n",
       "  & a & b & c & response\\\\\n",
       "\\hline\n",
       "\t95 & 0.5962931 & C         & E         & -4.175984\\\\\n",
       "\t96 & 0.3196521 & C         & E         & -5.503045\\\\\n",
       "\t97 & 1.0546961 & C         & E         & -2.635743\\\\\n",
       "\t98 & 0.6963731 & C         & E         & -2.920227\\\\\n",
       "\t99 & 0.1210411 & C         & E         & -4.682489\\\\\n",
       "\t100 & 0.0165321 & C         & E         & -4.411574\\\\\n",
       "\\end{tabular}\n"
      ],
      "text/markdown": [
       "\n",
       "| <!--/--> | a | b | c | response | \n",
       "|---|---|---|---|---|---|\n",
       "| 95 | 0.5962931 | C         | E         | -4.175984 | \n",
       "| 96 | 0.3196521 | C         | E         | -5.503045 | \n",
       "| 97 | 1.0546961 | C         | E         | -2.635743 | \n",
       "| 98 | 0.6963731 | C         | E         | -2.920227 | \n",
       "| 99 | 0.1210411 | C         | E         | -4.682489 | \n",
       "| 100 | 0.0165321 | C         | E         | -4.411574 | \n",
       "\n",
       "\n"
      ],
      "text/plain": [
       "    a         b c response \n",
       "95  0.5962931 C E -4.175984\n",
       "96  0.3196521 C E -5.503045\n",
       "97  1.0546961 C E -2.635743\n",
       "98  0.6963731 C E -2.920227\n",
       "99  0.1210411 C E -4.682489\n",
       "100 0.0165321 C E -4.411574"
      ]
     },
     "metadata": {},
     "output_type": "display_data"
    },
    {
     "data": {
      "text/html": [
       "<table>\n",
       "<thead><tr><th></th><th scope=col>a</th><th scope=col>b</th><th scope=col>c</th></tr></thead>\n",
       "<tbody>\n",
       "\t<tr><th scope=row>101</th><td>1.8035831</td><td>A        </td><td>D        </td></tr>\n",
       "\t<tr><th scope=row>102</th><td>0.5769951</td><td>A        </td><td>D        </td></tr>\n",
       "\t<tr><th scope=row>103</th><td>0.0723531</td><td>A        </td><td>D        </td></tr>\n",
       "\t<tr><th scope=row>104</th><td>0.4535631</td><td>A        </td><td>D        </td></tr>\n",
       "\t<tr><th scope=row>105</th><td>0.3435341</td><td>A        </td><td>D        </td></tr>\n",
       "\t<tr><th scope=row>106</th><td>2.8714181</td><td>A        </td><td>D        </td></tr>\n",
       "</tbody>\n",
       "</table>\n"
      ],
      "text/latex": [
       "\\begin{tabular}{r|lll}\n",
       "  & a & b & c\\\\\n",
       "\\hline\n",
       "\t101 & 1.8035831 & A         & D        \\\\\n",
       "\t102 & 0.5769951 & A         & D        \\\\\n",
       "\t103 & 0.0723531 & A         & D        \\\\\n",
       "\t104 & 0.4535631 & A         & D        \\\\\n",
       "\t105 & 0.3435341 & A         & D        \\\\\n",
       "\t106 & 2.8714181 & A         & D        \\\\\n",
       "\\end{tabular}\n"
      ],
      "text/markdown": [
       "\n",
       "| <!--/--> | a | b | c | \n",
       "|---|---|---|---|---|---|\n",
       "| 101 | 1.8035831 | A         | D         | \n",
       "| 102 | 0.5769951 | A         | D         | \n",
       "| 103 | 0.0723531 | A         | D         | \n",
       "| 104 | 0.4535631 | A         | D         | \n",
       "| 105 | 0.3435341 | A         | D         | \n",
       "| 106 | 2.8714181 | A         | D         | \n",
       "\n",
       "\n"
      ],
      "text/plain": [
       "    a         b c\n",
       "101 1.8035831 A D\n",
       "102 0.5769951 A D\n",
       "103 0.0723531 A D\n",
       "104 0.4535631 A D\n",
       "105 0.3435341 A D\n",
       "106 2.8714181 A D"
      ]
     },
     "metadata": {},
     "output_type": "display_data"
    },
    {
     "data": {
      "text/html": [
       "<table>\n",
       "<thead><tr><th scope=col>response</th></tr></thead>\n",
       "<tbody>\n",
       "\t<tr><td>7.179578</td></tr>\n",
       "\t<tr><td>4.850853</td></tr>\n",
       "\t<tr><td>4.716410</td></tr>\n",
       "\t<tr><td>5.015921</td></tr>\n",
       "\t<tr><td>5.900529</td></tr>\n",
       "\t<tr><td>7.250185</td></tr>\n",
       "</tbody>\n",
       "</table>\n"
      ],
      "text/latex": [
       "\\begin{tabular}{r|l}\n",
       " response\\\\\n",
       "\\hline\n",
       "\t 7.179578\\\\\n",
       "\t 4.850853\\\\\n",
       "\t 4.716410\\\\\n",
       "\t 5.015921\\\\\n",
       "\t 5.900529\\\\\n",
       "\t 7.250185\\\\\n",
       "\\end{tabular}\n"
      ],
      "text/markdown": [
       "\n",
       "response | \n",
       "|---|---|---|---|---|---|\n",
       "| 7.179578 | \n",
       "| 4.850853 | \n",
       "| 4.716410 | \n",
       "| 5.015921 | \n",
       "| 5.900529 | \n",
       "| 7.250185 | \n",
       "\n",
       "\n"
      ],
      "text/plain": [
       "  response\n",
       "1 7.179578\n",
       "2 4.850853\n",
       "3 4.716410\n",
       "4 5.015921\n",
       "5 5.900529\n",
       "6 7.250185"
      ]
     },
     "metadata": {},
     "output_type": "display_data"
    },
    {
     "data": {
      "text/html": [
       "60"
      ],
      "text/latex": [
       "60"
      ],
      "text/markdown": [
       "60"
      ],
      "text/plain": [
       "[1] 60"
      ]
     },
     "metadata": {},
     "output_type": "display_data"
    },
    {
     "data": {
      "text/html": [
       "60"
      ],
      "text/latex": [
       "60"
      ],
      "text/markdown": [
       "60"
      ],
      "text/plain": [
       "[1] 60"
      ]
     },
     "metadata": {},
     "output_type": "display_data"
    }
   ],
   "source": [
    "train = q5[1:100,]\n",
    "train$response = as.numeric(train$response)\n",
    "test_x = q5[101:nrow(q5),][,c('a','b','c')]\n",
    "test_y = read.table(\"finalprq5.dat\", header = F, as.is = T, col.names = c('response'))\n",
    "\n",
    "tail(train)\n",
    "head(test_x)\n",
    "head(test_y)\n",
    "\n",
    "nrow(test_x)\n",
    "nrow(test_y)"
   ]
  },
  {
   "cell_type": "code",
   "execution_count": 4,
   "metadata": {
    "collapsed": true
   },
   "outputs": [
    {
     "data": {
      "image/png": "[encoded data removed]",
      "text/plain": [
       "plot without title"
      ]
     },
     "metadata": {},
     "output_type": "display_data"
    },
    {
     "data": {
      "image/png": "[encoded data removed]",
      "text/plain": [
       "plot without title"
      ]
     },
     "metadata": {},
     "output_type": "display_data"
    },
    {
     "data": {
      "image/png": "[encoded data removed]",
      "text/plain": [
       "plot without title"
      ]
     },
     "metadata": {},
     "output_type": "display_data"
    },
    {
     "data": {
      "image/png": "[encoded data removed]",
      "text/plain": [
       "plot without title"
      ]
     },
     "metadata": {},
     "output_type": "display_data"
    }
   ],
   "source": [
    "plot(train$a, train$response)\n",
    "plot(train$b, train$response)\n",
    "plot(train$c, train$response)\n",
    "plot(1:nrow(train), train$response)"
   ]
  },
  {
   "cell_type": "code",
   "execution_count": 5,
   "metadata": {
    "collapsed": true
   },
   "outputs": [
    {
     "data": {
      "image/png": "[encoded data removed]",
      "text/plain": [
       "plot without title"
      ]
     },
     "metadata": {},
     "output_type": "display_data"
    }
   ],
   "source": [
    "plot(101:(100+nrow(test_y)), test_y$response)"
   ]
  },
  {
   "cell_type": "code",
   "execution_count": 25,
   "metadata": {
    "collapsed": true
   },
   "outputs": [
    {
     "data": {
      "text/plain": [
       "\n",
       "Call:\n",
       "lm(formula = response ~ a * b * c, data = train)\n",
       "\n",
       "Residuals:\n",
       "     Min       1Q   Median       3Q      Max \n",
       "-2.41428 -0.52275  0.04707  0.62529  1.62153 \n",
       "\n",
       "Coefficients: (2 not defined because of singularities)\n",
       "            Estimate Std. Error t value Pr(>|t|)    \n",
       "(Intercept)   5.1840     0.3276  15.823  < 2e-16 ***\n",
       "a             0.6877     0.2461   2.794  0.00636 ** \n",
       "bB           -9.7473     0.4343 -22.446  < 2e-16 ***\n",
       "bC           -6.0705     0.3977 -15.266  < 2e-16 ***\n",
       "cE           -2.9818     0.4406  -6.768 1.29e-09 ***\n",
       "a:bB         -0.0552     0.3701  -0.149  0.88175    \n",
       "a:bC          0.1281     0.1914   0.669  0.50510    \n",
       "a:cE         -0.0699     0.2768  -0.253  0.80123    \n",
       "bB:cE        13.8874     0.6241  22.251  < 2e-16 ***\n",
       "bC:cE             NA         NA      NA       NA    \n",
       "a:bB:cE       0.2733     0.4626   0.591  0.55614    \n",
       "a:bC:cE           NA         NA      NA       NA    \n",
       "---\n",
       "Signif. codes:  0 '***' 0.001 '**' 0.01 '*' 0.05 '.' 0.1 ' ' 1\n",
       "\n",
       "Residual standard error: 0.9268 on 90 degrees of freedom\n",
       "Multiple R-squared:  0.9659,\tAdjusted R-squared:  0.9625 \n",
       "F-statistic: 283.6 on 9 and 90 DF,  p-value: < 2.2e-16\n"
      ]
     },
     "metadata": {},
     "output_type": "display_data"
    },
    {
     "data": {
      "text/html": [
       "<table>\n",
       "<thead><tr><th></th><th scope=col>Df</th><th scope=col>Sum Sq</th><th scope=col>Mean Sq</th><th scope=col>F value</th><th scope=col>Pr(&gt;F)</th></tr></thead>\n",
       "<tbody>\n",
       "\t<tr><th scope=row>a</th><td> 1          </td><td>135.9078427 </td><td>135.9078427 </td><td> 158.2106063</td><td>1.558679e-21</td></tr>\n",
       "\t<tr><th scope=row>b</th><td> 2          </td><td>730.1341856 </td><td>365.0670928 </td><td> 424.9753726</td><td>1.416392e-46</td></tr>\n",
       "\t<tr><th scope=row>c</th><td> 1          </td><td>319.2948745 </td><td>319.2948745 </td><td> 371.6918367</td><td>1.034250e-33</td></tr>\n",
       "\t<tr><th scope=row>a:b</th><td> 2          </td><td> 59.1567444 </td><td> 29.5783722 </td><td>  34.4322454</td><td>7.847030e-12</td></tr>\n",
       "\t<tr><th scope=row>a:c</th><td> 1          </td><td> 19.7062389 </td><td> 19.7062389 </td><td>  22.9400743</td><td>6.540164e-06</td></tr>\n",
       "\t<tr><th scope=row>b:c</th><td> 1          </td><td>927.8432743 </td><td>927.8432743 </td><td>1080.1043122</td><td>6.477482e-52</td></tr>\n",
       "\t<tr><th scope=row>a:b:c</th><td> 1          </td><td>  0.2998403 </td><td>  0.2998403 </td><td>   0.3490447</td><td>5.561352e-01</td></tr>\n",
       "\t<tr><th scope=row>Residuals</th><td>90          </td><td> 77.3128056 </td><td>  0.8590312 </td><td>          NA</td><td>          NA</td></tr>\n",
       "</tbody>\n",
       "</table>\n"
      ],
      "text/latex": [
       "\\begin{tabular}{r|lllll}\n",
       "  & Df & Sum Sq & Mean Sq & F value & Pr(>F)\\\\\n",
       "\\hline\n",
       "\ta &  1           & 135.9078427  & 135.9078427  &  158.2106063 & 1.558679e-21\\\\\n",
       "\tb &  2           & 730.1341856  & 365.0670928  &  424.9753726 & 1.416392e-46\\\\\n",
       "\tc &  1           & 319.2948745  & 319.2948745  &  371.6918367 & 1.034250e-33\\\\\n",
       "\ta:b &  2           &  59.1567444  &  29.5783722  &   34.4322454 & 7.847030e-12\\\\\n",
       "\ta:c &  1           &  19.7062389  &  19.7062389  &   22.9400743 & 6.540164e-06\\\\\n",
       "\tb:c &  1           & 927.8432743  & 927.8432743  & 1080.1043122 & 6.477482e-52\\\\\n",
       "\ta:b:c &  1           &   0.2998403  &   0.2998403  &    0.3490447 & 5.561352e-01\\\\\n",
       "\tResiduals & 90           &  77.3128056  &   0.8590312  &           NA &           NA\\\\\n",
       "\\end{tabular}\n"
      ],
      "text/markdown": [
       "\n",
       "| <!--/--> | Df | Sum Sq | Mean Sq | F value | Pr(>F) | \n",
       "|---|---|---|---|---|---|---|---|\n",
       "| a |  1           | 135.9078427  | 135.9078427  |  158.2106063 | 1.558679e-21 | \n",
       "| b |  2           | 730.1341856  | 365.0670928  |  424.9753726 | 1.416392e-46 | \n",
       "| c |  1           | 319.2948745  | 319.2948745  |  371.6918367 | 1.034250e-33 | \n",
       "| a:b |  2           |  59.1567444  |  29.5783722  |   34.4322454 | 7.847030e-12 | \n",
       "| a:c |  1           |  19.7062389  |  19.7062389  |   22.9400743 | 6.540164e-06 | \n",
       "| b:c |  1           | 927.8432743  | 927.8432743  | 1080.1043122 | 6.477482e-52 | \n",
       "| a:b:c |  1           |   0.2998403  |   0.2998403  |    0.3490447 | 5.561352e-01 | \n",
       "| Residuals | 90           |  77.3128056  |   0.8590312  |           NA |           NA | \n",
       "\n",
       "\n"
      ],
      "text/plain": [
       "          Df Sum Sq      Mean Sq     F value      Pr(>F)      \n",
       "a          1 135.9078427 135.9078427  158.2106063 1.558679e-21\n",
       "b          2 730.1341856 365.0670928  424.9753726 1.416392e-46\n",
       "c          1 319.2948745 319.2948745  371.6918367 1.034250e-33\n",
       "a:b        2  59.1567444  29.5783722   34.4322454 7.847030e-12\n",
       "a:c        1  19.7062389  19.7062389   22.9400743 6.540164e-06\n",
       "b:c        1 927.8432743 927.8432743 1080.1043122 6.477482e-52\n",
       "a:b:c      1   0.2998403   0.2998403    0.3490447 5.561352e-01\n",
       "Residuals 90  77.3128056   0.8590312           NA           NA"
      ]
     },
     "metadata": {},
     "output_type": "display_data"
    }
   ],
   "source": [
    "sm = lm(response ~ a*b*c, data=train)\n",
    "summary(sm)\n",
    "anova(sm)"
   ]
  },
  {
   "cell_type": "code",
   "execution_count": 7,
   "metadata": {
    "collapsed": true
   },
   "outputs": [
    {
     "data": {
      "image/png": "[encoded data removed]",
      "text/plain": [
       "Plot with title \"Histogram\""
      ]
     },
     "metadata": {},
     "output_type": "display_data"
    },
    {
     "data": {
      "image/png": "[encoded data removed]",
      "text/plain": [
       "Plot with title \"QQnorm\""
      ]
     },
     "metadata": {},
     "output_type": "display_data"
    }
   ],
   "source": [
    "hist(sm$residuals, sub=\"Austin Jin\", main=\"Histogram\")\n",
    "qqnorm(sm$residuals, sub=\"Austin Jin\", main=\"QQnorm\")\n",
    "qqline(sm$residuals)"
   ]
  },
  {
   "cell_type": "code",
   "execution_count": 8,
   "metadata": {
    "collapsed": true
   },
   "outputs": [
    {
     "data": {
      "image/png": "[encoded data removed]",
      "text/plain": [
       "Plot with title \"residuals vs a\""
      ]
     },
     "metadata": {},
     "output_type": "display_data"
    },
    {
     "data": {
      "image/png": "[encoded data removed]",
      "text/plain": [
       "Plot with title \"residuals vs b\""
      ]
     },
     "metadata": {},
     "output_type": "display_data"
    },
    {
     "data": {
      "image/png": "[encoded data removed]",
      "text/plain": [
       "Plot with title \"residuals vs c\""
      ]
     },
     "metadata": {},
     "output_type": "display_data"
    }
   ],
   "source": [
    "plot(sm$residuals~a, data=train, sub=\"Austin Jin\", main=\"residuals vs a\")\n",
    "plot(sm$residuals~b, data=train, sub=\"Austin Jin\", main=\"residuals vs b\")\n",
    "plot(sm$residuals~c, data=train, sub=\"Austin Jin\", main=\"residuals vs c\")"
   ]
  },
  {
   "cell_type": "code",
   "execution_count": 32,
   "metadata": {},
   "outputs": [
    {
     "name": "stderr",
     "output_type": "stream",
     "text": [
      "Warning message in predict.lm(sm, test_x):\n",
      "\"prediction from a rank-deficient fit may be misleading\""
     ]
    },
    {
     "data": {
      "text/html": [
       "380.988674483591"
      ],
      "text/latex": [
       "380.988674483591"
      ],
      "text/markdown": [
       "380.988674483591"
      ],
      "text/plain": [
       "[1] 380.9887"
      ]
     },
     "metadata": {},
     "output_type": "display_data"
    },
    {
     "data": {
      "text/html": [
       "6.34981124139319"
      ],
      "text/latex": [
       "6.34981124139319"
      ],
      "text/markdown": [
       "6.34981124139319"
      ],
      "text/plain": [
       "[1] 6.349811"
      ]
     },
     "metadata": {},
     "output_type": "display_data"
    }
   ],
   "source": [
    "pr = predict(sm, test_x)\n",
    "sum((pr - test_y)^2)\n",
    "mean(((pr - test_y)^2)$response)"
   ]
  },
  {
   "cell_type": "code",
   "execution_count": 29,
   "metadata": {
    "collapsed": true
   },
   "outputs": [
    {
     "data": {
      "text/html": [
       "<table>\n",
       "<thead><tr><th></th><th scope=col>predicted</th><th scope=col>real</th></tr></thead>\n",
       "<tbody>\n",
       "\t<tr><th scope=row>101</th><td> 6.424367484</td><td> 7.17957800 </td></tr>\n",
       "\t<tr><th scope=row>102</th><td> 5.580815825</td><td> 4.85085300 </td></tr>\n",
       "\t<tr><th scope=row>103</th><td> 5.233762375</td><td> 4.71641000 </td></tr>\n",
       "\t<tr><th scope=row>104</th><td> 5.495928912</td><td> 5.01592100 </td></tr>\n",
       "\t<tr><th scope=row>105</th><td> 5.420259539</td><td> 5.90052900 </td></tr>\n",
       "\t<tr><th scope=row>106</th><td> 7.158741199</td><td> 7.25018500 </td></tr>\n",
       "\t<tr><th scope=row>107</th><td> 9.630250703</td><td> 9.20801700 </td></tr>\n",
       "\t<tr><th scope=row>108</th><td> 5.961259557</td><td> 6.91729700 </td></tr>\n",
       "\t<tr><th scope=row>109</th><td> 5.291449879</td><td> 6.21694300 </td></tr>\n",
       "\t<tr><th scope=row>110</th><td> 5.986915717</td><td> 7.58316200 </td></tr>\n",
       "\t<tr><th scope=row>111</th><td> 2.443586491</td><td> 4.00789000 </td></tr>\n",
       "\t<tr><th scope=row>112</th><td> 3.906904832</td><td> 4.52141800 </td></tr>\n",
       "\t<tr><th scope=row>113</th><td> 4.787186481</td><td> 4.61132000 </td></tr>\n",
       "\t<tr><th scope=row>114</th><td> 2.497424282</td><td> 2.98812600 </td></tr>\n",
       "\t<tr><th scope=row>115</th><td> 2.610717119</td><td> 3.66834300 </td></tr>\n",
       "\t<tr><th scope=row>116</th><td> 2.755486847</td><td> 3.22430000 </td></tr>\n",
       "\t<tr><th scope=row>117</th><td> 3.252219103</td><td> 4.28283700 </td></tr>\n",
       "\t<tr><th scope=row>118</th><td> 3.313921793</td><td> 3.74066700 </td></tr>\n",
       "\t<tr><th scope=row>119</th><td> 2.433252768</td><td> 3.76272200 </td></tr>\n",
       "\t<tr><th scope=row>120</th><td> 2.512292213</td><td> 2.26448700 </td></tr>\n",
       "\t<tr><th scope=row>121</th><td>-4.382540609</td><td>-5.25376200 </td></tr>\n",
       "\t<tr><th scope=row>122</th><td>-3.949473252</td><td>-3.27451200 </td></tr>\n",
       "\t<tr><th scope=row>123</th><td>-4.011762449</td><td>-4.86330300 </td></tr>\n",
       "\t<tr><th scope=row>124</th><td>-4.135782330</td><td>-4.40272800 </td></tr>\n",
       "\t<tr><th scope=row>125</th><td>-3.545218396</td><td>-2.84718400 </td></tr>\n",
       "\t<tr><th scope=row>126</th><td>-4.541720951</td><td>-4.14785500 </td></tr>\n",
       "\t<tr><th scope=row>127</th><td>-4.375828950</td><td>-5.11065500 </td></tr>\n",
       "\t<tr><th scope=row>128</th><td>-3.604596742</td><td>-3.46443500 </td></tr>\n",
       "\t<tr><th scope=row>129</th><td>-3.789019649</td><td>-3.86361700 </td></tr>\n",
       "\t<tr><th scope=row>130</th><td>-4.211403761</td><td>-3.70825500 </td></tr>\n",
       "\t<tr><th scope=row>131</th><td> 8.065051089</td><td> 8.78670200 </td></tr>\n",
       "\t<tr><th scope=row>132</th><td> 7.419889458</td><td> 5.42338800 </td></tr>\n",
       "\t<tr><th scope=row>133</th><td> 7.555165796</td><td> 7.06478100 </td></tr>\n",
       "\t<tr><th scope=row>134</th><td> 7.110505844</td><td> 6.96108200 </td></tr>\n",
       "\t<tr><th scope=row>135</th><td> 6.993325923</td><td> 6.55649600 </td></tr>\n",
       "\t<tr><th scope=row>136</th><td> 6.381851094</td><td> 6.56870600 </td></tr>\n",
       "\t<tr><th scope=row>137</th><td> 6.429938797</td><td> 4.21564400 </td></tr>\n",
       "\t<tr><th scope=row>138</th><td> 6.996536618</td><td> 7.00220500 </td></tr>\n",
       "\t<tr><th scope=row>139</th><td> 7.561177595</td><td> 8.26464800 </td></tr>\n",
       "\t<tr><th scope=row>140</th><td> 8.296897378</td><td> 9.47134500 </td></tr>\n",
       "\t<tr><th scope=row>141</th><td>-0.231475071</td><td>-3.30393500 </td></tr>\n",
       "\t<tr><th scope=row>142</th><td>-0.756940289</td><td>-4.22091400 </td></tr>\n",
       "\t<tr><th scope=row>143</th><td>-0.612813549</td><td>-4.56963300 </td></tr>\n",
       "\t<tr><th scope=row>144</th><td>-0.004474945</td><td>-5.08543300 </td></tr>\n",
       "\t<tr><th scope=row>145</th><td>-0.806270443</td><td>-5.66557200 </td></tr>\n",
       "\t<tr><th scope=row>146</th><td> 2.433317529</td><td>-1.69721000 </td></tr>\n",
       "\t<tr><th scope=row>147</th><td>-0.878008709</td><td>-3.59845100 </td></tr>\n",
       "\t<tr><th scope=row>148</th><td> 0.162678299</td><td>-3.54417900 </td></tr>\n",
       "\t<tr><th scope=row>149</th><td>-0.584265579</td><td>-3.48501200 </td></tr>\n",
       "\t<tr><th scope=row>150</th><td> 0.426240189</td><td>-3.40791800 </td></tr>\n",
       "\t<tr><th scope=row>151</th><td>-3.205743391</td><td> 1.44193900 </td></tr>\n",
       "\t<tr><th scope=row>152</th><td>-1.735869800</td><td> 4.26285600 </td></tr>\n",
       "\t<tr><th scope=row>153</th><td>-3.713269688</td><td> 0.61695960 </td></tr>\n",
       "\t<tr><th scope=row>154</th><td>-2.433302422</td><td> 0.85003680 </td></tr>\n",
       "\t<tr><th scope=row>155</th><td>-3.288732349</td><td> 2.52507000 </td></tr>\n",
       "\t<tr><th scope=row>156</th><td>-2.390481322</td><td> 1.49256300 </td></tr>\n",
       "\t<tr><th scope=row>157</th><td>-3.774983481</td><td> 0.05800241 </td></tr>\n",
       "\t<tr><th scope=row>158</th><td>-3.413818864</td><td> 0.63027110 </td></tr>\n",
       "\t<tr><th scope=row>159</th><td>-2.910163897</td><td> 1.02112100 </td></tr>\n",
       "\t<tr><th scope=row>160</th><td>-3.168999311</td><td> 1.47429600 </td></tr>\n",
       "</tbody>\n",
       "</table>\n"
      ],
      "text/latex": [
       "\\begin{tabular}{r|ll}\n",
       "  & predicted & real\\\\\n",
       "\\hline\n",
       "\t101 &  6.424367484 &  7.17957800 \\\\\n",
       "\t102 &  5.580815825 &  4.85085300 \\\\\n",
       "\t103 &  5.233762375 &  4.71641000 \\\\\n",
       "\t104 &  5.495928912 &  5.01592100 \\\\\n",
       "\t105 &  5.420259539 &  5.90052900 \\\\\n",
       "\t106 &  7.158741199 &  7.25018500 \\\\\n",
       "\t107 &  9.630250703 &  9.20801700 \\\\\n",
       "\t108 &  5.961259557 &  6.91729700 \\\\\n",
       "\t109 &  5.291449879 &  6.21694300 \\\\\n",
       "\t110 &  5.986915717 &  7.58316200 \\\\\n",
       "\t111 &  2.443586491 &  4.00789000 \\\\\n",
       "\t112 &  3.906904832 &  4.52141800 \\\\\n",
       "\t113 &  4.787186481 &  4.61132000 \\\\\n",
       "\t114 &  2.497424282 &  2.98812600 \\\\\n",
       "\t115 &  2.610717119 &  3.66834300 \\\\\n",
       "\t116 &  2.755486847 &  3.22430000 \\\\\n",
       "\t117 &  3.252219103 &  4.28283700 \\\\\n",
       "\t118 &  3.313921793 &  3.74066700 \\\\\n",
       "\t119 &  2.433252768 &  3.76272200 \\\\\n",
       "\t120 &  2.512292213 &  2.26448700 \\\\\n",
       "\t121 & -4.382540609 & -5.25376200 \\\\\n",
       "\t122 & -3.949473252 & -3.27451200 \\\\\n",
       "\t123 & -4.011762449 & -4.86330300 \\\\\n",
       "\t124 & -4.135782330 & -4.40272800 \\\\\n",
       "\t125 & -3.545218396 & -2.84718400 \\\\\n",
       "\t126 & -4.541720951 & -4.14785500 \\\\\n",
       "\t127 & -4.375828950 & -5.11065500 \\\\\n",
       "\t128 & -3.604596742 & -3.46443500 \\\\\n",
       "\t129 & -3.789019649 & -3.86361700 \\\\\n",
       "\t130 & -4.211403761 & -3.70825500 \\\\\n",
       "\t131 &  8.065051089 &  8.78670200 \\\\\n",
       "\t132 &  7.419889458 &  5.42338800 \\\\\n",
       "\t133 &  7.555165796 &  7.06478100 \\\\\n",
       "\t134 &  7.110505844 &  6.96108200 \\\\\n",
       "\t135 &  6.993325923 &  6.55649600 \\\\\n",
       "\t136 &  6.381851094 &  6.56870600 \\\\\n",
       "\t137 &  6.429938797 &  4.21564400 \\\\\n",
       "\t138 &  6.996536618 &  7.00220500 \\\\\n",
       "\t139 &  7.561177595 &  8.26464800 \\\\\n",
       "\t140 &  8.296897378 &  9.47134500 \\\\\n",
       "\t141 & -0.231475071 & -3.30393500 \\\\\n",
       "\t142 & -0.756940289 & -4.22091400 \\\\\n",
       "\t143 & -0.612813549 & -4.56963300 \\\\\n",
       "\t144 & -0.004474945 & -5.08543300 \\\\\n",
       "\t145 & -0.806270443 & -5.66557200 \\\\\n",
       "\t146 &  2.433317529 & -1.69721000 \\\\\n",
       "\t147 & -0.878008709 & -3.59845100 \\\\\n",
       "\t148 &  0.162678299 & -3.54417900 \\\\\n",
       "\t149 & -0.584265579 & -3.48501200 \\\\\n",
       "\t150 &  0.426240189 & -3.40791800 \\\\\n",
       "\t151 & -3.205743391 &  1.44193900 \\\\\n",
       "\t152 & -1.735869800 &  4.26285600 \\\\\n",
       "\t153 & -3.713269688 &  0.61695960 \\\\\n",
       "\t154 & -2.433302422 &  0.85003680 \\\\\n",
       "\t155 & -3.288732349 &  2.52507000 \\\\\n",
       "\t156 & -2.390481322 &  1.49256300 \\\\\n",
       "\t157 & -3.774983481 &  0.05800241 \\\\\n",
       "\t158 & -3.413818864 &  0.63027110 \\\\\n",
       "\t159 & -2.910163897 &  1.02112100 \\\\\n",
       "\t160 & -3.168999311 &  1.47429600 \\\\\n",
       "\\end{tabular}\n"
      ],
      "text/markdown": [
       "\n",
       "| <!--/--> | predicted | real | \n",
       "|---|---|---|---|---|---|---|---|---|---|---|---|---|---|---|---|---|---|---|---|---|---|---|---|---|---|---|---|---|---|---|---|---|---|---|---|---|---|---|---|---|---|---|---|---|---|---|---|---|---|---|---|---|---|---|---|---|---|---|---|\n",
       "| 101 |  6.424367484 |  7.17957800  | \n",
       "| 102 |  5.580815825 |  4.85085300  | \n",
       "| 103 |  5.233762375 |  4.71641000  | \n",
       "| 104 |  5.495928912 |  5.01592100  | \n",
       "| 105 |  5.420259539 |  5.90052900  | \n",
       "| 106 |  7.158741199 |  7.25018500  | \n",
       "| 107 |  9.630250703 |  9.20801700  | \n",
       "| 108 |  5.961259557 |  6.91729700  | \n",
       "| 109 |  5.291449879 |  6.21694300  | \n",
       "| 110 |  5.986915717 |  7.58316200  | \n",
       "| 111 |  2.443586491 |  4.00789000  | \n",
       "| 112 |  3.906904832 |  4.52141800  | \n",
       "| 113 |  4.787186481 |  4.61132000  | \n",
       "| 114 |  2.497424282 |  2.98812600  | \n",
       "| 115 |  2.610717119 |  3.66834300  | \n",
       "| 116 |  2.755486847 |  3.22430000  | \n",
       "| 117 |  3.252219103 |  4.28283700  | \n",
       "| 118 |  3.313921793 |  3.74066700  | \n",
       "| 119 |  2.433252768 |  3.76272200  | \n",
       "| 120 |  2.512292213 |  2.26448700  | \n",
       "| 121 | -4.382540609 | -5.25376200  | \n",
       "| 122 | -3.949473252 | -3.27451200  | \n",
       "| 123 | -4.011762449 | -4.86330300  | \n",
       "| 124 | -4.135782330 | -4.40272800  | \n",
       "| 125 | -3.545218396 | -2.84718400  | \n",
       "| 126 | -4.541720951 | -4.14785500  | \n",
       "| 127 | -4.375828950 | -5.11065500  | \n",
       "| 128 | -3.604596742 | -3.46443500  | \n",
       "| 129 | -3.789019649 | -3.86361700  | \n",
       "| 130 | -4.211403761 | -3.70825500  | \n",
       "| 131 |  8.065051089 |  8.78670200  | \n",
       "| 132 |  7.419889458 |  5.42338800  | \n",
       "| 133 |  7.555165796 |  7.06478100  | \n",
       "| 134 |  7.110505844 |  6.96108200  | \n",
       "| 135 |  6.993325923 |  6.55649600  | \n",
       "| 136 |  6.381851094 |  6.56870600  | \n",
       "| 137 |  6.429938797 |  4.21564400  | \n",
       "| 138 |  6.996536618 |  7.00220500  | \n",
       "| 139 |  7.561177595 |  8.26464800  | \n",
       "| 140 |  8.296897378 |  9.47134500  | \n",
       "| 141 | -0.231475071 | -3.30393500  | \n",
       "| 142 | -0.756940289 | -4.22091400  | \n",
       "| 143 | -0.612813549 | -4.56963300  | \n",
       "| 144 | -0.004474945 | -5.08543300  | \n",
       "| 145 | -0.806270443 | -5.66557200  | \n",
       "| 146 |  2.433317529 | -1.69721000  | \n",
       "| 147 | -0.878008709 | -3.59845100  | \n",
       "| 148 |  0.162678299 | -3.54417900  | \n",
       "| 149 | -0.584265579 | -3.48501200  | \n",
       "| 150 |  0.426240189 | -3.40791800  | \n",
       "| 151 | -3.205743391 |  1.44193900  | \n",
       "| 152 | -1.735869800 |  4.26285600  | \n",
       "| 153 | -3.713269688 |  0.61695960  | \n",
       "| 154 | -2.433302422 |  0.85003680  | \n",
       "| 155 | -3.288732349 |  2.52507000  | \n",
       "| 156 | -2.390481322 |  1.49256300  | \n",
       "| 157 | -3.774983481 |  0.05800241  | \n",
       "| 158 | -3.413818864 |  0.63027110  | \n",
       "| 159 | -2.910163897 |  1.02112100  | \n",
       "| 160 | -3.168999311 |  1.47429600  | \n",
       "\n",
       "\n"
      ],
      "text/plain": [
       "    predicted    real       \n",
       "101  6.424367484  7.17957800\n",
       "102  5.580815825  4.85085300\n",
       "103  5.233762375  4.71641000\n",
       "104  5.495928912  5.01592100\n",
       "105  5.420259539  5.90052900\n",
       "106  7.158741199  7.25018500\n",
       "107  9.630250703  9.20801700\n",
       "108  5.961259557  6.91729700\n",
       "109  5.291449879  6.21694300\n",
       "110  5.986915717  7.58316200\n",
       "111  2.443586491  4.00789000\n",
       "112  3.906904832  4.52141800\n",
       "113  4.787186481  4.61132000\n",
       "114  2.497424282  2.98812600\n",
       "115  2.610717119  3.66834300\n",
       "116  2.755486847  3.22430000\n",
       "117  3.252219103  4.28283700\n",
       "118  3.313921793  3.74066700\n",
       "119  2.433252768  3.76272200\n",
       "120  2.512292213  2.26448700\n",
       "121 -4.382540609 -5.25376200\n",
       "122 -3.949473252 -3.27451200\n",
       "123 -4.011762449 -4.86330300\n",
       "124 -4.135782330 -4.40272800\n",
       "125 -3.545218396 -2.84718400\n",
       "126 -4.541720951 -4.14785500\n",
       "127 -4.375828950 -5.11065500\n",
       "128 -3.604596742 -3.46443500\n",
       "129 -3.789019649 -3.86361700\n",
       "130 -4.211403761 -3.70825500\n",
       "131  8.065051089  8.78670200\n",
       "132  7.419889458  5.42338800\n",
       "133  7.555165796  7.06478100\n",
       "134  7.110505844  6.96108200\n",
       "135  6.993325923  6.55649600\n",
       "136  6.381851094  6.56870600\n",
       "137  6.429938797  4.21564400\n",
       "138  6.996536618  7.00220500\n",
       "139  7.561177595  8.26464800\n",
       "140  8.296897378  9.47134500\n",
       "141 -0.231475071 -3.30393500\n",
       "142 -0.756940289 -4.22091400\n",
       "143 -0.612813549 -4.56963300\n",
       "144 -0.004474945 -5.08543300\n",
       "145 -0.806270443 -5.66557200\n",
       "146  2.433317529 -1.69721000\n",
       "147 -0.878008709 -3.59845100\n",
       "148  0.162678299 -3.54417900\n",
       "149 -0.584265579 -3.48501200\n",
       "150  0.426240189 -3.40791800\n",
       "151 -3.205743391  1.44193900\n",
       "152 -1.735869800  4.26285600\n",
       "153 -3.713269688  0.61695960\n",
       "154 -2.433302422  0.85003680\n",
       "155 -3.288732349  2.52507000\n",
       "156 -2.390481322  1.49256300\n",
       "157 -3.774983481  0.05800241\n",
       "158 -3.413818864  0.63027110\n",
       "159 -2.910163897  1.02112100\n",
       "160 -3.168999311  1.47429600"
      ]
     },
     "metadata": {},
     "output_type": "display_data"
    }
   ],
   "source": [
    "data.frame(predicted=pr, real=test_y$response)"
   ]
  },
  {
   "cell_type": "code",
   "execution_count": 31,
   "metadata": {},
   "outputs": [],
   "source": [
    "write.table(pr, file=\"PR5_submit.dat\", col.names = F, row.names = F)"
   ]
  }
 ],
 "metadata": {
  "kernelspec": {
   "display_name": "R",
   "language": "R",
   "name": "ir"
  },
  "language_info": {
   "codemirror_mode": "r",
   "file_extension": ".r",
   "mimetype": "text/x-r-source",
   "name": "R",
   "pygments_lexer": "r",
   "version": "3.5.1"
  },
  "toc": {
   "base_numbering": 1,
   "nav_menu": {
    "height": "284px",
    "width": "205px"
   },
   "number_sections": true,
   "sideBar": true,
   "skip_h1_title": false,
   "title_cell": "Table of Contents",
   "title_sidebar": "Contents",
   "toc_cell": false,
   "toc_position": {},
   "toc_section_display": true,
   "toc_window_display": false
  },
  "varInspector": {
   "cols": {
    "lenName": 16,
    "lenType": 16,
    "lenVar": 40
   },
   "kernels_config": {
    "python": {
     "delete_cmd_postfix": "",
     "delete_cmd_prefix": "del ",
     "library": "var_list.py",
     "varRefreshCmd": "print(var_dic_list())"
    },
    "r": {
     "delete_cmd_postfix": ") ",
     "delete_cmd_prefix": "rm(",
     "library": "var_list.r",
     "varRefreshCmd": "cat(var_dic_list()) "
    }
   },
   "position": {
    "height": "292px",
    "left": "1947px",
    "right": "20px",
    "top": "561px",
    "width": "362px"
   },
   "types_to_exclude": [
    "module",
    "function",
    "builtin_function_or_method",
    "instance",
    "_Feature"
   ],
   "window_display": true
  }
 },
 "nbformat": 4,
 "nbformat_minor": 2
}
