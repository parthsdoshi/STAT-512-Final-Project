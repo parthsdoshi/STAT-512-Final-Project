{
 "cells": [
  {
   "cell_type": "code",
   "execution_count": 1,
   "metadata": {
    "scrolled": true
   },
   "outputs": [
    {
     "name": "stderr",
     "output_type": "stream",
     "text": [
      "Loading required package: carData\n"
     ]
    }
   ],
   "source": [
    "library(\"car\")\n",
    "library(\"MASS\")"
   ]
  },
  {
   "cell_type": "code",
   "execution_count": 2,
   "metadata": {
    "collapsed": true
   },
   "outputs": [
    {
     "data": {
      "text/html": [
       "<table>\n",
       "<thead><tr><th scope=col>a</th><th scope=col>b</th><th scope=col>c</th><th scope=col>d</th><th scope=col>e</th><th scope=col>f</th><th scope=col>g</th><th scope=col>h</th><th scope=col>i</th><th scope=col>j</th><th scope=col>response</th></tr></thead>\n",
       "<tbody>\n",
       "\t<tr><td>0               </td><td> 0.31726887     </td><td> 0.08564415     </td><td>-0.038328750    </td><td>-0.1034316      </td><td> 0.451137962    </td><td> 0.29156438     </td><td> 0.40869647     </td><td> 0.03699022     </td><td>-0.19978583     </td><td>12.5376679456862</td></tr>\n",
       "\t<tr><td>0               </td><td>-0.07586539     </td><td> 0.42858947     </td><td>-0.191666936    </td><td> 0.1388422      </td><td>-0.335911925    </td><td>-0.43656450     </td><td>-0.25639138     </td><td> 0.14838105     </td><td>-0.02905920     </td><td>12.1282890038756</td></tr>\n",
       "\t<tr><td>0               </td><td>-0.54463882     </td><td>-0.32330902     </td><td>-0.006278447    </td><td> 0.3875557      </td><td>-0.054835043    </td><td>-0.15208404     </td><td> 0.14170950     </td><td>-0.19934626     </td><td>-0.27475601     </td><td>11.443279771575 </td></tr>\n",
       "\t<tr><td>0               </td><td> 0.15910182     </td><td>-0.32566110     </td><td> 0.194561615    </td><td> 0.5240460      </td><td>-0.007248998    </td><td> 0.04267573     </td><td> 0.05587233     </td><td> 0.06127263     </td><td>-0.08145219     </td><td>11.918650686791 </td></tr>\n",
       "\t<tr><td>0               </td><td> 0.40951628     </td><td>-0.28005475     </td><td>-0.065043078    </td><td>-0.2017310      </td><td>-0.024911327    </td><td>-0.36233726     </td><td> 0.02520112     </td><td> 0.29770396     </td><td>-0.31349363     </td><td>11.5912462572279</td></tr>\n",
       "\t<tr><td>0               </td><td> 0.03806039     </td><td>-0.02319495     </td><td>-0.178538576    </td><td> 0.2230465      </td><td> 0.134996281    </td><td>-0.38646176     </td><td>-0.24715376     </td><td>-0.18564058     </td><td>-0.17343779     </td><td>11.8086772869799</td></tr>\n",
       "</tbody>\n",
       "</table>\n"
      ],
      "text/latex": [
       "\\begin{tabular}{r|lllllllllll}\n",
       " a & b & c & d & e & f & g & h & i & j & response\\\\\n",
       "\\hline\n",
       "\t 0                &  0.31726887      &  0.08564415      & -0.038328750     & -0.1034316       &  0.451137962     &  0.29156438      &  0.40869647      &  0.03699022      & -0.19978583      & 12.5376679456862\\\\\n",
       "\t 0                & -0.07586539      &  0.42858947      & -0.191666936     &  0.1388422       & -0.335911925     & -0.43656450      & -0.25639138      &  0.14838105      & -0.02905920      & 12.1282890038756\\\\\n",
       "\t 0                & -0.54463882      & -0.32330902      & -0.006278447     &  0.3875557       & -0.054835043     & -0.15208404      &  0.14170950      & -0.19934626      & -0.27475601      & 11.443279771575 \\\\\n",
       "\t 0                &  0.15910182      & -0.32566110      &  0.194561615     &  0.5240460       & -0.007248998     &  0.04267573      &  0.05587233      &  0.06127263      & -0.08145219      & 11.918650686791 \\\\\n",
       "\t 0                &  0.40951628      & -0.28005475      & -0.065043078     & -0.2017310       & -0.024911327     & -0.36233726      &  0.02520112      &  0.29770396      & -0.31349363      & 11.5912462572279\\\\\n",
       "\t 0                &  0.03806039      & -0.02319495      & -0.178538576     &  0.2230465       &  0.134996281     & -0.38646176      & -0.24715376      & -0.18564058      & -0.17343779      & 11.8086772869799\\\\\n",
       "\\end{tabular}\n"
      ],
      "text/markdown": [
       "\n",
       "a | b | c | d | e | f | g | h | i | j | response | \n",
       "|---|---|---|---|---|---|\n",
       "| 0                |  0.31726887      |  0.08564415      | -0.038328750     | -0.1034316       |  0.451137962     |  0.29156438      |  0.40869647      |  0.03699022      | -0.19978583      | 12.5376679456862 | \n",
       "| 0                | -0.07586539      |  0.42858947      | -0.191666936     |  0.1388422       | -0.335911925     | -0.43656450      | -0.25639138      |  0.14838105      | -0.02905920      | 12.1282890038756 | \n",
       "| 0                | -0.54463882      | -0.32330902      | -0.006278447     |  0.3875557       | -0.054835043     | -0.15208404      |  0.14170950      | -0.19934626      | -0.27475601      | 11.443279771575  | \n",
       "| 0                |  0.15910182      | -0.32566110      |  0.194561615     |  0.5240460       | -0.007248998     |  0.04267573      |  0.05587233      |  0.06127263      | -0.08145219      | 11.918650686791  | \n",
       "| 0                |  0.40951628      | -0.28005475      | -0.065043078     | -0.2017310       | -0.024911327     | -0.36233726      |  0.02520112      |  0.29770396      | -0.31349363      | 11.5912462572279 | \n",
       "| 0                |  0.03806039      | -0.02319495      | -0.178538576     |  0.2230465       |  0.134996281     | -0.38646176      | -0.24715376      | -0.18564058      | -0.17343779      | 11.8086772869799 | \n",
       "\n",
       "\n"
      ],
      "text/plain": [
       "  a b           c           d            e          f            g          \n",
       "1 0  0.31726887  0.08564415 -0.038328750 -0.1034316  0.451137962  0.29156438\n",
       "2 0 -0.07586539  0.42858947 -0.191666936  0.1388422 -0.335911925 -0.43656450\n",
       "3 0 -0.54463882 -0.32330902 -0.006278447  0.3875557 -0.054835043 -0.15208404\n",
       "4 0  0.15910182 -0.32566110  0.194561615  0.5240460 -0.007248998  0.04267573\n",
       "5 0  0.40951628 -0.28005475 -0.065043078 -0.2017310 -0.024911327 -0.36233726\n",
       "6 0  0.03806039 -0.02319495 -0.178538576  0.2230465  0.134996281 -0.38646176\n",
       "  h           i           j           response        \n",
       "1  0.40869647  0.03699022 -0.19978583 12.5376679456862\n",
       "2 -0.25639138  0.14838105 -0.02905920 12.1282890038756\n",
       "3  0.14170950 -0.19934626 -0.27475601 11.443279771575 \n",
       "4  0.05587233  0.06127263 -0.08145219 11.918650686791 \n",
       "5  0.02520112  0.29770396 -0.31349363 11.5912462572279\n",
       "6 -0.24715376 -0.18564058 -0.17343779 11.8086772869799"
      ]
     },
     "metadata": {},
     "output_type": "display_data"
    }
   ],
   "source": [
    "q2 <- read.table(\n",
    "  \"finaltr2.dat\",\n",
    "  header = F,\n",
    "  as.is = T,\n",
    "  col.names = c('a','b','c','d','e','f','g','h','i','j','response')\n",
    ")\n",
    "c = ncol(q2)\n",
    "r = nrow(q2)\n",
    "\n",
    "head(q2)"
   ]
  },
  {
   "cell_type": "code",
   "execution_count": 3,
   "metadata": {
    "collapsed": true
   },
   "outputs": [
    {
     "data": {
      "text/html": [
       "<table>\n",
       "<thead><tr><th></th><th scope=col>a</th><th scope=col>b</th><th scope=col>c</th><th scope=col>d</th><th scope=col>e</th><th scope=col>f</th><th scope=col>g</th><th scope=col>h</th><th scope=col>i</th><th scope=col>j</th><th scope=col>response</th></tr></thead>\n",
       "<tbody>\n",
       "\t<tr><th scope=row>145</th><td>1            </td><td>-0.08124532  </td><td>-0.343296214 </td><td> 0.3439812176</td><td>-0.468286495 </td><td> 0.29620779  </td><td> 0.064219170 </td><td> 0.12806953  </td><td>-0.01214139  </td><td>-0.2129433   </td><td>1.787817     </td></tr>\n",
       "\t<tr><th scope=row>146</th><td>1            </td><td>-0.35185880  </td><td>-0.017483131 </td><td> 0.2262692897</td><td> 0.101562900 </td><td>-0.32684413  </td><td>-0.152794456 </td><td>-0.04506572  </td><td> 0.24741021  </td><td> 0.2641316   </td><td>2.207490     </td></tr>\n",
       "\t<tr><th scope=row>147</th><td>1            </td><td>-0.29211251  </td><td>-0.167361958 </td><td>-0.1551395307</td><td> 0.809201210 </td><td>-0.22561940  </td><td> 0.008867698 </td><td> 0.63824165  </td><td>-0.04989697  </td><td>-0.1817400   </td><td>1.881518     </td></tr>\n",
       "\t<tr><th scope=row>148</th><td>1            </td><td>-0.04706960  </td><td> 0.493856057 </td><td>-0.1275468404</td><td>-0.003247908 </td><td>-0.55089261  </td><td>-0.179888550 </td><td> 0.11215797  </td><td>-0.17362838  </td><td>-0.2284914   </td><td>1.847819     </td></tr>\n",
       "\t<tr><th scope=row>149</th><td>1            </td><td> 0.19509126  </td><td> 0.003592989 </td><td> 0.0762413103</td><td>-0.496084038 </td><td>-0.11743275  </td><td> 0.252375246 </td><td>-0.60407608  </td><td>-0.12821984  </td><td> 0.1794245   </td><td>1.861189     </td></tr>\n",
       "\t<tr><th scope=row>150</th><td>1            </td><td> 0.38014314  </td><td>-0.081461434 </td><td>-0.0009048289</td><td>-0.120139817 </td><td> 0.04659817  </td><td>-0.321336283 </td><td> 0.02289315  </td><td>-0.19212816  </td><td>-0.1445646   </td><td>1.745381     </td></tr>\n",
       "</tbody>\n",
       "</table>\n"
      ],
      "text/latex": [
       "\\begin{tabular}{r|lllllllllll}\n",
       "  & a & b & c & d & e & f & g & h & i & j & response\\\\\n",
       "\\hline\n",
       "\t145 & 1             & -0.08124532   & -0.343296214  &  0.3439812176 & -0.468286495  &  0.29620779   &  0.064219170  &  0.12806953   & -0.01214139   & -0.2129433    & 1.787817     \\\\\n",
       "\t146 & 1             & -0.35185880   & -0.017483131  &  0.2262692897 &  0.101562900  & -0.32684413   & -0.152794456  & -0.04506572   &  0.24741021   &  0.2641316    & 2.207490     \\\\\n",
       "\t147 & 1             & -0.29211251   & -0.167361958  & -0.1551395307 &  0.809201210  & -0.22561940   &  0.008867698  &  0.63824165   & -0.04989697   & -0.1817400    & 1.881518     \\\\\n",
       "\t148 & 1             & -0.04706960   &  0.493856057  & -0.1275468404 & -0.003247908  & -0.55089261   & -0.179888550  &  0.11215797   & -0.17362838   & -0.2284914    & 1.847819     \\\\\n",
       "\t149 & 1             &  0.19509126   &  0.003592989  &  0.0762413103 & -0.496084038  & -0.11743275   &  0.252375246  & -0.60407608   & -0.12821984   &  0.1794245    & 1.861189     \\\\\n",
       "\t150 & 1             &  0.38014314   & -0.081461434  & -0.0009048289 & -0.120139817  &  0.04659817   & -0.321336283  &  0.02289315   & -0.19212816   & -0.1445646    & 1.745381     \\\\\n",
       "\\end{tabular}\n"
      ],
      "text/markdown": [
       "\n",
       "| <!--/--> | a | b | c | d | e | f | g | h | i | j | response | \n",
       "|---|---|---|---|---|---|\n",
       "| 145 | 1             | -0.08124532   | -0.343296214  |  0.3439812176 | -0.468286495  |  0.29620779   |  0.064219170  |  0.12806953   | -0.01214139   | -0.2129433    | 1.787817      | \n",
       "| 146 | 1             | -0.35185880   | -0.017483131  |  0.2262692897 |  0.101562900  | -0.32684413   | -0.152794456  | -0.04506572   |  0.24741021   |  0.2641316    | 2.207490      | \n",
       "| 147 | 1             | -0.29211251   | -0.167361958  | -0.1551395307 |  0.809201210  | -0.22561940   |  0.008867698  |  0.63824165   | -0.04989697   | -0.1817400    | 1.881518      | \n",
       "| 148 | 1             | -0.04706960   |  0.493856057  | -0.1275468404 | -0.003247908  | -0.55089261   | -0.179888550  |  0.11215797   | -0.17362838   | -0.2284914    | 1.847819      | \n",
       "| 149 | 1             |  0.19509126   |  0.003592989  |  0.0762413103 | -0.496084038  | -0.11743275   |  0.252375246  | -0.60407608   | -0.12821984   |  0.1794245    | 1.861189      | \n",
       "| 150 | 1             |  0.38014314   | -0.081461434  | -0.0009048289 | -0.120139817  |  0.04659817   | -0.321336283  |  0.02289315   | -0.19212816   | -0.1445646    | 1.745381      | \n",
       "\n",
       "\n"
      ],
      "text/plain": [
       "    a b           c            d             e            f          \n",
       "145 1 -0.08124532 -0.343296214  0.3439812176 -0.468286495  0.29620779\n",
       "146 1 -0.35185880 -0.017483131  0.2262692897  0.101562900 -0.32684413\n",
       "147 1 -0.29211251 -0.167361958 -0.1551395307  0.809201210 -0.22561940\n",
       "148 1 -0.04706960  0.493856057 -0.1275468404 -0.003247908 -0.55089261\n",
       "149 1  0.19509126  0.003592989  0.0762413103 -0.496084038 -0.11743275\n",
       "150 1  0.38014314 -0.081461434 -0.0009048289 -0.120139817  0.04659817\n",
       "    g            h           i           j          response\n",
       "145  0.064219170  0.12806953 -0.01214139 -0.2129433 1.787817\n",
       "146 -0.152794456 -0.04506572  0.24741021  0.2641316 2.207490\n",
       "147  0.008867698  0.63824165 -0.04989697 -0.1817400 1.881518\n",
       "148 -0.179888550  0.11215797 -0.17362838 -0.2284914 1.847819\n",
       "149  0.252375246 -0.60407608 -0.12821984  0.1794245 1.861189\n",
       "150 -0.321336283  0.02289315 -0.19212816 -0.1445646 1.745381"
      ]
     },
     "metadata": {},
     "output_type": "display_data"
    },
    {
     "data": {
      "text/html": [
       "<table>\n",
       "<thead><tr><th></th><th scope=col>a</th><th scope=col>b</th><th scope=col>c</th><th scope=col>d</th><th scope=col>e</th><th scope=col>f</th><th scope=col>g</th><th scope=col>h</th><th scope=col>i</th><th scope=col>j</th></tr></thead>\n",
       "<tbody>\n",
       "\t<tr><th scope=row>151</th><td>1           </td><td> 0.2080971  </td><td>-0.057638999</td><td> 0.40436955 </td><td> 0.2639553  </td><td> 0.07525222 </td><td> 0.1867968  </td><td>-0.23310783 </td><td> 0.57092971 </td><td> 0.27460180 </td></tr>\n",
       "\t<tr><th scope=row>152</th><td>1           </td><td>-0.1660632  </td><td> 0.269646493</td><td> 0.59110035 </td><td> 0.2431133  </td><td>-0.42667841 </td><td>-0.1377109  </td><td> 0.20480138 </td><td>-0.16842619 </td><td> 0.05435028 </td></tr>\n",
       "\t<tr><th scope=row>153</th><td>1           </td><td>-0.3316334  </td><td> 0.247591561</td><td> 0.29314763 </td><td> 0.2601730  </td><td> 0.20685188 </td><td> 0.3086739  </td><td>-0.63405266 </td><td>-0.19406349 </td><td> 0.09863081 </td></tr>\n",
       "\t<tr><th scope=row>154</th><td>1           </td><td>-0.1187533  </td><td>-0.203502345</td><td>-0.07996623 </td><td>-0.4856080  </td><td>-0.07009134 </td><td>-0.2365691  </td><td>-0.15600307 </td><td> 0.44576895 </td><td> 0.03270255 </td></tr>\n",
       "\t<tr><th scope=row>155</th><td>1           </td><td> 0.3497937  </td><td> 0.003082094</td><td> 0.07490065 </td><td> 0.4069797  </td><td>-0.14087559 </td><td> 0.3275500  </td><td>-0.15908129 </td><td> 0.17256562 </td><td>-0.34424014 </td></tr>\n",
       "\t<tr><th scope=row>156</th><td>1           </td><td>-0.1383298  </td><td> 0.156338508</td><td>-0.13796355 </td><td>-0.4507050  </td><td>-0.41640810 </td><td>-0.3618307  </td><td> 0.07770573 </td><td> 0.01078559 </td><td> 0.24903746 </td></tr>\n",
       "</tbody>\n",
       "</table>\n"
      ],
      "text/latex": [
       "\\begin{tabular}{r|llllllllll}\n",
       "  & a & b & c & d & e & f & g & h & i & j\\\\\n",
       "\\hline\n",
       "\t151 & 1            &  0.2080971   & -0.057638999 &  0.40436955  &  0.2639553   &  0.07525222  &  0.1867968   & -0.23310783  &  0.57092971  &  0.27460180 \\\\\n",
       "\t152 & 1            & -0.1660632   &  0.269646493 &  0.59110035  &  0.2431133   & -0.42667841  & -0.1377109   &  0.20480138  & -0.16842619  &  0.05435028 \\\\\n",
       "\t153 & 1            & -0.3316334   &  0.247591561 &  0.29314763  &  0.2601730   &  0.20685188  &  0.3086739   & -0.63405266  & -0.19406349  &  0.09863081 \\\\\n",
       "\t154 & 1            & -0.1187533   & -0.203502345 & -0.07996623  & -0.4856080   & -0.07009134  & -0.2365691   & -0.15600307  &  0.44576895  &  0.03270255 \\\\\n",
       "\t155 & 1            &  0.3497937   &  0.003082094 &  0.07490065  &  0.4069797   & -0.14087559  &  0.3275500   & -0.15908129  &  0.17256562  & -0.34424014 \\\\\n",
       "\t156 & 1            & -0.1383298   &  0.156338508 & -0.13796355  & -0.4507050   & -0.41640810  & -0.3618307   &  0.07770573  &  0.01078559  &  0.24903746 \\\\\n",
       "\\end{tabular}\n"
      ],
      "text/markdown": [
       "\n",
       "| <!--/--> | a | b | c | d | e | f | g | h | i | j | \n",
       "|---|---|---|---|---|---|\n",
       "| 151 | 1            |  0.2080971   | -0.057638999 |  0.40436955  |  0.2639553   |  0.07525222  |  0.1867968   | -0.23310783  |  0.57092971  |  0.27460180  | \n",
       "| 152 | 1            | -0.1660632   |  0.269646493 |  0.59110035  |  0.2431133   | -0.42667841  | -0.1377109   |  0.20480138  | -0.16842619  |  0.05435028  | \n",
       "| 153 | 1            | -0.3316334   |  0.247591561 |  0.29314763  |  0.2601730   |  0.20685188  |  0.3086739   | -0.63405266  | -0.19406349  |  0.09863081  | \n",
       "| 154 | 1            | -0.1187533   | -0.203502345 | -0.07996623  | -0.4856080   | -0.07009134  | -0.2365691   | -0.15600307  |  0.44576895  |  0.03270255  | \n",
       "| 155 | 1            |  0.3497937   |  0.003082094 |  0.07490065  |  0.4069797   | -0.14087559  |  0.3275500   | -0.15908129  |  0.17256562  | -0.34424014  | \n",
       "| 156 | 1            | -0.1383298   |  0.156338508 | -0.13796355  | -0.4507050   | -0.41640810  | -0.3618307   |  0.07770573  |  0.01078559  |  0.24903746  | \n",
       "\n",
       "\n"
      ],
      "text/plain": [
       "    a b          c            d           e          f           g         \n",
       "151 1  0.2080971 -0.057638999  0.40436955  0.2639553  0.07525222  0.1867968\n",
       "152 1 -0.1660632  0.269646493  0.59110035  0.2431133 -0.42667841 -0.1377109\n",
       "153 1 -0.3316334  0.247591561  0.29314763  0.2601730  0.20685188  0.3086739\n",
       "154 1 -0.1187533 -0.203502345 -0.07996623 -0.4856080 -0.07009134 -0.2365691\n",
       "155 1  0.3497937  0.003082094  0.07490065  0.4069797 -0.14087559  0.3275500\n",
       "156 1 -0.1383298  0.156338508 -0.13796355 -0.4507050 -0.41640810 -0.3618307\n",
       "    h           i           j          \n",
       "151 -0.23310783  0.57092971  0.27460180\n",
       "152  0.20480138 -0.16842619  0.05435028\n",
       "153 -0.63405266 -0.19406349  0.09863081\n",
       "154 -0.15600307  0.44576895  0.03270255\n",
       "155 -0.15908129  0.17256562 -0.34424014\n",
       "156  0.07770573  0.01078559  0.24903746"
      ]
     },
     "metadata": {},
     "output_type": "display_data"
    },
    {
     "data": {
      "text/html": [
       "<table>\n",
       "<thead><tr><th scope=col>response</th></tr></thead>\n",
       "<tbody>\n",
       "\t<tr><td>2.158941</td></tr>\n",
       "\t<tr><td>2.330793</td></tr>\n",
       "\t<tr><td>2.081419</td></tr>\n",
       "\t<tr><td>1.859214</td></tr>\n",
       "\t<tr><td>2.066007</td></tr>\n",
       "\t<tr><td>2.055083</td></tr>\n",
       "</tbody>\n",
       "</table>\n"
      ],
      "text/latex": [
       "\\begin{tabular}{r|l}\n",
       " response\\\\\n",
       "\\hline\n",
       "\t 2.158941\\\\\n",
       "\t 2.330793\\\\\n",
       "\t 2.081419\\\\\n",
       "\t 1.859214\\\\\n",
       "\t 2.066007\\\\\n",
       "\t 2.055083\\\\\n",
       "\\end{tabular}\n"
      ],
      "text/markdown": [
       "\n",
       "response | \n",
       "|---|---|---|---|---|---|\n",
       "| 2.158941 | \n",
       "| 2.330793 | \n",
       "| 2.081419 | \n",
       "| 1.859214 | \n",
       "| 2.066007 | \n",
       "| 2.055083 | \n",
       "\n",
       "\n"
      ],
      "text/plain": [
       "  response\n",
       "1 2.158941\n",
       "2 2.330793\n",
       "3 2.081419\n",
       "4 1.859214\n",
       "5 2.066007\n",
       "6 2.055083"
      ]
     },
     "metadata": {},
     "output_type": "display_data"
    }
   ],
   "source": [
    "train = q2[1:150,]\n",
    "train$response = as.numeric(train$response)\n",
    "test_x = q2[151:nrow(q2),][,c('a','b','c','d','e','f','g','h','i','j')]\n",
    "test_y = read.table(\"finalprq2.dat\", header = F, as.is = T, col.names = c('response'))\n",
    "\n",
    "tail(train)\n",
    "head(test_x)\n",
    "head(test_y)"
   ]
  },
  {
   "cell_type": "code",
   "execution_count": 4,
   "metadata": {
    "collapsed": true
   },
   "outputs": [],
   "source": [
    "test_x$index = 151:200"
   ]
  },
  {
   "cell_type": "code",
   "execution_count": 23,
   "metadata": {
    "collapsed": true
   },
   "outputs": [
    {
     "data": {
      "image/png": "[encoded data removed]",
      "text/plain": [
       "Plot with title \"response vs index\""
      ]
     },
     "metadata": {},
     "output_type": "display_data"
    }
   ],
   "source": [
    "# plot(train$a, train$response)\n",
    "# plot(train$b, train$response)\n",
    "# plot(train$c, train$response)\n",
    "# plot(train$d, train$response)\n",
    "# plot(train$e, train$response)\n",
    "# plot(train$f, train$response)\n",
    "# plot(train$g, train$response)\n",
    "# plot(train$h, train$response)\n",
    "# plot(train$i, train$response)\n",
    "# plot(train$j, train$response)\n",
    "# plot(1:nrow(train), train$response)\n",
    "\n",
    "# this shows us that we don't need the first 100 data points at all since it's not indicative of the test data\n",
    "plot(1:nrow(train), train$response, main=\"response vs index\", sub=\"Parth Doshi\")\n",
    "# plot(1:nrow(train), train$a)\n",
    "# plot(1:nrow(train), train$b)\n",
    "# plot(1:nrow(train), train$c)\n",
    "# plot(1:nrow(train), train$d)\n",
    "# plot(1:nrow(train), train$e)\n",
    "# plot(1:nrow(train), train$f)\n",
    "# plot(1:nrow(train), train$g)\n",
    "# plot(1:nrow(train), train$h)\n",
    "# plot(1:nrow(train), train$i)\n",
    "# plot(1:nrow(train), train$j)"
   ]
  },
  {
   "cell_type": "code",
   "execution_count": 6,
   "metadata": {},
   "outputs": [],
   "source": [
    "train$index = 1:nrow(train)"
   ]
  },
  {
   "cell_type": "code",
   "execution_count": 7,
   "metadata": {
    "collapsed": true
   },
   "outputs": [
    {
     "data": {
      "text/html": [
       "<table>\n",
       "<thead><tr><th></th><th scope=col>a</th><th scope=col>b</th><th scope=col>c</th><th scope=col>d</th><th scope=col>e</th><th scope=col>f</th><th scope=col>g</th><th scope=col>h</th><th scope=col>i</th><th scope=col>j</th><th scope=col>response</th><th scope=col>index</th></tr></thead>\n",
       "<tbody>\n",
       "\t<tr><th scope=row>a</th><td> 1.0000000000</td><td>-0.1043562928</td><td> 0.0271562368</td><td>-0.0008878257</td><td>-0.006946002 </td><td> 0.162239761 </td><td> 0.001468846 </td><td> 0.043014103 </td><td>-0.05656492  </td><td> 0.010852915 </td><td>-0.68926440  </td><td> 0.816514726 </td></tr>\n",
       "\t<tr><th scope=row>b</th><td>-0.1043562928</td><td> 1.0000000000</td><td> 0.0004704208</td><td> 0.0257571244</td><td> 0.064576726 </td><td> 0.225301189 </td><td> 0.014311415 </td><td>-0.005270556 </td><td> 0.08155120  </td><td>-0.017739068 </td><td> 0.09079654  </td><td>-0.083477682 </td></tr>\n",
       "\t<tr><th scope=row>c</th><td> 0.0271562368</td><td> 0.0004704208</td><td> 1.0000000000</td><td> 0.0830226567</td><td> 0.130307234 </td><td>-0.150406753 </td><td> 0.170504266 </td><td> 0.024138052 </td><td>-0.07452184  </td><td>-0.064024945 </td><td>-0.00404966  </td><td> 0.007139692 </td></tr>\n",
       "\t<tr><th scope=row>d</th><td>-0.0008878257</td><td> 0.0257571244</td><td> 0.0830226567</td><td> 1.0000000000</td><td>-0.010033419 </td><td>-0.010020144 </td><td> 0.054731082 </td><td> 0.039205652 </td><td>-0.17413417  </td><td> 0.039479138 </td><td>-0.05410987  </td><td> 0.033889687 </td></tr>\n",
       "\t<tr><th scope=row>e</th><td>-0.0069460025</td><td> 0.0645767260</td><td> 0.1303072342</td><td>-0.0100334192</td><td> 1.000000000 </td><td> 0.033887507 </td><td>-0.047356282 </td><td> 0.103170490 </td><td> 0.10385457  </td><td> 0.119111434 </td><td> 0.04431995  </td><td>-0.039982227 </td></tr>\n",
       "\t<tr><th scope=row>f</th><td> 0.1622397614</td><td> 0.2253011885</td><td>-0.1504067534</td><td>-0.0100201444</td><td> 0.033887507 </td><td> 1.000000000 </td><td> 0.124379282 </td><td> 0.063048865 </td><td> 0.05014753  </td><td>-0.009175384 </td><td>-0.10217196  </td><td> 0.112732084 </td></tr>\n",
       "\t<tr><th scope=row>g</th><td> 0.0014688458</td><td> 0.0143114149</td><td> 0.1705042662</td><td> 0.0547310818</td><td>-0.047356282 </td><td> 0.124379282 </td><td> 1.000000000 </td><td> 0.045788618 </td><td> 0.01391385  </td><td> 0.110764896 </td><td>-0.01743826  </td><td>-0.007712215 </td></tr>\n",
       "\t<tr><th scope=row>h</th><td> 0.0430141030</td><td>-0.0052705559</td><td> 0.0241380521</td><td> 0.0392056521</td><td> 0.103170490 </td><td> 0.063048865 </td><td> 0.045788618 </td><td> 1.000000000 </td><td>-0.05653652  </td><td>-0.044250548 </td><td>-0.08045110  </td><td> 0.088930560 </td></tr>\n",
       "\t<tr><th scope=row>i</th><td>-0.0565649222</td><td> 0.0815512042</td><td>-0.0745218431</td><td>-0.1741341688</td><td> 0.103854574 </td><td> 0.050147532 </td><td> 0.013913847 </td><td>-0.056536519 </td><td> 1.00000000  </td><td> 0.029597930 </td><td> 0.08621966  </td><td>-0.109218416 </td></tr>\n",
       "\t<tr><th scope=row>j</th><td> 0.0108529155</td><td>-0.0177390684</td><td>-0.0640249450</td><td> 0.0394791380</td><td> 0.119111434 </td><td>-0.009175384 </td><td> 0.110764896 </td><td>-0.044250548 </td><td> 0.02959793  </td><td> 1.000000000 </td><td>-0.01832327  </td><td> 0.008638179 </td></tr>\n",
       "\t<tr><th scope=row>response</th><td>-0.6892644028</td><td> 0.0907965376</td><td>-0.0040496602</td><td>-0.0541098725</td><td> 0.044319953 </td><td>-0.102171964 </td><td>-0.017438258 </td><td>-0.080451102 </td><td> 0.08621966  </td><td>-0.018323269 </td><td> 1.00000000  </td><td>-0.951649943 </td></tr>\n",
       "\t<tr><th scope=row>index</th><td> 0.8165147259</td><td>-0.0834776820</td><td> 0.0071396919</td><td> 0.0338896869</td><td>-0.039982227 </td><td> 0.112732084 </td><td>-0.007712215 </td><td> 0.088930560 </td><td>-0.10921842  </td><td> 0.008638179 </td><td>-0.95164994  </td><td> 1.000000000 </td></tr>\n",
       "</tbody>\n",
       "</table>\n"
      ],
      "text/latex": [
       "\\begin{tabular}{r|llllllllllll}\n",
       "  & a & b & c & d & e & f & g & h & i & j & response & index\\\\\n",
       "\\hline\n",
       "\ta &  1.0000000000 & -0.1043562928 &  0.0271562368 & -0.0008878257 & -0.006946002  &  0.162239761  &  0.001468846  &  0.043014103  & -0.05656492   &  0.010852915  & -0.68926440   &  0.816514726 \\\\\n",
       "\tb & -0.1043562928 &  1.0000000000 &  0.0004704208 &  0.0257571244 &  0.064576726  &  0.225301189  &  0.014311415  & -0.005270556  &  0.08155120   & -0.017739068  &  0.09079654   & -0.083477682 \\\\\n",
       "\tc &  0.0271562368 &  0.0004704208 &  1.0000000000 &  0.0830226567 &  0.130307234  & -0.150406753  &  0.170504266  &  0.024138052  & -0.07452184   & -0.064024945  & -0.00404966   &  0.007139692 \\\\\n",
       "\td & -0.0008878257 &  0.0257571244 &  0.0830226567 &  1.0000000000 & -0.010033419  & -0.010020144  &  0.054731082  &  0.039205652  & -0.17413417   &  0.039479138  & -0.05410987   &  0.033889687 \\\\\n",
       "\te & -0.0069460025 &  0.0645767260 &  0.1303072342 & -0.0100334192 &  1.000000000  &  0.033887507  & -0.047356282  &  0.103170490  &  0.10385457   &  0.119111434  &  0.04431995   & -0.039982227 \\\\\n",
       "\tf &  0.1622397614 &  0.2253011885 & -0.1504067534 & -0.0100201444 &  0.033887507  &  1.000000000  &  0.124379282  &  0.063048865  &  0.05014753   & -0.009175384  & -0.10217196   &  0.112732084 \\\\\n",
       "\tg &  0.0014688458 &  0.0143114149 &  0.1705042662 &  0.0547310818 & -0.047356282  &  0.124379282  &  1.000000000  &  0.045788618  &  0.01391385   &  0.110764896  & -0.01743826   & -0.007712215 \\\\\n",
       "\th &  0.0430141030 & -0.0052705559 &  0.0241380521 &  0.0392056521 &  0.103170490  &  0.063048865  &  0.045788618  &  1.000000000  & -0.05653652   & -0.044250548  & -0.08045110   &  0.088930560 \\\\\n",
       "\ti & -0.0565649222 &  0.0815512042 & -0.0745218431 & -0.1741341688 &  0.103854574  &  0.050147532  &  0.013913847  & -0.056536519  &  1.00000000   &  0.029597930  &  0.08621966   & -0.109218416 \\\\\n",
       "\tj &  0.0108529155 & -0.0177390684 & -0.0640249450 &  0.0394791380 &  0.119111434  & -0.009175384  &  0.110764896  & -0.044250548  &  0.02959793   &  1.000000000  & -0.01832327   &  0.008638179 \\\\\n",
       "\tresponse & -0.6892644028 &  0.0907965376 & -0.0040496602 & -0.0541098725 &  0.044319953  & -0.102171964  & -0.017438258  & -0.080451102  &  0.08621966   & -0.018323269  &  1.00000000   & -0.951649943 \\\\\n",
       "\tindex &  0.8165147259 & -0.0834776820 &  0.0071396919 &  0.0338896869 & -0.039982227  &  0.112732084  & -0.007712215  &  0.088930560  & -0.10921842   &  0.008638179  & -0.95164994   &  1.000000000 \\\\\n",
       "\\end{tabular}\n"
      ],
      "text/markdown": [
       "\n",
       "| <!--/--> | a | b | c | d | e | f | g | h | i | j | response | index | \n",
       "|---|---|---|---|---|---|---|---|---|---|---|---|\n",
       "| a |  1.0000000000 | -0.1043562928 |  0.0271562368 | -0.0008878257 | -0.006946002  |  0.162239761  |  0.001468846  |  0.043014103  | -0.05656492   |  0.010852915  | -0.68926440   |  0.816514726  | \n",
       "| b | -0.1043562928 |  1.0000000000 |  0.0004704208 |  0.0257571244 |  0.064576726  |  0.225301189  |  0.014311415  | -0.005270556  |  0.08155120   | -0.017739068  |  0.09079654   | -0.083477682  | \n",
       "| c |  0.0271562368 |  0.0004704208 |  1.0000000000 |  0.0830226567 |  0.130307234  | -0.150406753  |  0.170504266  |  0.024138052  | -0.07452184   | -0.064024945  | -0.00404966   |  0.007139692  | \n",
       "| d | -0.0008878257 |  0.0257571244 |  0.0830226567 |  1.0000000000 | -0.010033419  | -0.010020144  |  0.054731082  |  0.039205652  | -0.17413417   |  0.039479138  | -0.05410987   |  0.033889687  | \n",
       "| e | -0.0069460025 |  0.0645767260 |  0.1303072342 | -0.0100334192 |  1.000000000  |  0.033887507  | -0.047356282  |  0.103170490  |  0.10385457   |  0.119111434  |  0.04431995   | -0.039982227  | \n",
       "| f |  0.1622397614 |  0.2253011885 | -0.1504067534 | -0.0100201444 |  0.033887507  |  1.000000000  |  0.124379282  |  0.063048865  |  0.05014753   | -0.009175384  | -0.10217196   |  0.112732084  | \n",
       "| g |  0.0014688458 |  0.0143114149 |  0.1705042662 |  0.0547310818 | -0.047356282  |  0.124379282  |  1.000000000  |  0.045788618  |  0.01391385   |  0.110764896  | -0.01743826   | -0.007712215  | \n",
       "| h |  0.0430141030 | -0.0052705559 |  0.0241380521 |  0.0392056521 |  0.103170490  |  0.063048865  |  0.045788618  |  1.000000000  | -0.05653652   | -0.044250548  | -0.08045110   |  0.088930560  | \n",
       "| i | -0.0565649222 |  0.0815512042 | -0.0745218431 | -0.1741341688 |  0.103854574  |  0.050147532  |  0.013913847  | -0.056536519  |  1.00000000   |  0.029597930  |  0.08621966   | -0.109218416  | \n",
       "| j |  0.0108529155 | -0.0177390684 | -0.0640249450 |  0.0394791380 |  0.119111434  | -0.009175384  |  0.110764896  | -0.044250548  |  0.02959793   |  1.000000000  | -0.01832327   |  0.008638179  | \n",
       "| response | -0.6892644028 |  0.0907965376 | -0.0040496602 | -0.0541098725 |  0.044319953  | -0.102171964  | -0.017438258  | -0.080451102  |  0.08621966   | -0.018323269  |  1.00000000   | -0.951649943  | \n",
       "| index |  0.8165147259 | -0.0834776820 |  0.0071396919 |  0.0338896869 | -0.039982227  |  0.112732084  | -0.007712215  |  0.088930560  | -0.10921842   |  0.008638179  | -0.95164994   |  1.000000000  | \n",
       "\n",
       "\n"
      ],
      "text/plain": [
       "         a             b             c             d             e           \n",
       "a         1.0000000000 -0.1043562928  0.0271562368 -0.0008878257 -0.006946002\n",
       "b        -0.1043562928  1.0000000000  0.0004704208  0.0257571244  0.064576726\n",
       "c         0.0271562368  0.0004704208  1.0000000000  0.0830226567  0.130307234\n",
       "d        -0.0008878257  0.0257571244  0.0830226567  1.0000000000 -0.010033419\n",
       "e        -0.0069460025  0.0645767260  0.1303072342 -0.0100334192  1.000000000\n",
       "f         0.1622397614  0.2253011885 -0.1504067534 -0.0100201444  0.033887507\n",
       "g         0.0014688458  0.0143114149  0.1705042662  0.0547310818 -0.047356282\n",
       "h         0.0430141030 -0.0052705559  0.0241380521  0.0392056521  0.103170490\n",
       "i        -0.0565649222  0.0815512042 -0.0745218431 -0.1741341688  0.103854574\n",
       "j         0.0108529155 -0.0177390684 -0.0640249450  0.0394791380  0.119111434\n",
       "response -0.6892644028  0.0907965376 -0.0040496602 -0.0541098725  0.044319953\n",
       "index     0.8165147259 -0.0834776820  0.0071396919  0.0338896869 -0.039982227\n",
       "         f            g            h            i           j           \n",
       "a         0.162239761  0.001468846  0.043014103 -0.05656492  0.010852915\n",
       "b         0.225301189  0.014311415 -0.005270556  0.08155120 -0.017739068\n",
       "c        -0.150406753  0.170504266  0.024138052 -0.07452184 -0.064024945\n",
       "d        -0.010020144  0.054731082  0.039205652 -0.17413417  0.039479138\n",
       "e         0.033887507 -0.047356282  0.103170490  0.10385457  0.119111434\n",
       "f         1.000000000  0.124379282  0.063048865  0.05014753 -0.009175384\n",
       "g         0.124379282  1.000000000  0.045788618  0.01391385  0.110764896\n",
       "h         0.063048865  0.045788618  1.000000000 -0.05653652 -0.044250548\n",
       "i         0.050147532  0.013913847 -0.056536519  1.00000000  0.029597930\n",
       "j        -0.009175384  0.110764896 -0.044250548  0.02959793  1.000000000\n",
       "response -0.102171964 -0.017438258 -0.080451102  0.08621966 -0.018323269\n",
       "index     0.112732084 -0.007712215  0.088930560 -0.10921842  0.008638179\n",
       "         response    index       \n",
       "a        -0.68926440  0.816514726\n",
       "b         0.09079654 -0.083477682\n",
       "c        -0.00404966  0.007139692\n",
       "d        -0.05410987  0.033889687\n",
       "e         0.04431995 -0.039982227\n",
       "f        -0.10217196  0.112732084\n",
       "g        -0.01743826 -0.007712215\n",
       "h        -0.08045110  0.088930560\n",
       "i         0.08621966 -0.109218416\n",
       "j        -0.01832327  0.008638179\n",
       "response  1.00000000 -0.951649943\n",
       "index    -0.95164994  1.000000000"
      ]
     },
     "metadata": {},
     "output_type": "display_data"
    }
   ],
   "source": [
    "cor(train)"
   ]
  },
  {
   "cell_type": "code",
   "execution_count": 8,
   "metadata": {
    "collapsed": true
   },
   "outputs": [
    {
     "data": {
      "text/html": [
       "<table>\n",
       "<thead><tr><th></th><th scope=col>Df</th><th scope=col>Sum Sq</th><th scope=col>Mean Sq</th><th scope=col>F value</th><th scope=col>Pr(&gt;F)</th></tr></thead>\n",
       "<tbody>\n",
       "\t<tr><th scope=row>a</th><td>  1         </td><td>880.5429    </td><td>880.5429388 </td><td>980.1945    </td><td>6.658204e-67</td></tr>\n",
       "\t<tr><th scope=row>index</th><td>  1         </td><td>840.8431    </td><td>840.8431456 </td><td>936.0019    </td><td>1.262814e-65</td></tr>\n",
       "\t<tr><th scope=row>Residuals</th><td>147         </td><td>132.0552    </td><td>  0.8983349 </td><td>      NA    </td><td>          NA</td></tr>\n",
       "</tbody>\n",
       "</table>\n"
      ],
      "text/latex": [
       "\\begin{tabular}{r|lllll}\n",
       "  & Df & Sum Sq & Mean Sq & F value & Pr(>F)\\\\\n",
       "\\hline\n",
       "\ta &   1          & 880.5429     & 880.5429388  & 980.1945     & 6.658204e-67\\\\\n",
       "\tindex &   1          & 840.8431     & 840.8431456  & 936.0019     & 1.262814e-65\\\\\n",
       "\tResiduals & 147          & 132.0552     &   0.8983349  &       NA     &           NA\\\\\n",
       "\\end{tabular}\n"
      ],
      "text/markdown": [
       "\n",
       "| <!--/--> | Df | Sum Sq | Mean Sq | F value | Pr(>F) | \n",
       "|---|---|---|\n",
       "| a |   1          | 880.5429     | 880.5429388  | 980.1945     | 6.658204e-67 | \n",
       "| index |   1          | 840.8431     | 840.8431456  | 936.0019     | 1.262814e-65 | \n",
       "| Residuals | 147          | 132.0552     |   0.8983349  |       NA     |           NA | \n",
       "\n",
       "\n"
      ],
      "text/plain": [
       "          Df  Sum Sq   Mean Sq     F value  Pr(>F)      \n",
       "a           1 880.5429 880.5429388 980.1945 6.658204e-67\n",
       "index       1 840.8431 840.8431456 936.0019 1.262814e-65\n",
       "Residuals 147 132.0552   0.8983349       NA           NA"
      ]
     },
     "metadata": {},
     "output_type": "display_data"
    }
   ],
   "source": [
    "model2 = lm(response ~ a + index, data=train)\n",
    "anova(model2)"
   ]
  },
  {
   "cell_type": "code",
   "execution_count": 9,
   "metadata": {
    "collapsed": true
   },
   "outputs": [
    {
     "data": {
      "text/html": [
       "<table>\n",
       "<thead><tr><th></th><th scope=col>a</th><th scope=col>b</th><th scope=col>c</th><th scope=col>d</th><th scope=col>e</th><th scope=col>f</th><th scope=col>g</th><th scope=col>h</th><th scope=col>i</th><th scope=col>j</th><th scope=col>response</th><th scope=col>index</th></tr></thead>\n",
       "<tbody>\n",
       "\t<tr><th scope=row>101</th><td>1            </td><td>-0.295941511 </td><td> 0.007056550 </td><td>-0.1139495195</td><td>-0.164661448 </td><td> 0.0975239806</td><td> 0.529865826 </td><td>-0.41934898  </td><td>-0.1851713938</td><td>-0.267283438 </td><td>1.5344343    </td><td>101          </td></tr>\n",
       "\t<tr><th scope=row>102</th><td>1            </td><td>-0.097147210 </td><td> 0.198976021 </td><td>-0.3016221115</td><td>-0.251076990 </td><td> 0.0547375365</td><td> 0.181410980 </td><td> 0.42916255  </td><td> 0.3999851188</td><td> 0.472017912 </td><td>1.3090544    </td><td>102          </td></tr>\n",
       "\t<tr><th scope=row>103</th><td>1            </td><td>-0.491595832 </td><td> 0.125183306 </td><td>-0.0212618571</td><td>-0.202212509 </td><td> 0.0631741853</td><td> 0.360417884 </td><td> 0.11371204  </td><td> 0.5128847576</td><td> 0.181418072 </td><td>1.2191401    </td><td>103          </td></tr>\n",
       "\t<tr><th scope=row>104</th><td>1            </td><td>-0.408593681 </td><td> 0.110026749 </td><td>-0.0850608435</td><td> 0.328086118 </td><td>-0.2498627604</td><td>-0.419795447 </td><td>-0.08669499  </td><td> 0.0771398564</td><td>-0.118197693 </td><td>1.3726263    </td><td>104          </td></tr>\n",
       "\t<tr><th scope=row>105</th><td>1            </td><td> 0.181039858 </td><td> 0.049539298 </td><td> 0.5805486829</td><td>-0.373466325 </td><td>-0.0615017889</td><td>-0.132609595 </td><td>-0.38832368  </td><td>-0.1139853921</td><td>-0.289910404 </td><td>1.8843933    </td><td>105          </td></tr>\n",
       "\t<tr><th scope=row>106</th><td>1            </td><td>-0.030147571 </td><td> 0.161613939 </td><td> 0.1677411250</td><td>-0.069820494 </td><td>-0.1135120139</td><td>-0.300126105 </td><td>-0.47130581  </td><td>-0.1560430854</td><td>-0.011614874 </td><td>1.2037510    </td><td>106          </td></tr>\n",
       "\t<tr><th scope=row>107</th><td>1            </td><td> 0.064341450 </td><td> 0.034883212 </td><td> 0.2946020756</td><td> 0.236228678 </td><td> 0.1423530721</td><td> 0.096548885 </td><td> 0.16574058  </td><td>-0.0009989848</td><td> 0.068141010 </td><td>1.3040024    </td><td>107          </td></tr>\n",
       "\t<tr><th scope=row>108</th><td>1            </td><td> 0.185731707 </td><td> 0.207425751 </td><td> 0.2103228710</td><td> 0.222942914 </td><td> 0.0029735322</td><td> 0.456855839 </td><td> 0.33698036  </td><td>-0.4190630325</td><td> 0.174533293 </td><td>1.3278205    </td><td>108          </td></tr>\n",
       "\t<tr><th scope=row>109</th><td>1            </td><td> 0.335043450 </td><td>-0.236804180 </td><td> 0.1237750693</td><td>-0.074111281 </td><td> 0.1784820863</td><td>-0.357889765 </td><td> 0.18405877  </td><td> 0.4154307358</td><td> 0.122329943 </td><td>1.6168823    </td><td>109          </td></tr>\n",
       "\t<tr><th scope=row>110</th><td>1            </td><td>-0.139373513 </td><td> 0.128025174 </td><td> 0.0697359699</td><td> 0.122211896 </td><td> 0.2508214475</td><td> 0.235195320 </td><td>-0.27947827  </td><td> 0.1796885064</td><td>-0.299273201 </td><td>1.4749347    </td><td>110          </td></tr>\n",
       "\t<tr><th scope=row>111</th><td>1            </td><td>-0.232969624 </td><td>-0.684187350 </td><td> 0.4222390584</td><td>-0.084444425 </td><td> 0.0207199117</td><td>-0.211791694 </td><td> 0.10214815  </td><td> 0.3410330207</td><td>-0.351690809 </td><td>1.4221811    </td><td>111          </td></tr>\n",
       "\t<tr><th scope=row>112</th><td>1            </td><td> 0.079520578 </td><td> 0.464898694 </td><td>-0.4450204344</td><td> 0.098655304 </td><td>-0.0327997606</td><td> 0.090178720 </td><td>-0.24931485  </td><td> 0.2031474481</td><td> 0.107185901 </td><td>1.7327119    </td><td>112          </td></tr>\n",
       "\t<tr><th scope=row>113</th><td>1            </td><td>-0.704395517 </td><td> 0.252684316 </td><td>-0.1394971634</td><td>-0.221622809 </td><td> 0.1445999341</td><td>-0.261362959 </td><td>-0.28595930  </td><td>-0.3000154713</td><td>-0.560723683 </td><td>1.6461824    </td><td>113          </td></tr>\n",
       "\t<tr><th scope=row>114</th><td>1            </td><td>-0.029643573 </td><td>-0.119097223 </td><td> 0.2682421058</td><td> 0.339827821 </td><td> 0.0944879450</td><td>-0.148097727 </td><td>-0.16791935  </td><td> 0.2482946878</td><td>-0.103865793 </td><td>1.1625590    </td><td>114          </td></tr>\n",
       "\t<tr><th scope=row>115</th><td>1            </td><td> 0.058830269 </td><td> 0.079695962 </td><td> 0.2887093282</td><td>-0.018229209 </td><td> 0.4387576211</td><td>-0.222740940 </td><td> 0.35468867  </td><td>-0.1415875121</td><td>-0.003623868 </td><td>1.3641966    </td><td>115          </td></tr>\n",
       "\t<tr><th scope=row>116</th><td>1            </td><td> 0.056070757 </td><td>-0.163341398 </td><td>-0.3218109604</td><td>-0.469957055 </td><td>-0.1010303711</td><td>-0.375163960 </td><td>-0.40068710  </td><td> 0.2016274007</td><td>-0.176054364 </td><td>0.9473946    </td><td>116          </td></tr>\n",
       "\t<tr><th scope=row>117</th><td>1            </td><td> 0.134474458 </td><td>-0.205359278 </td><td> 0.0796400493</td><td> 0.165907952 </td><td> 0.0177107464</td><td>-0.133822865 </td><td> 0.06205180  </td><td>-0.1790724410</td><td> 0.566353701 </td><td>1.3444955    </td><td>117          </td></tr>\n",
       "\t<tr><th scope=row>118</th><td>1            </td><td>-0.359269856 </td><td>-0.140539078 </td><td>-0.0134339294</td><td>-0.011384300 </td><td> 0.1883011546</td><td> 0.397200624 </td><td>-0.36071990  </td><td>-0.1419870446</td><td> 0.177403476 </td><td>1.1780606    </td><td>118          </td></tr>\n",
       "\t<tr><th scope=row>119</th><td>1            </td><td>-0.092312395 </td><td> 0.427792185 </td><td> 0.2335754465</td><td> 0.262335618 </td><td>-0.0818939177</td><td>-0.296981232 </td><td> 0.05108785  </td><td>-0.2843557276</td><td> 0.526222994 </td><td>1.6203575    </td><td>119          </td></tr>\n",
       "\t<tr><th scope=row>120</th><td>1            </td><td>-0.629915394 </td><td>-0.197359737 </td><td>-0.5349299971</td><td> 0.275695284 </td><td> 0.2132397698</td><td>-0.109911976 </td><td> 0.01032335  </td><td> 0.2140915755</td><td> 0.809182568 </td><td>1.2147419    </td><td>120          </td></tr>\n",
       "\t<tr><th scope=row>121</th><td>1            </td><td> 0.263031414 </td><td> 0.081246905 </td><td> 0.0166759051</td><td>-0.336425964 </td><td>-0.3980795338</td><td> 0.148057237 </td><td>-0.08233104  </td><td>-0.1885983414</td><td> 0.038353805 </td><td>1.8097806    </td><td>121          </td></tr>\n",
       "\t<tr><th scope=row>122</th><td>1            </td><td>-0.369590490 </td><td> 0.188993662 </td><td> 0.3946046572</td><td>-0.037032094 </td><td>-0.4220424838</td><td>-0.056012519 </td><td> 0.20890996  </td><td>-0.3598594327</td><td>-0.293583310 </td><td>1.6254715    </td><td>122          </td></tr>\n",
       "\t<tr><th scope=row>123</th><td>1            </td><td> 0.291417696 </td><td> 0.194030896 </td><td>-0.2319433907</td><td>-0.047477940 </td><td> 0.0772265731</td><td>-0.004236847 </td><td> 0.06956650  </td><td> 0.0086452910</td><td>-0.097146429 </td><td>1.6591026    </td><td>123          </td></tr>\n",
       "\t<tr><th scope=row>124</th><td>1            </td><td> 0.194726046 </td><td> 0.163989352 </td><td>-0.0132116762</td><td> 0.341895283 </td><td> 0.0009572427</td><td>-0.039480344 </td><td> 0.46718065  </td><td> 0.1387863461</td><td>-0.077422750 </td><td>1.2264632    </td><td>124          </td></tr>\n",
       "\t<tr><th scope=row>125</th><td>1            </td><td>-0.006002243 </td><td> 0.128017944 </td><td> 0.3322466718</td><td>-0.025228726 </td><td> 0.1469111217</td><td>-0.116486919 </td><td> 0.05413614  </td><td>-0.2031699064</td><td> 0.079084359 </td><td>1.3516715    </td><td>125          </td></tr>\n",
       "\t<tr><th scope=row>126</th><td>1            </td><td>-0.237988451 </td><td>-0.058192377 </td><td>-0.0712051587</td><td>-0.006021394 </td><td> 0.2295109477</td><td> 0.029605150 </td><td> 0.28284974  </td><td>-0.2403971752</td><td>-0.019933690 </td><td>1.3379291    </td><td>126          </td></tr>\n",
       "\t<tr><th scope=row>127</th><td>1            </td><td>-0.080765642 </td><td>-0.091627124 </td><td>-0.4783574755</td><td> 0.126701068 </td><td> 0.4672474650</td><td> 0.070309964 </td><td> 0.37191694  </td><td> 0.1377711078</td><td> 0.150993892 </td><td>1.6747582    </td><td>127          </td></tr>\n",
       "\t<tr><th scope=row>128</th><td>1            </td><td>-0.431258221 </td><td> 0.223794747 </td><td> 0.2744744514</td><td>-0.165159641 </td><td>-0.2601078702</td><td> 0.150576918 </td><td> 0.39648698  </td><td>-0.1312196357</td><td>-0.104838704 </td><td>1.5065552    </td><td>128          </td></tr>\n",
       "\t<tr><th scope=row>129</th><td>1            </td><td> 0.190890811 </td><td>-0.229780662 </td><td>-0.1349131629</td><td> 0.201615112 </td><td> 0.0123988019</td><td>-0.299039648 </td><td> 0.02353375  </td><td>-0.1906643936</td><td> 0.176384327 </td><td>1.3679173    </td><td>129          </td></tr>\n",
       "\t<tr><th scope=row>130</th><td>1            </td><td> 0.070196433 </td><td>-0.088122428 </td><td>-0.3013842761</td><td>-0.374962555 </td><td>-0.0637730934</td><td>-0.214900036 </td><td>-0.24185997  </td><td>-0.0728413410</td><td>-0.657580909 </td><td>1.7474721    </td><td>130          </td></tr>\n",
       "\t<tr><th scope=row>131</th><td>1            </td><td> 0.064125185 </td><td>-0.200820981 </td><td>-0.2347333693</td><td>-0.478952577 </td><td>-0.0389964176</td><td>-0.091933730 </td><td>-0.25467788  </td><td>-0.2885653235</td><td> 0.128930464 </td><td>1.4825112    </td><td>131          </td></tr>\n",
       "\t<tr><th scope=row>132</th><td>1            </td><td> 0.208900109 </td><td> 0.258727849 </td><td>-0.3594856045</td><td>-0.434026749 </td><td>-0.0350069822</td><td> 0.027674624 </td><td> 0.23204763  </td><td>-0.0430404893</td><td>-0.480476394 </td><td>1.8603703    </td><td>132          </td></tr>\n",
       "\t<tr><th scope=row>133</th><td>1            </td><td> 0.111405522 </td><td>-0.046209185 </td><td> 0.1519013893</td><td> 0.113571677 </td><td> 0.0040360088</td><td>-0.079262338 </td><td> 0.33602049  </td><td> 0.0021229577</td><td> 0.367235276 </td><td>1.6304775    </td><td>133          </td></tr>\n",
       "\t<tr><th scope=row>134</th><td>1            </td><td> 0.327698323 </td><td> 0.168729504 </td><td> 0.1518311755</td><td>-0.181589222 </td><td> 0.4798698519</td><td>-0.480770266 </td><td> 0.24447137  </td><td>-0.1668383228</td><td>-0.309128446 </td><td>1.6219501    </td><td>134          </td></tr>\n",
       "\t<tr><th scope=row>135</th><td>1            </td><td> 0.412996394 </td><td> 0.378030432 </td><td>-0.0072589142</td><td> 0.341659807 </td><td> 0.4802863263</td><td> 0.114732487 </td><td> 0.42159830  </td><td> 0.1977236234</td><td>-0.595148748 </td><td>1.7821973    </td><td>135          </td></tr>\n",
       "\t<tr><th scope=row>136</th><td>1            </td><td> 0.306435126 </td><td>-0.061887562 </td><td>-0.1272530990</td><td>-0.026805983 </td><td> 0.1105772540</td><td>-0.119725021 </td><td>-0.21981395  </td><td> 0.1829586418</td><td> 0.012772863 </td><td>1.7709506    </td><td>136          </td></tr>\n",
       "\t<tr><th scope=row>137</th><td>1            </td><td>-0.211402224 </td><td> 0.194530808 </td><td>-0.1318324500</td><td> 0.516592992 </td><td> 0.3217466958</td><td> 0.022779482 </td><td> 0.33062251  </td><td>-0.0884773686</td><td>-0.325399334 </td><td>1.3873956    </td><td>137          </td></tr>\n",
       "\t<tr><th scope=row>138</th><td>1            </td><td>-0.196239931 </td><td>-0.198515906 </td><td> 0.0227337813</td><td> 0.184199185 </td><td> 0.3600720525</td><td>-0.353665760 </td><td>-0.04888298  </td><td>-0.0133250842</td><td> 0.651417312 </td><td>1.9200075    </td><td>138          </td></tr>\n",
       "\t<tr><th scope=row>139</th><td>1            </td><td> 0.160783400 </td><td> 0.138039657 </td><td> 0.3650874347</td><td>-0.243675407 </td><td> 0.0345907372</td><td>-0.083999125 </td><td> 0.04900426  </td><td>-0.3447618220</td><td> 0.070312854 </td><td>1.8628403    </td><td>139          </td></tr>\n",
       "\t<tr><th scope=row>140</th><td>1            </td><td>-0.380471969 </td><td>-0.134885812 </td><td>-0.1043666407</td><td>-0.076580075 </td><td> 0.0121897687</td><td>-0.361861885 </td><td>-0.17563484  </td><td>-0.3295288941</td><td> 0.383936789 </td><td>1.4902390    </td><td>140          </td></tr>\n",
       "\t<tr><th scope=row>141</th><td>1            </td><td>-0.226545964 </td><td>-0.224631842 </td><td>-0.0569879932</td><td> 0.087516265 </td><td>-0.2544017352</td><td> 0.452989752 </td><td> 0.11120508  </td><td> 0.3512353930</td><td> 0.264881262 </td><td>1.3831469    </td><td>141          </td></tr>\n",
       "\t<tr><th scope=row>142</th><td>1            </td><td> 0.325329457 </td><td> 0.310863485 </td><td>-0.0353466737</td><td>-0.194154637 </td><td>-0.0088922208</td><td> 0.127034132 </td><td>-0.50545359  </td><td>-0.0622344130</td><td> 0.309694950 </td><td>1.1268709    </td><td>142          </td></tr>\n",
       "\t<tr><th scope=row>143</th><td>1            </td><td>-0.326956998 </td><td> 0.223879843 </td><td> 0.1116006299</td><td>-0.143110417 </td><td> 0.0217327796</td><td>-0.073321360 </td><td> 0.47904128  </td><td> 0.1412372921</td><td>-0.216834257 </td><td>1.6258331    </td><td>143          </td></tr>\n",
       "\t<tr><th scope=row>144</th><td>1            </td><td>-0.245238893 </td><td>-0.044551955 </td><td> 0.0350256529</td><td> 0.005860241 </td><td> 0.2917017671</td><td>-0.372039762 </td><td>-0.10417864  </td><td>-0.5106895933</td><td>-0.512401258 </td><td>1.5820344    </td><td>144          </td></tr>\n",
       "\t<tr><th scope=row>145</th><td>1            </td><td>-0.081245317 </td><td>-0.343296214 </td><td> 0.3439812176</td><td>-0.468286495 </td><td> 0.2962077930</td><td> 0.064219170 </td><td> 0.12806953  </td><td>-0.0121413869</td><td>-0.212943346 </td><td>1.7878170    </td><td>145          </td></tr>\n",
       "\t<tr><th scope=row>146</th><td>1            </td><td>-0.351858798 </td><td>-0.017483131 </td><td> 0.2262692897</td><td> 0.101562900 </td><td>-0.3268441273</td><td>-0.152794456 </td><td>-0.04506572  </td><td> 0.2474102144</td><td> 0.264131578 </td><td>2.2074901    </td><td>146          </td></tr>\n",
       "\t<tr><th scope=row>147</th><td>1            </td><td>-0.292112511 </td><td>-0.167361958 </td><td>-0.1551395307</td><td> 0.809201210 </td><td>-0.2256193964</td><td> 0.008867698 </td><td> 0.63824165  </td><td>-0.0498969744</td><td>-0.181740016 </td><td>1.8815180    </td><td>147          </td></tr>\n",
       "\t<tr><th scope=row>148</th><td>1            </td><td>-0.047069598 </td><td> 0.493856057 </td><td>-0.1275468404</td><td>-0.003247908 </td><td>-0.5508926112</td><td>-0.179888550 </td><td> 0.11215797  </td><td>-0.1736283807</td><td>-0.228491410 </td><td>1.8478187    </td><td>148          </td></tr>\n",
       "\t<tr><th scope=row>149</th><td>1            </td><td> 0.195091261 </td><td> 0.003592989 </td><td> 0.0762413103</td><td>-0.496084038 </td><td>-0.1174327493</td><td> 0.252375246 </td><td>-0.60407608  </td><td>-0.1282198385</td><td> 0.179424504 </td><td>1.8611893    </td><td>149          </td></tr>\n",
       "\t<tr><th scope=row>150</th><td>1            </td><td> 0.380143135 </td><td>-0.081461434 </td><td>-0.0009048289</td><td>-0.120139817 </td><td> 0.0465981675</td><td>-0.321336283 </td><td> 0.02289315  </td><td>-0.1921281626</td><td>-0.144564555 </td><td>1.7453814    </td><td>150          </td></tr>\n",
       "</tbody>\n",
       "</table>\n"
      ],
      "text/latex": [
       "\\begin{tabular}{r|llllllllllll}\n",
       "  & a & b & c & d & e & f & g & h & i & j & response & index\\\\\n",
       "\\hline\n",
       "\t101 & 1             & -0.295941511  &  0.007056550  & -0.1139495195 & -0.164661448  &  0.0975239806 &  0.529865826  & -0.41934898   & -0.1851713938 & -0.267283438  & 1.5344343     & 101          \\\\\n",
       "\t102 & 1             & -0.097147210  &  0.198976021  & -0.3016221115 & -0.251076990  &  0.0547375365 &  0.181410980  &  0.42916255   &  0.3999851188 &  0.472017912  & 1.3090544     & 102          \\\\\n",
       "\t103 & 1             & -0.491595832  &  0.125183306  & -0.0212618571 & -0.202212509  &  0.0631741853 &  0.360417884  &  0.11371204   &  0.5128847576 &  0.181418072  & 1.2191401     & 103          \\\\\n",
       "\t104 & 1             & -0.408593681  &  0.110026749  & -0.0850608435 &  0.328086118  & -0.2498627604 & -0.419795447  & -0.08669499   &  0.0771398564 & -0.118197693  & 1.3726263     & 104          \\\\\n",
       "\t105 & 1             &  0.181039858  &  0.049539298  &  0.5805486829 & -0.373466325  & -0.0615017889 & -0.132609595  & -0.38832368   & -0.1139853921 & -0.289910404  & 1.8843933     & 105          \\\\\n",
       "\t106 & 1             & -0.030147571  &  0.161613939  &  0.1677411250 & -0.069820494  & -0.1135120139 & -0.300126105  & -0.47130581   & -0.1560430854 & -0.011614874  & 1.2037510     & 106          \\\\\n",
       "\t107 & 1             &  0.064341450  &  0.034883212  &  0.2946020756 &  0.236228678  &  0.1423530721 &  0.096548885  &  0.16574058   & -0.0009989848 &  0.068141010  & 1.3040024     & 107          \\\\\n",
       "\t108 & 1             &  0.185731707  &  0.207425751  &  0.2103228710 &  0.222942914  &  0.0029735322 &  0.456855839  &  0.33698036   & -0.4190630325 &  0.174533293  & 1.3278205     & 108          \\\\\n",
       "\t109 & 1             &  0.335043450  & -0.236804180  &  0.1237750693 & -0.074111281  &  0.1784820863 & -0.357889765  &  0.18405877   &  0.4154307358 &  0.122329943  & 1.6168823     & 109          \\\\\n",
       "\t110 & 1             & -0.139373513  &  0.128025174  &  0.0697359699 &  0.122211896  &  0.2508214475 &  0.235195320  & -0.27947827   &  0.1796885064 & -0.299273201  & 1.4749347     & 110          \\\\\n",
       "\t111 & 1             & -0.232969624  & -0.684187350  &  0.4222390584 & -0.084444425  &  0.0207199117 & -0.211791694  &  0.10214815   &  0.3410330207 & -0.351690809  & 1.4221811     & 111          \\\\\n",
       "\t112 & 1             &  0.079520578  &  0.464898694  & -0.4450204344 &  0.098655304  & -0.0327997606 &  0.090178720  & -0.24931485   &  0.2031474481 &  0.107185901  & 1.7327119     & 112          \\\\\n",
       "\t113 & 1             & -0.704395517  &  0.252684316  & -0.1394971634 & -0.221622809  &  0.1445999341 & -0.261362959  & -0.28595930   & -0.3000154713 & -0.560723683  & 1.6461824     & 113          \\\\\n",
       "\t114 & 1             & -0.029643573  & -0.119097223  &  0.2682421058 &  0.339827821  &  0.0944879450 & -0.148097727  & -0.16791935   &  0.2482946878 & -0.103865793  & 1.1625590     & 114          \\\\\n",
       "\t115 & 1             &  0.058830269  &  0.079695962  &  0.2887093282 & -0.018229209  &  0.4387576211 & -0.222740940  &  0.35468867   & -0.1415875121 & -0.003623868  & 1.3641966     & 115          \\\\\n",
       "\t116 & 1             &  0.056070757  & -0.163341398  & -0.3218109604 & -0.469957055  & -0.1010303711 & -0.375163960  & -0.40068710   &  0.2016274007 & -0.176054364  & 0.9473946     & 116          \\\\\n",
       "\t117 & 1             &  0.134474458  & -0.205359278  &  0.0796400493 &  0.165907952  &  0.0177107464 & -0.133822865  &  0.06205180   & -0.1790724410 &  0.566353701  & 1.3444955     & 117          \\\\\n",
       "\t118 & 1             & -0.359269856  & -0.140539078  & -0.0134339294 & -0.011384300  &  0.1883011546 &  0.397200624  & -0.36071990   & -0.1419870446 &  0.177403476  & 1.1780606     & 118          \\\\\n",
       "\t119 & 1             & -0.092312395  &  0.427792185  &  0.2335754465 &  0.262335618  & -0.0818939177 & -0.296981232  &  0.05108785   & -0.2843557276 &  0.526222994  & 1.6203575     & 119          \\\\\n",
       "\t120 & 1             & -0.629915394  & -0.197359737  & -0.5349299971 &  0.275695284  &  0.2132397698 & -0.109911976  &  0.01032335   &  0.2140915755 &  0.809182568  & 1.2147419     & 120          \\\\\n",
       "\t121 & 1             &  0.263031414  &  0.081246905  &  0.0166759051 & -0.336425964  & -0.3980795338 &  0.148057237  & -0.08233104   & -0.1885983414 &  0.038353805  & 1.8097806     & 121          \\\\\n",
       "\t122 & 1             & -0.369590490  &  0.188993662  &  0.3946046572 & -0.037032094  & -0.4220424838 & -0.056012519  &  0.20890996   & -0.3598594327 & -0.293583310  & 1.6254715     & 122          \\\\\n",
       "\t123 & 1             &  0.291417696  &  0.194030896  & -0.2319433907 & -0.047477940  &  0.0772265731 & -0.004236847  &  0.06956650   &  0.0086452910 & -0.097146429  & 1.6591026     & 123          \\\\\n",
       "\t124 & 1             &  0.194726046  &  0.163989352  & -0.0132116762 &  0.341895283  &  0.0009572427 & -0.039480344  &  0.46718065   &  0.1387863461 & -0.077422750  & 1.2264632     & 124          \\\\\n",
       "\t125 & 1             & -0.006002243  &  0.128017944  &  0.3322466718 & -0.025228726  &  0.1469111217 & -0.116486919  &  0.05413614   & -0.2031699064 &  0.079084359  & 1.3516715     & 125          \\\\\n",
       "\t126 & 1             & -0.237988451  & -0.058192377  & -0.0712051587 & -0.006021394  &  0.2295109477 &  0.029605150  &  0.28284974   & -0.2403971752 & -0.019933690  & 1.3379291     & 126          \\\\\n",
       "\t127 & 1             & -0.080765642  & -0.091627124  & -0.4783574755 &  0.126701068  &  0.4672474650 &  0.070309964  &  0.37191694   &  0.1377711078 &  0.150993892  & 1.6747582     & 127          \\\\\n",
       "\t128 & 1             & -0.431258221  &  0.223794747  &  0.2744744514 & -0.165159641  & -0.2601078702 &  0.150576918  &  0.39648698   & -0.1312196357 & -0.104838704  & 1.5065552     & 128          \\\\\n",
       "\t129 & 1             &  0.190890811  & -0.229780662  & -0.1349131629 &  0.201615112  &  0.0123988019 & -0.299039648  &  0.02353375   & -0.1906643936 &  0.176384327  & 1.3679173     & 129          \\\\\n",
       "\t130 & 1             &  0.070196433  & -0.088122428  & -0.3013842761 & -0.374962555  & -0.0637730934 & -0.214900036  & -0.24185997   & -0.0728413410 & -0.657580909  & 1.7474721     & 130          \\\\\n",
       "\t131 & 1             &  0.064125185  & -0.200820981  & -0.2347333693 & -0.478952577  & -0.0389964176 & -0.091933730  & -0.25467788   & -0.2885653235 &  0.128930464  & 1.4825112     & 131          \\\\\n",
       "\t132 & 1             &  0.208900109  &  0.258727849  & -0.3594856045 & -0.434026749  & -0.0350069822 &  0.027674624  &  0.23204763   & -0.0430404893 & -0.480476394  & 1.8603703     & 132          \\\\\n",
       "\t133 & 1             &  0.111405522  & -0.046209185  &  0.1519013893 &  0.113571677  &  0.0040360088 & -0.079262338  &  0.33602049   &  0.0021229577 &  0.367235276  & 1.6304775     & 133          \\\\\n",
       "\t134 & 1             &  0.327698323  &  0.168729504  &  0.1518311755 & -0.181589222  &  0.4798698519 & -0.480770266  &  0.24447137   & -0.1668383228 & -0.309128446  & 1.6219501     & 134          \\\\\n",
       "\t135 & 1             &  0.412996394  &  0.378030432  & -0.0072589142 &  0.341659807  &  0.4802863263 &  0.114732487  &  0.42159830   &  0.1977236234 & -0.595148748  & 1.7821973     & 135          \\\\\n",
       "\t136 & 1             &  0.306435126  & -0.061887562  & -0.1272530990 & -0.026805983  &  0.1105772540 & -0.119725021  & -0.21981395   &  0.1829586418 &  0.012772863  & 1.7709506     & 136          \\\\\n",
       "\t137 & 1             & -0.211402224  &  0.194530808  & -0.1318324500 &  0.516592992  &  0.3217466958 &  0.022779482  &  0.33062251   & -0.0884773686 & -0.325399334  & 1.3873956     & 137          \\\\\n",
       "\t138 & 1             & -0.196239931  & -0.198515906  &  0.0227337813 &  0.184199185  &  0.3600720525 & -0.353665760  & -0.04888298   & -0.0133250842 &  0.651417312  & 1.9200075     & 138          \\\\\n",
       "\t139 & 1             &  0.160783400  &  0.138039657  &  0.3650874347 & -0.243675407  &  0.0345907372 & -0.083999125  &  0.04900426   & -0.3447618220 &  0.070312854  & 1.8628403     & 139          \\\\\n",
       "\t140 & 1             & -0.380471969  & -0.134885812  & -0.1043666407 & -0.076580075  &  0.0121897687 & -0.361861885  & -0.17563484   & -0.3295288941 &  0.383936789  & 1.4902390     & 140          \\\\\n",
       "\t141 & 1             & -0.226545964  & -0.224631842  & -0.0569879932 &  0.087516265  & -0.2544017352 &  0.452989752  &  0.11120508   &  0.3512353930 &  0.264881262  & 1.3831469     & 141          \\\\\n",
       "\t142 & 1             &  0.325329457  &  0.310863485  & -0.0353466737 & -0.194154637  & -0.0088922208 &  0.127034132  & -0.50545359   & -0.0622344130 &  0.309694950  & 1.1268709     & 142          \\\\\n",
       "\t143 & 1             & -0.326956998  &  0.223879843  &  0.1116006299 & -0.143110417  &  0.0217327796 & -0.073321360  &  0.47904128   &  0.1412372921 & -0.216834257  & 1.6258331     & 143          \\\\\n",
       "\t144 & 1             & -0.245238893  & -0.044551955  &  0.0350256529 &  0.005860241  &  0.2917017671 & -0.372039762  & -0.10417864   & -0.5106895933 & -0.512401258  & 1.5820344     & 144          \\\\\n",
       "\t145 & 1             & -0.081245317  & -0.343296214  &  0.3439812176 & -0.468286495  &  0.2962077930 &  0.064219170  &  0.12806953   & -0.0121413869 & -0.212943346  & 1.7878170     & 145          \\\\\n",
       "\t146 & 1             & -0.351858798  & -0.017483131  &  0.2262692897 &  0.101562900  & -0.3268441273 & -0.152794456  & -0.04506572   &  0.2474102144 &  0.264131578  & 2.2074901     & 146          \\\\\n",
       "\t147 & 1             & -0.292112511  & -0.167361958  & -0.1551395307 &  0.809201210  & -0.2256193964 &  0.008867698  &  0.63824165   & -0.0498969744 & -0.181740016  & 1.8815180     & 147          \\\\\n",
       "\t148 & 1             & -0.047069598  &  0.493856057  & -0.1275468404 & -0.003247908  & -0.5508926112 & -0.179888550  &  0.11215797   & -0.1736283807 & -0.228491410  & 1.8478187     & 148          \\\\\n",
       "\t149 & 1             &  0.195091261  &  0.003592989  &  0.0762413103 & -0.496084038  & -0.1174327493 &  0.252375246  & -0.60407608   & -0.1282198385 &  0.179424504  & 1.8611893     & 149          \\\\\n",
       "\t150 & 1             &  0.380143135  & -0.081461434  & -0.0009048289 & -0.120139817  &  0.0465981675 & -0.321336283  &  0.02289315   & -0.1921281626 & -0.144564555  & 1.7453814     & 150          \\\\\n",
       "\\end{tabular}\n"
      ],
      "text/markdown": [
       "\n",
       "| <!--/--> | a | b | c | d | e | f | g | h | i | j | response | index | \n",
       "|---|---|---|---|---|---|---|---|---|---|---|---|---|---|---|---|---|---|---|---|---|---|---|---|---|---|---|---|---|---|---|---|---|---|---|---|---|---|---|---|---|---|---|---|---|---|---|---|---|---|\n",
       "| 101 | 1             | -0.295941511  |  0.007056550  | -0.1139495195 | -0.164661448  |  0.0975239806 |  0.529865826  | -0.41934898   | -0.1851713938 | -0.267283438  | 1.5344343     | 101           | \n",
       "| 102 | 1             | -0.097147210  |  0.198976021  | -0.3016221115 | -0.251076990  |  0.0547375365 |  0.181410980  |  0.42916255   |  0.3999851188 |  0.472017912  | 1.3090544     | 102           | \n",
       "| 103 | 1             | -0.491595832  |  0.125183306  | -0.0212618571 | -0.202212509  |  0.0631741853 |  0.360417884  |  0.11371204   |  0.5128847576 |  0.181418072  | 1.2191401     | 103           | \n",
       "| 104 | 1             | -0.408593681  |  0.110026749  | -0.0850608435 |  0.328086118  | -0.2498627604 | -0.419795447  | -0.08669499   |  0.0771398564 | -0.118197693  | 1.3726263     | 104           | \n",
       "| 105 | 1             |  0.181039858  |  0.049539298  |  0.5805486829 | -0.373466325  | -0.0615017889 | -0.132609595  | -0.38832368   | -0.1139853921 | -0.289910404  | 1.8843933     | 105           | \n",
       "| 106 | 1             | -0.030147571  |  0.161613939  |  0.1677411250 | -0.069820494  | -0.1135120139 | -0.300126105  | -0.47130581   | -0.1560430854 | -0.011614874  | 1.2037510     | 106           | \n",
       "| 107 | 1             |  0.064341450  |  0.034883212  |  0.2946020756 |  0.236228678  |  0.1423530721 |  0.096548885  |  0.16574058   | -0.0009989848 |  0.068141010  | 1.3040024     | 107           | \n",
       "| 108 | 1             |  0.185731707  |  0.207425751  |  0.2103228710 |  0.222942914  |  0.0029735322 |  0.456855839  |  0.33698036   | -0.4190630325 |  0.174533293  | 1.3278205     | 108           | \n",
       "| 109 | 1             |  0.335043450  | -0.236804180  |  0.1237750693 | -0.074111281  |  0.1784820863 | -0.357889765  |  0.18405877   |  0.4154307358 |  0.122329943  | 1.6168823     | 109           | \n",
       "| 110 | 1             | -0.139373513  |  0.128025174  |  0.0697359699 |  0.122211896  |  0.2508214475 |  0.235195320  | -0.27947827   |  0.1796885064 | -0.299273201  | 1.4749347     | 110           | \n",
       "| 111 | 1             | -0.232969624  | -0.684187350  |  0.4222390584 | -0.084444425  |  0.0207199117 | -0.211791694  |  0.10214815   |  0.3410330207 | -0.351690809  | 1.4221811     | 111           | \n",
       "| 112 | 1             |  0.079520578  |  0.464898694  | -0.4450204344 |  0.098655304  | -0.0327997606 |  0.090178720  | -0.24931485   |  0.2031474481 |  0.107185901  | 1.7327119     | 112           | \n",
       "| 113 | 1             | -0.704395517  |  0.252684316  | -0.1394971634 | -0.221622809  |  0.1445999341 | -0.261362959  | -0.28595930   | -0.3000154713 | -0.560723683  | 1.6461824     | 113           | \n",
       "| 114 | 1             | -0.029643573  | -0.119097223  |  0.2682421058 |  0.339827821  |  0.0944879450 | -0.148097727  | -0.16791935   |  0.2482946878 | -0.103865793  | 1.1625590     | 114           | \n",
       "| 115 | 1             |  0.058830269  |  0.079695962  |  0.2887093282 | -0.018229209  |  0.4387576211 | -0.222740940  |  0.35468867   | -0.1415875121 | -0.003623868  | 1.3641966     | 115           | \n",
       "| 116 | 1             |  0.056070757  | -0.163341398  | -0.3218109604 | -0.469957055  | -0.1010303711 | -0.375163960  | -0.40068710   |  0.2016274007 | -0.176054364  | 0.9473946     | 116           | \n",
       "| 117 | 1             |  0.134474458  | -0.205359278  |  0.0796400493 |  0.165907952  |  0.0177107464 | -0.133822865  |  0.06205180   | -0.1790724410 |  0.566353701  | 1.3444955     | 117           | \n",
       "| 118 | 1             | -0.359269856  | -0.140539078  | -0.0134339294 | -0.011384300  |  0.1883011546 |  0.397200624  | -0.36071990   | -0.1419870446 |  0.177403476  | 1.1780606     | 118           | \n",
       "| 119 | 1             | -0.092312395  |  0.427792185  |  0.2335754465 |  0.262335618  | -0.0818939177 | -0.296981232  |  0.05108785   | -0.2843557276 |  0.526222994  | 1.6203575     | 119           | \n",
       "| 120 | 1             | -0.629915394  | -0.197359737  | -0.5349299971 |  0.275695284  |  0.2132397698 | -0.109911976  |  0.01032335   |  0.2140915755 |  0.809182568  | 1.2147419     | 120           | \n",
       "| 121 | 1             |  0.263031414  |  0.081246905  |  0.0166759051 | -0.336425964  | -0.3980795338 |  0.148057237  | -0.08233104   | -0.1885983414 |  0.038353805  | 1.8097806     | 121           | \n",
       "| 122 | 1             | -0.369590490  |  0.188993662  |  0.3946046572 | -0.037032094  | -0.4220424838 | -0.056012519  |  0.20890996   | -0.3598594327 | -0.293583310  | 1.6254715     | 122           | \n",
       "| 123 | 1             |  0.291417696  |  0.194030896  | -0.2319433907 | -0.047477940  |  0.0772265731 | -0.004236847  |  0.06956650   |  0.0086452910 | -0.097146429  | 1.6591026     | 123           | \n",
       "| 124 | 1             |  0.194726046  |  0.163989352  | -0.0132116762 |  0.341895283  |  0.0009572427 | -0.039480344  |  0.46718065   |  0.1387863461 | -0.077422750  | 1.2264632     | 124           | \n",
       "| 125 | 1             | -0.006002243  |  0.128017944  |  0.3322466718 | -0.025228726  |  0.1469111217 | -0.116486919  |  0.05413614   | -0.2031699064 |  0.079084359  | 1.3516715     | 125           | \n",
       "| 126 | 1             | -0.237988451  | -0.058192377  | -0.0712051587 | -0.006021394  |  0.2295109477 |  0.029605150  |  0.28284974   | -0.2403971752 | -0.019933690  | 1.3379291     | 126           | \n",
       "| 127 | 1             | -0.080765642  | -0.091627124  | -0.4783574755 |  0.126701068  |  0.4672474650 |  0.070309964  |  0.37191694   |  0.1377711078 |  0.150993892  | 1.6747582     | 127           | \n",
       "| 128 | 1             | -0.431258221  |  0.223794747  |  0.2744744514 | -0.165159641  | -0.2601078702 |  0.150576918  |  0.39648698   | -0.1312196357 | -0.104838704  | 1.5065552     | 128           | \n",
       "| 129 | 1             |  0.190890811  | -0.229780662  | -0.1349131629 |  0.201615112  |  0.0123988019 | -0.299039648  |  0.02353375   | -0.1906643936 |  0.176384327  | 1.3679173     | 129           | \n",
       "| 130 | 1             |  0.070196433  | -0.088122428  | -0.3013842761 | -0.374962555  | -0.0637730934 | -0.214900036  | -0.24185997   | -0.0728413410 | -0.657580909  | 1.7474721     | 130           | \n",
       "| 131 | 1             |  0.064125185  | -0.200820981  | -0.2347333693 | -0.478952577  | -0.0389964176 | -0.091933730  | -0.25467788   | -0.2885653235 |  0.128930464  | 1.4825112     | 131           | \n",
       "| 132 | 1             |  0.208900109  |  0.258727849  | -0.3594856045 | -0.434026749  | -0.0350069822 |  0.027674624  |  0.23204763   | -0.0430404893 | -0.480476394  | 1.8603703     | 132           | \n",
       "| 133 | 1             |  0.111405522  | -0.046209185  |  0.1519013893 |  0.113571677  |  0.0040360088 | -0.079262338  |  0.33602049   |  0.0021229577 |  0.367235276  | 1.6304775     | 133           | \n",
       "| 134 | 1             |  0.327698323  |  0.168729504  |  0.1518311755 | -0.181589222  |  0.4798698519 | -0.480770266  |  0.24447137   | -0.1668383228 | -0.309128446  | 1.6219501     | 134           | \n",
       "| 135 | 1             |  0.412996394  |  0.378030432  | -0.0072589142 |  0.341659807  |  0.4802863263 |  0.114732487  |  0.42159830   |  0.1977236234 | -0.595148748  | 1.7821973     | 135           | \n",
       "| 136 | 1             |  0.306435126  | -0.061887562  | -0.1272530990 | -0.026805983  |  0.1105772540 | -0.119725021  | -0.21981395   |  0.1829586418 |  0.012772863  | 1.7709506     | 136           | \n",
       "| 137 | 1             | -0.211402224  |  0.194530808  | -0.1318324500 |  0.516592992  |  0.3217466958 |  0.022779482  |  0.33062251   | -0.0884773686 | -0.325399334  | 1.3873956     | 137           | \n",
       "| 138 | 1             | -0.196239931  | -0.198515906  |  0.0227337813 |  0.184199185  |  0.3600720525 | -0.353665760  | -0.04888298   | -0.0133250842 |  0.651417312  | 1.9200075     | 138           | \n",
       "| 139 | 1             |  0.160783400  |  0.138039657  |  0.3650874347 | -0.243675407  |  0.0345907372 | -0.083999125  |  0.04900426   | -0.3447618220 |  0.070312854  | 1.8628403     | 139           | \n",
       "| 140 | 1             | -0.380471969  | -0.134885812  | -0.1043666407 | -0.076580075  |  0.0121897687 | -0.361861885  | -0.17563484   | -0.3295288941 |  0.383936789  | 1.4902390     | 140           | \n",
       "| 141 | 1             | -0.226545964  | -0.224631842  | -0.0569879932 |  0.087516265  | -0.2544017352 |  0.452989752  |  0.11120508   |  0.3512353930 |  0.264881262  | 1.3831469     | 141           | \n",
       "| 142 | 1             |  0.325329457  |  0.310863485  | -0.0353466737 | -0.194154637  | -0.0088922208 |  0.127034132  | -0.50545359   | -0.0622344130 |  0.309694950  | 1.1268709     | 142           | \n",
       "| 143 | 1             | -0.326956998  |  0.223879843  |  0.1116006299 | -0.143110417  |  0.0217327796 | -0.073321360  |  0.47904128   |  0.1412372921 | -0.216834257  | 1.6258331     | 143           | \n",
       "| 144 | 1             | -0.245238893  | -0.044551955  |  0.0350256529 |  0.005860241  |  0.2917017671 | -0.372039762  | -0.10417864   | -0.5106895933 | -0.512401258  | 1.5820344     | 144           | \n",
       "| 145 | 1             | -0.081245317  | -0.343296214  |  0.3439812176 | -0.468286495  |  0.2962077930 |  0.064219170  |  0.12806953   | -0.0121413869 | -0.212943346  | 1.7878170     | 145           | \n",
       "| 146 | 1             | -0.351858798  | -0.017483131  |  0.2262692897 |  0.101562900  | -0.3268441273 | -0.152794456  | -0.04506572   |  0.2474102144 |  0.264131578  | 2.2074901     | 146           | \n",
       "| 147 | 1             | -0.292112511  | -0.167361958  | -0.1551395307 |  0.809201210  | -0.2256193964 |  0.008867698  |  0.63824165   | -0.0498969744 | -0.181740016  | 1.8815180     | 147           | \n",
       "| 148 | 1             | -0.047069598  |  0.493856057  | -0.1275468404 | -0.003247908  | -0.5508926112 | -0.179888550  |  0.11215797   | -0.1736283807 | -0.228491410  | 1.8478187     | 148           | \n",
       "| 149 | 1             |  0.195091261  |  0.003592989  |  0.0762413103 | -0.496084038  | -0.1174327493 |  0.252375246  | -0.60407608   | -0.1282198385 |  0.179424504  | 1.8611893     | 149           | \n",
       "| 150 | 1             |  0.380143135  | -0.081461434  | -0.0009048289 | -0.120139817  |  0.0465981675 | -0.321336283  |  0.02289315   | -0.1921281626 | -0.144564555  | 1.7453814     | 150           | \n",
       "\n",
       "\n"
      ],
      "text/plain": [
       "    a b            c            d             e            f            \n",
       "101 1 -0.295941511  0.007056550 -0.1139495195 -0.164661448  0.0975239806\n",
       "102 1 -0.097147210  0.198976021 -0.3016221115 -0.251076990  0.0547375365\n",
       "103 1 -0.491595832  0.125183306 -0.0212618571 -0.202212509  0.0631741853\n",
       "104 1 -0.408593681  0.110026749 -0.0850608435  0.328086118 -0.2498627604\n",
       "105 1  0.181039858  0.049539298  0.5805486829 -0.373466325 -0.0615017889\n",
       "106 1 -0.030147571  0.161613939  0.1677411250 -0.069820494 -0.1135120139\n",
       "107 1  0.064341450  0.034883212  0.2946020756  0.236228678  0.1423530721\n",
       "108 1  0.185731707  0.207425751  0.2103228710  0.222942914  0.0029735322\n",
       "109 1  0.335043450 -0.236804180  0.1237750693 -0.074111281  0.1784820863\n",
       "110 1 -0.139373513  0.128025174  0.0697359699  0.122211896  0.2508214475\n",
       "111 1 -0.232969624 -0.684187350  0.4222390584 -0.084444425  0.0207199117\n",
       "112 1  0.079520578  0.464898694 -0.4450204344  0.098655304 -0.0327997606\n",
       "113 1 -0.704395517  0.252684316 -0.1394971634 -0.221622809  0.1445999341\n",
       "114 1 -0.029643573 -0.119097223  0.2682421058  0.339827821  0.0944879450\n",
       "115 1  0.058830269  0.079695962  0.2887093282 -0.018229209  0.4387576211\n",
       "116 1  0.056070757 -0.163341398 -0.3218109604 -0.469957055 -0.1010303711\n",
       "117 1  0.134474458 -0.205359278  0.0796400493  0.165907952  0.0177107464\n",
       "118 1 -0.359269856 -0.140539078 -0.0134339294 -0.011384300  0.1883011546\n",
       "119 1 -0.092312395  0.427792185  0.2335754465  0.262335618 -0.0818939177\n",
       "120 1 -0.629915394 -0.197359737 -0.5349299971  0.275695284  0.2132397698\n",
       "121 1  0.263031414  0.081246905  0.0166759051 -0.336425964 -0.3980795338\n",
       "122 1 -0.369590490  0.188993662  0.3946046572 -0.037032094 -0.4220424838\n",
       "123 1  0.291417696  0.194030896 -0.2319433907 -0.047477940  0.0772265731\n",
       "124 1  0.194726046  0.163989352 -0.0132116762  0.341895283  0.0009572427\n",
       "125 1 -0.006002243  0.128017944  0.3322466718 -0.025228726  0.1469111217\n",
       "126 1 -0.237988451 -0.058192377 -0.0712051587 -0.006021394  0.2295109477\n",
       "127 1 -0.080765642 -0.091627124 -0.4783574755  0.126701068  0.4672474650\n",
       "128 1 -0.431258221  0.223794747  0.2744744514 -0.165159641 -0.2601078702\n",
       "129 1  0.190890811 -0.229780662 -0.1349131629  0.201615112  0.0123988019\n",
       "130 1  0.070196433 -0.088122428 -0.3013842761 -0.374962555 -0.0637730934\n",
       "131 1  0.064125185 -0.200820981 -0.2347333693 -0.478952577 -0.0389964176\n",
       "132 1  0.208900109  0.258727849 -0.3594856045 -0.434026749 -0.0350069822\n",
       "133 1  0.111405522 -0.046209185  0.1519013893  0.113571677  0.0040360088\n",
       "134 1  0.327698323  0.168729504  0.1518311755 -0.181589222  0.4798698519\n",
       "135 1  0.412996394  0.378030432 -0.0072589142  0.341659807  0.4802863263\n",
       "136 1  0.306435126 -0.061887562 -0.1272530990 -0.026805983  0.1105772540\n",
       "137 1 -0.211402224  0.194530808 -0.1318324500  0.516592992  0.3217466958\n",
       "138 1 -0.196239931 -0.198515906  0.0227337813  0.184199185  0.3600720525\n",
       "139 1  0.160783400  0.138039657  0.3650874347 -0.243675407  0.0345907372\n",
       "140 1 -0.380471969 -0.134885812 -0.1043666407 -0.076580075  0.0121897687\n",
       "141 1 -0.226545964 -0.224631842 -0.0569879932  0.087516265 -0.2544017352\n",
       "142 1  0.325329457  0.310863485 -0.0353466737 -0.194154637 -0.0088922208\n",
       "143 1 -0.326956998  0.223879843  0.1116006299 -0.143110417  0.0217327796\n",
       "144 1 -0.245238893 -0.044551955  0.0350256529  0.005860241  0.2917017671\n",
       "145 1 -0.081245317 -0.343296214  0.3439812176 -0.468286495  0.2962077930\n",
       "146 1 -0.351858798 -0.017483131  0.2262692897  0.101562900 -0.3268441273\n",
       "147 1 -0.292112511 -0.167361958 -0.1551395307  0.809201210 -0.2256193964\n",
       "148 1 -0.047069598  0.493856057 -0.1275468404 -0.003247908 -0.5508926112\n",
       "149 1  0.195091261  0.003592989  0.0762413103 -0.496084038 -0.1174327493\n",
       "150 1  0.380143135 -0.081461434 -0.0009048289 -0.120139817  0.0465981675\n",
       "    g            h           i             j            response  index\n",
       "101  0.529865826 -0.41934898 -0.1851713938 -0.267283438 1.5344343 101  \n",
       "102  0.181410980  0.42916255  0.3999851188  0.472017912 1.3090544 102  \n",
       "103  0.360417884  0.11371204  0.5128847576  0.181418072 1.2191401 103  \n",
       "104 -0.419795447 -0.08669499  0.0771398564 -0.118197693 1.3726263 104  \n",
       "105 -0.132609595 -0.38832368 -0.1139853921 -0.289910404 1.8843933 105  \n",
       "106 -0.300126105 -0.47130581 -0.1560430854 -0.011614874 1.2037510 106  \n",
       "107  0.096548885  0.16574058 -0.0009989848  0.068141010 1.3040024 107  \n",
       "108  0.456855839  0.33698036 -0.4190630325  0.174533293 1.3278205 108  \n",
       "109 -0.357889765  0.18405877  0.4154307358  0.122329943 1.6168823 109  \n",
       "110  0.235195320 -0.27947827  0.1796885064 -0.299273201 1.4749347 110  \n",
       "111 -0.211791694  0.10214815  0.3410330207 -0.351690809 1.4221811 111  \n",
       "112  0.090178720 -0.24931485  0.2031474481  0.107185901 1.7327119 112  \n",
       "113 -0.261362959 -0.28595930 -0.3000154713 -0.560723683 1.6461824 113  \n",
       "114 -0.148097727 -0.16791935  0.2482946878 -0.103865793 1.1625590 114  \n",
       "115 -0.222740940  0.35468867 -0.1415875121 -0.003623868 1.3641966 115  \n",
       "116 -0.375163960 -0.40068710  0.2016274007 -0.176054364 0.9473946 116  \n",
       "117 -0.133822865  0.06205180 -0.1790724410  0.566353701 1.3444955 117  \n",
       "118  0.397200624 -0.36071990 -0.1419870446  0.177403476 1.1780606 118  \n",
       "119 -0.296981232  0.05108785 -0.2843557276  0.526222994 1.6203575 119  \n",
       "120 -0.109911976  0.01032335  0.2140915755  0.809182568 1.2147419 120  \n",
       "121  0.148057237 -0.08233104 -0.1885983414  0.038353805 1.8097806 121  \n",
       "122 -0.056012519  0.20890996 -0.3598594327 -0.293583310 1.6254715 122  \n",
       "123 -0.004236847  0.06956650  0.0086452910 -0.097146429 1.6591026 123  \n",
       "124 -0.039480344  0.46718065  0.1387863461 -0.077422750 1.2264632 124  \n",
       "125 -0.116486919  0.05413614 -0.2031699064  0.079084359 1.3516715 125  \n",
       "126  0.029605150  0.28284974 -0.2403971752 -0.019933690 1.3379291 126  \n",
       "127  0.070309964  0.37191694  0.1377711078  0.150993892 1.6747582 127  \n",
       "128  0.150576918  0.39648698 -0.1312196357 -0.104838704 1.5065552 128  \n",
       "129 -0.299039648  0.02353375 -0.1906643936  0.176384327 1.3679173 129  \n",
       "130 -0.214900036 -0.24185997 -0.0728413410 -0.657580909 1.7474721 130  \n",
       "131 -0.091933730 -0.25467788 -0.2885653235  0.128930464 1.4825112 131  \n",
       "132  0.027674624  0.23204763 -0.0430404893 -0.480476394 1.8603703 132  \n",
       "133 -0.079262338  0.33602049  0.0021229577  0.367235276 1.6304775 133  \n",
       "134 -0.480770266  0.24447137 -0.1668383228 -0.309128446 1.6219501 134  \n",
       "135  0.114732487  0.42159830  0.1977236234 -0.595148748 1.7821973 135  \n",
       "136 -0.119725021 -0.21981395  0.1829586418  0.012772863 1.7709506 136  \n",
       "137  0.022779482  0.33062251 -0.0884773686 -0.325399334 1.3873956 137  \n",
       "138 -0.353665760 -0.04888298 -0.0133250842  0.651417312 1.9200075 138  \n",
       "139 -0.083999125  0.04900426 -0.3447618220  0.070312854 1.8628403 139  \n",
       "140 -0.361861885 -0.17563484 -0.3295288941  0.383936789 1.4902390 140  \n",
       "141  0.452989752  0.11120508  0.3512353930  0.264881262 1.3831469 141  \n",
       "142  0.127034132 -0.50545359 -0.0622344130  0.309694950 1.1268709 142  \n",
       "143 -0.073321360  0.47904128  0.1412372921 -0.216834257 1.6258331 143  \n",
       "144 -0.372039762 -0.10417864 -0.5106895933 -0.512401258 1.5820344 144  \n",
       "145  0.064219170  0.12806953 -0.0121413869 -0.212943346 1.7878170 145  \n",
       "146 -0.152794456 -0.04506572  0.2474102144  0.264131578 2.2074901 146  \n",
       "147  0.008867698  0.63824165 -0.0498969744 -0.181740016 1.8815180 147  \n",
       "148 -0.179888550  0.11215797 -0.1736283807 -0.228491410 1.8478187 148  \n",
       "149  0.252375246 -0.60407608 -0.1282198385  0.179424504 1.8611893 149  \n",
       "150 -0.321336283  0.02289315 -0.1921281626 -0.144564555 1.7453814 150  "
      ]
     },
     "metadata": {},
     "output_type": "display_data"
    }
   ],
   "source": [
    "# pick only where a is 1\n",
    "# this is fine since our test data only contains a=1\n",
    "# if we want to know about a=0, we can train 2 different models\n",
    "train[101:150,]"
   ]
  },
  {
   "cell_type": "code",
   "execution_count": 10,
   "metadata": {
    "collapsed": true
   },
   "outputs": [
    {
     "data": {
      "text/html": [
       "<table>\n",
       "<thead><tr><th></th><th scope=col>Df</th><th scope=col>Sum Sq</th><th scope=col>Mean Sq</th><th scope=col>F value</th><th scope=col>Pr(&gt;F)</th></tr></thead>\n",
       "<tbody>\n",
       "\t<tr><th scope=row>b</th><td> 1        </td><td>0.07315454</td><td>0.07315454</td><td>1.0119912 </td><td>0.3204733 </td></tr>\n",
       "\t<tr><th scope=row>c</th><td> 1        </td><td>0.03101090</td><td>0.03101090</td><td>0.4289926 </td><td>0.5162327 </td></tr>\n",
       "\t<tr><th scope=row>d</th><td> 1        </td><td>0.02719481</td><td>0.02719481</td><td>0.3762024 </td><td>0.5431149 </td></tr>\n",
       "\t<tr><th scope=row>e</th><td> 1        </td><td>0.03093245</td><td>0.03093245</td><td>0.4279074 </td><td>0.5167611 </td></tr>\n",
       "\t<tr><th scope=row>f</th><td> 1        </td><td>0.06290596</td><td>0.06290596</td><td>0.8702163 </td><td>0.3564924 </td></tr>\n",
       "\t<tr><th scope=row>g</th><td> 1        </td><td>0.04604032</td><td>0.04604032</td><td>0.6369037 </td><td>0.4295470 </td></tr>\n",
       "\t<tr><th scope=row>h</th><td> 1        </td><td>0.07561798</td><td>0.07561798</td><td>1.0460694 </td><td>0.3125601 </td></tr>\n",
       "\t<tr><th scope=row>i</th><td> 1        </td><td>0.02253086</td><td>0.02253086</td><td>0.3116831 </td><td>0.5797610 </td></tr>\n",
       "\t<tr><th scope=row>j</th><td> 1        </td><td>0.07039076</td><td>0.07039076</td><td>0.9737581 </td><td>0.3296764 </td></tr>\n",
       "\t<tr><th scope=row>Residuals</th><td>40        </td><td>2.89150904</td><td>0.07228773</td><td>       NA </td><td>       NA </td></tr>\n",
       "</tbody>\n",
       "</table>\n"
      ],
      "text/latex": [
       "\\begin{tabular}{r|lllll}\n",
       "  & Df & Sum Sq & Mean Sq & F value & Pr(>F)\\\\\n",
       "\\hline\n",
       "\tb &  1         & 0.07315454 & 0.07315454 & 1.0119912  & 0.3204733 \\\\\n",
       "\tc &  1         & 0.03101090 & 0.03101090 & 0.4289926  & 0.5162327 \\\\\n",
       "\td &  1         & 0.02719481 & 0.02719481 & 0.3762024  & 0.5431149 \\\\\n",
       "\te &  1         & 0.03093245 & 0.03093245 & 0.4279074  & 0.5167611 \\\\\n",
       "\tf &  1         & 0.06290596 & 0.06290596 & 0.8702163  & 0.3564924 \\\\\n",
       "\tg &  1         & 0.04604032 & 0.04604032 & 0.6369037  & 0.4295470 \\\\\n",
       "\th &  1         & 0.07561798 & 0.07561798 & 1.0460694  & 0.3125601 \\\\\n",
       "\ti &  1         & 0.02253086 & 0.02253086 & 0.3116831  & 0.5797610 \\\\\n",
       "\tj &  1         & 0.07039076 & 0.07039076 & 0.9737581  & 0.3296764 \\\\\n",
       "\tResiduals & 40         & 2.89150904 & 0.07228773 &        NA  &        NA \\\\\n",
       "\\end{tabular}\n"
      ],
      "text/markdown": [
       "\n",
       "| <!--/--> | Df | Sum Sq | Mean Sq | F value | Pr(>F) | \n",
       "|---|---|---|---|---|---|---|---|---|---|\n",
       "| b |  1         | 0.07315454 | 0.07315454 | 1.0119912  | 0.3204733  | \n",
       "| c |  1         | 0.03101090 | 0.03101090 | 0.4289926  | 0.5162327  | \n",
       "| d |  1         | 0.02719481 | 0.02719481 | 0.3762024  | 0.5431149  | \n",
       "| e |  1         | 0.03093245 | 0.03093245 | 0.4279074  | 0.5167611  | \n",
       "| f |  1         | 0.06290596 | 0.06290596 | 0.8702163  | 0.3564924  | \n",
       "| g |  1         | 0.04604032 | 0.04604032 | 0.6369037  | 0.4295470  | \n",
       "| h |  1         | 0.07561798 | 0.07561798 | 1.0460694  | 0.3125601  | \n",
       "| i |  1         | 0.02253086 | 0.02253086 | 0.3116831  | 0.5797610  | \n",
       "| j |  1         | 0.07039076 | 0.07039076 | 0.9737581  | 0.3296764  | \n",
       "| Residuals | 40         | 2.89150904 | 0.07228773 |        NA  |        NA  | \n",
       "\n",
       "\n"
      ],
      "text/plain": [
       "          Df Sum Sq     Mean Sq    F value   Pr(>F)   \n",
       "b          1 0.07315454 0.07315454 1.0119912 0.3204733\n",
       "c          1 0.03101090 0.03101090 0.4289926 0.5162327\n",
       "d          1 0.02719481 0.02719481 0.3762024 0.5431149\n",
       "e          1 0.03093245 0.03093245 0.4279074 0.5167611\n",
       "f          1 0.06290596 0.06290596 0.8702163 0.3564924\n",
       "g          1 0.04604032 0.04604032 0.6369037 0.4295470\n",
       "h          1 0.07561798 0.07561798 1.0460694 0.3125601\n",
       "i          1 0.02253086 0.02253086 0.3116831 0.5797610\n",
       "j          1 0.07039076 0.07039076 0.9737581 0.3296764\n",
       "Residuals 40 2.89150904 0.07228773        NA        NA"
      ]
     },
     "metadata": {},
     "output_type": "display_data"
    },
    {
     "data": {
      "text/html": [
       "<table>\n",
       "<thead><tr><th></th><th scope=col>Sum Sq</th><th scope=col>Df</th><th scope=col>F value</th><th scope=col>Pr(&gt;F)</th></tr></thead>\n",
       "<tbody>\n",
       "\t<tr><th scope=row>b</th><td>0.047277734</td><td> 1         </td><td>0.65402159 </td><td>0.4234627  </td></tr>\n",
       "\t<tr><th scope=row>c</th><td>0.004011064</td><td> 1         </td><td>0.05548748 </td><td>0.8149777  </td></tr>\n",
       "\t<tr><th scope=row>d</th><td>0.001472946</td><td> 1         </td><td>0.02037615 </td><td>0.8872082  </td></tr>\n",
       "\t<tr><th scope=row>e</th><td>0.032360810</td><td> 1         </td><td>0.44766673 </td><td>0.5072886  </td></tr>\n",
       "\t<tr><th scope=row>f</th><td>0.095844071</td><td> 1         </td><td>1.32586922 </td><td>0.2563778  </td></tr>\n",
       "\t<tr><th scope=row>g</th><td>0.030206570</td><td> 1         </td><td>0.41786583 </td><td>0.5216958  </td></tr>\n",
       "\t<tr><th scope=row>h</th><td>0.070451728</td><td> 1         </td><td>0.97460152 </td><td>0.3294696  </td></tr>\n",
       "\t<tr><th scope=row>i</th><td>0.017519362</td><td> 1         </td><td>0.24235596 </td><td>0.6252010  </td></tr>\n",
       "\t<tr><th scope=row>j</th><td>0.070390758</td><td> 1         </td><td>0.97375809 </td><td>0.3296764  </td></tr>\n",
       "\t<tr><th scope=row>Residuals</th><td>2.891509044</td><td>40         </td><td>        NA </td><td>       NA  </td></tr>\n",
       "</tbody>\n",
       "</table>\n"
      ],
      "text/latex": [
       "\\begin{tabular}{r|llll}\n",
       "  & Sum Sq & Df & F value & Pr(>F)\\\\\n",
       "\\hline\n",
       "\tb & 0.047277734 &  1          & 0.65402159  & 0.4234627  \\\\\n",
       "\tc & 0.004011064 &  1          & 0.05548748  & 0.8149777  \\\\\n",
       "\td & 0.001472946 &  1          & 0.02037615  & 0.8872082  \\\\\n",
       "\te & 0.032360810 &  1          & 0.44766673  & 0.5072886  \\\\\n",
       "\tf & 0.095844071 &  1          & 1.32586922  & 0.2563778  \\\\\n",
       "\tg & 0.030206570 &  1          & 0.41786583  & 0.5216958  \\\\\n",
       "\th & 0.070451728 &  1          & 0.97460152  & 0.3294696  \\\\\n",
       "\ti & 0.017519362 &  1          & 0.24235596  & 0.6252010  \\\\\n",
       "\tj & 0.070390758 &  1          & 0.97375809  & 0.3296764  \\\\\n",
       "\tResiduals & 2.891509044 & 40          &         NA  &        NA  \\\\\n",
       "\\end{tabular}\n"
      ],
      "text/markdown": [
       "\n",
       "| <!--/--> | Sum Sq | Df | F value | Pr(>F) | \n",
       "|---|---|---|---|---|---|---|---|---|---|\n",
       "| b | 0.047277734 |  1          | 0.65402159  | 0.4234627   | \n",
       "| c | 0.004011064 |  1          | 0.05548748  | 0.8149777   | \n",
       "| d | 0.001472946 |  1          | 0.02037615  | 0.8872082   | \n",
       "| e | 0.032360810 |  1          | 0.44766673  | 0.5072886   | \n",
       "| f | 0.095844071 |  1          | 1.32586922  | 0.2563778   | \n",
       "| g | 0.030206570 |  1          | 0.41786583  | 0.5216958   | \n",
       "| h | 0.070451728 |  1          | 0.97460152  | 0.3294696   | \n",
       "| i | 0.017519362 |  1          | 0.24235596  | 0.6252010   | \n",
       "| j | 0.070390758 |  1          | 0.97375809  | 0.3296764   | \n",
       "| Residuals | 2.891509044 | 40          |         NA  |        NA   | \n",
       "\n",
       "\n"
      ],
      "text/plain": [
       "          Sum Sq      Df F value    Pr(>F)   \n",
       "b         0.047277734  1 0.65402159 0.4234627\n",
       "c         0.004011064  1 0.05548748 0.8149777\n",
       "d         0.001472946  1 0.02037615 0.8872082\n",
       "e         0.032360810  1 0.44766673 0.5072886\n",
       "f         0.095844071  1 1.32586922 0.2563778\n",
       "g         0.030206570  1 0.41786583 0.5216958\n",
       "h         0.070451728  1 0.97460152 0.3294696\n",
       "i         0.017519362  1 0.24235596 0.6252010\n",
       "j         0.070390758  1 0.97375809 0.3296764\n",
       "Residuals 2.891509044 40         NA        NA"
      ]
     },
     "metadata": {},
     "output_type": "display_data"
    },
    {
     "data": {
      "text/plain": [
       "\n",
       "Call:\n",
       "lm(formula = response ~ b + c + d + e + f + g + h + i + j, data = train[101:150, \n",
       "    ])\n",
       "\n",
       "Residuals:\n",
       "     Min       1Q   Median       3Q      Max \n",
       "-0.63853 -0.18126  0.00428  0.12913  0.69645 \n",
       "\n",
       "Coefficients:\n",
       "            Estimate Std. Error t value Pr(>|t|)    \n",
       "(Intercept)  1.53762    0.04216  36.468   <2e-16 ***\n",
       "b            0.11777    0.14562   0.809    0.423    \n",
       "c            0.04416    0.18747   0.236    0.815    \n",
       "d            0.02323    0.16271   0.143    0.887    \n",
       "e           -0.10942    0.16353  -0.669    0.507    \n",
       "f           -0.20184    0.17529  -1.151    0.256    \n",
       "g           -0.10575    0.16360  -0.646    0.522    \n",
       "h            0.14760    0.14951   0.987    0.329    \n",
       "i           -0.08715    0.17703  -0.492    0.625    \n",
       "j           -0.12276    0.12440  -0.987    0.330    \n",
       "---\n",
       "Signif. codes:  0 '***' 0.001 '**' 0.01 '*' 0.05 '.' 0.1 ' ' 1\n",
       "\n",
       "Residual standard error: 0.2689 on 40 degrees of freedom\n",
       "Multiple R-squared:  0.132,\tAdjusted R-squared:  -0.06328 \n",
       "F-statistic: 0.676 on 9 and 40 DF,  p-value: 0.7256\n"
      ]
     },
     "metadata": {},
     "output_type": "display_data"
    },
    {
     "data": {
      "image/png": "[encoded data removed]",
      "text/plain": [
       "Plot with title \"Histogram of model3$residuals\""
      ]
     },
     "metadata": {},
     "output_type": "display_data"
    },
    {
     "data": {
      "image/png": "[encoded data removed]",
      "text/plain": [
       "Plot with title \"Normal Q-Q Plot\""
      ]
     },
     "metadata": {},
     "output_type": "display_data"
    }
   ],
   "source": [
    "# model3 = lm(log(response) ~ as.factor(a) + f + index, data=train)\n",
    "model3 = lm(response ~ b + c + d + e + f + g + h + i + j, data=train[101:150,])\n",
    "anova(model3)\n",
    "Anova(model3)\n",
    "summary(model3)\n",
    "\n",
    "hist(model3$residuals)\n",
    "qqnorm(model3$residuals)\n",
    "qqline(model3$residuals)"
   ]
  },
  {
   "cell_type": "code",
   "execution_count": 11,
   "metadata": {
    "collapsed": true
   },
   "outputs": [
    {
     "name": "stderr",
     "output_type": "stream",
     "text": [
      "Warning message in cor(train[101:150, ]):\n",
      "\"the standard deviation is zero\""
     ]
    },
    {
     "data": {
      "text/html": [
       "<table>\n",
       "<thead><tr><th></th><th scope=col>a</th><th scope=col>b</th><th scope=col>c</th><th scope=col>d</th><th scope=col>e</th><th scope=col>f</th><th scope=col>g</th><th scope=col>h</th><th scope=col>i</th><th scope=col>j</th><th scope=col>response</th><th scope=col>index</th></tr></thead>\n",
       "<tbody>\n",
       "\t<tr><th scope=row>a</th><td> 1          </td><td>         NA </td><td>         NA </td><td>         NA </td><td>          NA</td><td>         NA </td><td>         NA </td><td>         NA </td><td>         NA </td><td>         NA </td><td>         NA </td><td>          NA</td></tr>\n",
       "\t<tr><th scope=row>b</th><td>NA          </td><td> 1.00000000 </td><td> 0.11744845 </td><td> 0.07919680 </td><td>-0.170696571</td><td> 0.11584737 </td><td>-0.07908339 </td><td>-0.01988695 </td><td>-0.03686729 </td><td>-0.06979436 </td><td> 0.14818853 </td><td> 0.135394209</td></tr>\n",
       "\t<tr><th scope=row>c</th><td>NA          </td><td> 0.11744845 </td><td> 1.00000000 </td><td>-0.06818489 </td><td> 0.046593460</td><td>-0.15341033 </td><td> 0.14385905 </td><td> 0.08756695 </td><td>-0.18956754 </td><td>-0.16186187 </td><td> 0.11321983 </td><td>-0.049469538</td></tr>\n",
       "\t<tr><th scope=row>d</th><td>NA          </td><td> 0.07919680 </td><td>-0.06818489 </td><td> 1.00000000 </td><td>-0.046881604</td><td>-0.06588092 </td><td>-0.07311564 </td><td> 0.05394851 </td><td>-0.20921222 </td><td>-0.09659448 </td><td> 0.09399954 </td><td>-0.062867247</td></tr>\n",
       "\t<tr><th scope=row>e</th><td>NA          </td><td>-0.17069657 </td><td> 0.04659346 </td><td>-0.04688160 </td><td> 1.000000000</td><td> 0.11200672 </td><td>-0.02053551 </td><td> 0.43711485 </td><td> 0.10990023 </td><td> 0.17515905 </td><td>-0.11606487 </td><td>-0.007581967</td></tr>\n",
       "\t<tr><th scope=row>f</th><td>NA          </td><td> 0.11584737 </td><td>-0.15341033 </td><td>-0.06588092 </td><td> 0.112006716</td><td> 1.00000000 </td><td>-0.05982178 </td><td> 0.14262101 </td><td> 0.07226051 </td><td>-0.04060933 </td><td>-0.15337684 </td><td>-0.068917122</td></tr>\n",
       "\t<tr><th scope=row>g</th><td>NA          </td><td>-0.07908339 </td><td> 0.14385905 </td><td>-0.07311564 </td><td>-0.020535511</td><td>-0.05982178 </td><td> 1.00000000 </td><td> 0.04523206 </td><td> 0.16296495 </td><td> 0.07713795 </td><td>-0.10948661 </td><td>-0.149461193</td></tr>\n",
       "\t<tr><th scope=row>h</th><td>NA          </td><td>-0.01988695 </td><td> 0.08756695 </td><td> 0.05394851 </td><td> 0.437114850</td><td> 0.14262101 </td><td> 0.04523206 </td><td> 1.00000000 </td><td> 0.14376126 </td><td>-0.02426599 </td><td> 0.08114309 </td><td> 0.139589053</td></tr>\n",
       "\t<tr><th scope=row>i</th><td>NA          </td><td>-0.03686729 </td><td>-0.18956754 </td><td>-0.20921222 </td><td> 0.109900234</td><td> 0.07226051 </td><td> 0.16296495 </td><td> 0.14376126 </td><td> 1.00000000 </td><td> 0.13753754 </td><td>-0.13399173 </td><td>-0.229872867</td></tr>\n",
       "\t<tr><th scope=row>j</th><td>NA          </td><td>-0.06979436 </td><td>-0.16186187 </td><td>-0.09659448 </td><td> 0.175159047</td><td>-0.04060933 </td><td> 0.07713795 </td><td>-0.02426599 </td><td> 0.13753754 </td><td> 1.00000000 </td><td>-0.20569261 </td><td>-0.048751057</td></tr>\n",
       "\t<tr><th scope=row>response</th><td>NA          </td><td> 0.14818853 </td><td> 0.11321983 </td><td> 0.09399954 </td><td>-0.116064867</td><td>-0.15337684 </td><td>-0.10948661 </td><td> 0.08114309 </td><td>-0.13399173 </td><td>-0.20569261 </td><td> 1.00000000 </td><td> 0.488249073</td></tr>\n",
       "\t<tr><th scope=row>index</th><td>NA          </td><td> 0.13539421 </td><td>-0.04946954 </td><td>-0.06286725 </td><td>-0.007581967</td><td>-0.06891712 </td><td>-0.14946119 </td><td> 0.13958905 </td><td>-0.22987287 </td><td>-0.04875106 </td><td> 0.48824907 </td><td> 1.000000000</td></tr>\n",
       "</tbody>\n",
       "</table>\n"
      ],
      "text/latex": [
       "\\begin{tabular}{r|llllllllllll}\n",
       "  & a & b & c & d & e & f & g & h & i & j & response & index\\\\\n",
       "\\hline\n",
       "\ta &  1           &          NA  &          NA  &          NA  &           NA &          NA  &          NA  &          NA  &          NA  &          NA  &          NA  &           NA\\\\\n",
       "\tb & NA           &  1.00000000  &  0.11744845  &  0.07919680  & -0.170696571 &  0.11584737  & -0.07908339  & -0.01988695  & -0.03686729  & -0.06979436  &  0.14818853  &  0.135394209\\\\\n",
       "\tc & NA           &  0.11744845  &  1.00000000  & -0.06818489  &  0.046593460 & -0.15341033  &  0.14385905  &  0.08756695  & -0.18956754  & -0.16186187  &  0.11321983  & -0.049469538\\\\\n",
       "\td & NA           &  0.07919680  & -0.06818489  &  1.00000000  & -0.046881604 & -0.06588092  & -0.07311564  &  0.05394851  & -0.20921222  & -0.09659448  &  0.09399954  & -0.062867247\\\\\n",
       "\te & NA           & -0.17069657  &  0.04659346  & -0.04688160  &  1.000000000 &  0.11200672  & -0.02053551  &  0.43711485  &  0.10990023  &  0.17515905  & -0.11606487  & -0.007581967\\\\\n",
       "\tf & NA           &  0.11584737  & -0.15341033  & -0.06588092  &  0.112006716 &  1.00000000  & -0.05982178  &  0.14262101  &  0.07226051  & -0.04060933  & -0.15337684  & -0.068917122\\\\\n",
       "\tg & NA           & -0.07908339  &  0.14385905  & -0.07311564  & -0.020535511 & -0.05982178  &  1.00000000  &  0.04523206  &  0.16296495  &  0.07713795  & -0.10948661  & -0.149461193\\\\\n",
       "\th & NA           & -0.01988695  &  0.08756695  &  0.05394851  &  0.437114850 &  0.14262101  &  0.04523206  &  1.00000000  &  0.14376126  & -0.02426599  &  0.08114309  &  0.139589053\\\\\n",
       "\ti & NA           & -0.03686729  & -0.18956754  & -0.20921222  &  0.109900234 &  0.07226051  &  0.16296495  &  0.14376126  &  1.00000000  &  0.13753754  & -0.13399173  & -0.229872867\\\\\n",
       "\tj & NA           & -0.06979436  & -0.16186187  & -0.09659448  &  0.175159047 & -0.04060933  &  0.07713795  & -0.02426599  &  0.13753754  &  1.00000000  & -0.20569261  & -0.048751057\\\\\n",
       "\tresponse & NA           &  0.14818853  &  0.11321983  &  0.09399954  & -0.116064867 & -0.15337684  & -0.10948661  &  0.08114309  & -0.13399173  & -0.20569261  &  1.00000000  &  0.488249073\\\\\n",
       "\tindex & NA           &  0.13539421  & -0.04946954  & -0.06286725  & -0.007581967 & -0.06891712  & -0.14946119  &  0.13958905  & -0.22987287  & -0.04875106  &  0.48824907  &  1.000000000\\\\\n",
       "\\end{tabular}\n"
      ],
      "text/markdown": [
       "\n",
       "| <!--/--> | a | b | c | d | e | f | g | h | i | j | response | index | \n",
       "|---|---|---|---|---|---|---|---|---|---|---|---|\n",
       "| a |  1           |          NA  |          NA  |          NA  |           NA |          NA  |          NA  |          NA  |          NA  |          NA  |          NA  |           NA | \n",
       "| b | NA           |  1.00000000  |  0.11744845  |  0.07919680  | -0.170696571 |  0.11584737  | -0.07908339  | -0.01988695  | -0.03686729  | -0.06979436  |  0.14818853  |  0.135394209 | \n",
       "| c | NA           |  0.11744845  |  1.00000000  | -0.06818489  |  0.046593460 | -0.15341033  |  0.14385905  |  0.08756695  | -0.18956754  | -0.16186187  |  0.11321983  | -0.049469538 | \n",
       "| d | NA           |  0.07919680  | -0.06818489  |  1.00000000  | -0.046881604 | -0.06588092  | -0.07311564  |  0.05394851  | -0.20921222  | -0.09659448  |  0.09399954  | -0.062867247 | \n",
       "| e | NA           | -0.17069657  |  0.04659346  | -0.04688160  |  1.000000000 |  0.11200672  | -0.02053551  |  0.43711485  |  0.10990023  |  0.17515905  | -0.11606487  | -0.007581967 | \n",
       "| f | NA           |  0.11584737  | -0.15341033  | -0.06588092  |  0.112006716 |  1.00000000  | -0.05982178  |  0.14262101  |  0.07226051  | -0.04060933  | -0.15337684  | -0.068917122 | \n",
       "| g | NA           | -0.07908339  |  0.14385905  | -0.07311564  | -0.020535511 | -0.05982178  |  1.00000000  |  0.04523206  |  0.16296495  |  0.07713795  | -0.10948661  | -0.149461193 | \n",
       "| h | NA           | -0.01988695  |  0.08756695  |  0.05394851  |  0.437114850 |  0.14262101  |  0.04523206  |  1.00000000  |  0.14376126  | -0.02426599  |  0.08114309  |  0.139589053 | \n",
       "| i | NA           | -0.03686729  | -0.18956754  | -0.20921222  |  0.109900234 |  0.07226051  |  0.16296495  |  0.14376126  |  1.00000000  |  0.13753754  | -0.13399173  | -0.229872867 | \n",
       "| j | NA           | -0.06979436  | -0.16186187  | -0.09659448  |  0.175159047 | -0.04060933  |  0.07713795  | -0.02426599  |  0.13753754  |  1.00000000  | -0.20569261  | -0.048751057 | \n",
       "| response | NA           |  0.14818853  |  0.11321983  |  0.09399954  | -0.116064867 | -0.15337684  | -0.10948661  |  0.08114309  | -0.13399173  | -0.20569261  |  1.00000000  |  0.488249073 | \n",
       "| index | NA           |  0.13539421  | -0.04946954  | -0.06286725  | -0.007581967 | -0.06891712  | -0.14946119  |  0.13958905  | -0.22987287  | -0.04875106  |  0.48824907  |  1.000000000 | \n",
       "\n",
       "\n"
      ],
      "text/plain": [
       "         a  b           c           d           e            f          \n",
       "a         1          NA          NA          NA           NA          NA\n",
       "b        NA  1.00000000  0.11744845  0.07919680 -0.170696571  0.11584737\n",
       "c        NA  0.11744845  1.00000000 -0.06818489  0.046593460 -0.15341033\n",
       "d        NA  0.07919680 -0.06818489  1.00000000 -0.046881604 -0.06588092\n",
       "e        NA -0.17069657  0.04659346 -0.04688160  1.000000000  0.11200672\n",
       "f        NA  0.11584737 -0.15341033 -0.06588092  0.112006716  1.00000000\n",
       "g        NA -0.07908339  0.14385905 -0.07311564 -0.020535511 -0.05982178\n",
       "h        NA -0.01988695  0.08756695  0.05394851  0.437114850  0.14262101\n",
       "i        NA -0.03686729 -0.18956754 -0.20921222  0.109900234  0.07226051\n",
       "j        NA -0.06979436 -0.16186187 -0.09659448  0.175159047 -0.04060933\n",
       "response NA  0.14818853  0.11321983  0.09399954 -0.116064867 -0.15337684\n",
       "index    NA  0.13539421 -0.04946954 -0.06286725 -0.007581967 -0.06891712\n",
       "         g           h           i           j           response   \n",
       "a                 NA          NA          NA          NA          NA\n",
       "b        -0.07908339 -0.01988695 -0.03686729 -0.06979436  0.14818853\n",
       "c         0.14385905  0.08756695 -0.18956754 -0.16186187  0.11321983\n",
       "d        -0.07311564  0.05394851 -0.20921222 -0.09659448  0.09399954\n",
       "e        -0.02053551  0.43711485  0.10990023  0.17515905 -0.11606487\n",
       "f        -0.05982178  0.14262101  0.07226051 -0.04060933 -0.15337684\n",
       "g         1.00000000  0.04523206  0.16296495  0.07713795 -0.10948661\n",
       "h         0.04523206  1.00000000  0.14376126 -0.02426599  0.08114309\n",
       "i         0.16296495  0.14376126  1.00000000  0.13753754 -0.13399173\n",
       "j         0.07713795 -0.02426599  0.13753754  1.00000000 -0.20569261\n",
       "response -0.10948661  0.08114309 -0.13399173 -0.20569261  1.00000000\n",
       "index    -0.14946119  0.13958905 -0.22987287 -0.04875106  0.48824907\n",
       "         index       \n",
       "a                  NA\n",
       "b         0.135394209\n",
       "c        -0.049469538\n",
       "d        -0.062867247\n",
       "e        -0.007581967\n",
       "f        -0.068917122\n",
       "g        -0.149461193\n",
       "h         0.139589053\n",
       "i        -0.229872867\n",
       "j        -0.048751057\n",
       "response  0.488249073\n",
       "index     1.000000000"
      ]
     },
     "metadata": {},
     "output_type": "display_data"
    }
   ],
   "source": [
    "cor(train[101:150,])"
   ]
  },
  {
   "cell_type": "code",
   "execution_count": 12,
   "metadata": {
    "collapsed": true
   },
   "outputs": [
    {
     "data": {
      "text/html": [
       "<table>\n",
       "<thead><tr><th></th><th scope=col>Df</th><th scope=col>Sum Sq</th><th scope=col>Mean Sq</th><th scope=col>F value</th><th scope=col>Pr(&gt;F)</th></tr></thead>\n",
       "<tbody>\n",
       "\t<tr><th scope=row>b</th><td> 1         </td><td>0.07315454 </td><td>0.07315454 </td><td> 1.3169759 </td><td>0.257630552</td></tr>\n",
       "\t<tr><th scope=row>e</th><td> 1         </td><td>0.02827061 </td><td>0.02827061 </td><td> 0.5089459 </td><td>0.479541063</td></tr>\n",
       "\t<tr><th scope=row>f</th><td> 1         </td><td>0.08609296 </td><td>0.08609296 </td><td> 1.5499018 </td><td>0.220051742</td></tr>\n",
       "\t<tr><th scope=row>g</th><td> 1         </td><td>0.03957605 </td><td>0.03957605 </td><td> 0.7124739 </td><td>0.403406013</td></tr>\n",
       "\t<tr><th scope=row>i</th><td> 1         </td><td>0.02848251 </td><td>0.02848251 </td><td> 0.5127608 </td><td>0.477908853</td></tr>\n",
       "\t<tr><th scope=row>j</th><td> 1         </td><td>0.10238502 </td><td>0.10238502 </td><td> 1.8432021 </td><td>0.181826246</td></tr>\n",
       "\t<tr><th scope=row>index</th><td> 1         </td><td>0.64033663 </td><td>0.64033663 </td><td>11.5277589 </td><td>0.001508499</td></tr>\n",
       "\t<tr><th scope=row>Residuals</th><td>42         </td><td>2.33298932 </td><td>0.05554736 </td><td>        NA </td><td>         NA</td></tr>\n",
       "</tbody>\n",
       "</table>\n"
      ],
      "text/latex": [
       "\\begin{tabular}{r|lllll}\n",
       "  & Df & Sum Sq & Mean Sq & F value & Pr(>F)\\\\\n",
       "\\hline\n",
       "\tb &  1          & 0.07315454  & 0.07315454  &  1.3169759  & 0.257630552\\\\\n",
       "\te &  1          & 0.02827061  & 0.02827061  &  0.5089459  & 0.479541063\\\\\n",
       "\tf &  1          & 0.08609296  & 0.08609296  &  1.5499018  & 0.220051742\\\\\n",
       "\tg &  1          & 0.03957605  & 0.03957605  &  0.7124739  & 0.403406013\\\\\n",
       "\ti &  1          & 0.02848251  & 0.02848251  &  0.5127608  & 0.477908853\\\\\n",
       "\tj &  1          & 0.10238502  & 0.10238502  &  1.8432021  & 0.181826246\\\\\n",
       "\tindex &  1          & 0.64033663  & 0.64033663  & 11.5277589  & 0.001508499\\\\\n",
       "\tResiduals & 42          & 2.33298932  & 0.05554736  &         NA  &          NA\\\\\n",
       "\\end{tabular}\n"
      ],
      "text/markdown": [
       "\n",
       "| <!--/--> | Df | Sum Sq | Mean Sq | F value | Pr(>F) | \n",
       "|---|---|---|---|---|---|---|---|\n",
       "| b |  1          | 0.07315454  | 0.07315454  |  1.3169759  | 0.257630552 | \n",
       "| e |  1          | 0.02827061  | 0.02827061  |  0.5089459  | 0.479541063 | \n",
       "| f |  1          | 0.08609296  | 0.08609296  |  1.5499018  | 0.220051742 | \n",
       "| g |  1          | 0.03957605  | 0.03957605  |  0.7124739  | 0.403406013 | \n",
       "| i |  1          | 0.02848251  | 0.02848251  |  0.5127608  | 0.477908853 | \n",
       "| j |  1          | 0.10238502  | 0.10238502  |  1.8432021  | 0.181826246 | \n",
       "| index |  1          | 0.64033663  | 0.64033663  | 11.5277589  | 0.001508499 | \n",
       "| Residuals | 42          | 2.33298932  | 0.05554736  |         NA  |          NA | \n",
       "\n",
       "\n"
      ],
      "text/plain": [
       "          Df Sum Sq     Mean Sq    F value    Pr(>F)     \n",
       "b          1 0.07315454 0.07315454  1.3169759 0.257630552\n",
       "e          1 0.02827061 0.02827061  0.5089459 0.479541063\n",
       "f          1 0.08609296 0.08609296  1.5499018 0.220051742\n",
       "g          1 0.03957605 0.03957605  0.7124739 0.403406013\n",
       "i          1 0.02848251 0.02848251  0.5127608 0.477908853\n",
       "j          1 0.10238502 0.10238502  1.8432021 0.181826246\n",
       "index      1 0.64033663 0.64033663 11.5277589 0.001508499\n",
       "Residuals 42 2.33298932 0.05554736         NA          NA"
      ]
     },
     "metadata": {},
     "output_type": "display_data"
    },
    {
     "data": {
      "text/html": [
       "<table>\n",
       "<thead><tr><th></th><th scope=col>Sum Sq</th><th scope=col>Df</th><th scope=col>F value</th><th scope=col>Pr(&gt;F)</th></tr></thead>\n",
       "<tbody>\n",
       "\t<tr><th scope=row>b</th><td>0.018788764</td><td> 1         </td><td> 0.33824761</td><td>0.563951137</td></tr>\n",
       "\t<tr><th scope=row>e</th><td>0.009778301</td><td> 1         </td><td> 0.17603538</td><td>0.676941175</td></tr>\n",
       "\t<tr><th scope=row>f</th><td>0.057678418</td><td> 1         </td><td> 1.03836462</td><td>0.314036242</td></tr>\n",
       "\t<tr><th scope=row>g</th><td>0.003602261</td><td> 1         </td><td> 0.06485026</td><td>0.800230706</td></tr>\n",
       "\t<tr><th scope=row>i</th><td>0.001173758</td><td> 1         </td><td> 0.02113076</td><td>0.885118690</td></tr>\n",
       "\t<tr><th scope=row>j</th><td>0.094955639</td><td> 1         </td><td> 1.70945353</td><td>0.198168627</td></tr>\n",
       "\t<tr><th scope=row>index</th><td>0.640336627</td><td> 1         </td><td>11.52775888</td><td>0.001508499</td></tr>\n",
       "\t<tr><th scope=row>Residuals</th><td>2.332989316</td><td>42         </td><td>         NA</td><td>         NA</td></tr>\n",
       "</tbody>\n",
       "</table>\n"
      ],
      "text/latex": [
       "\\begin{tabular}{r|llll}\n",
       "  & Sum Sq & Df & F value & Pr(>F)\\\\\n",
       "\\hline\n",
       "\tb & 0.018788764 &  1          &  0.33824761 & 0.563951137\\\\\n",
       "\te & 0.009778301 &  1          &  0.17603538 & 0.676941175\\\\\n",
       "\tf & 0.057678418 &  1          &  1.03836462 & 0.314036242\\\\\n",
       "\tg & 0.003602261 &  1          &  0.06485026 & 0.800230706\\\\\n",
       "\ti & 0.001173758 &  1          &  0.02113076 & 0.885118690\\\\\n",
       "\tj & 0.094955639 &  1          &  1.70945353 & 0.198168627\\\\\n",
       "\tindex & 0.640336627 &  1          & 11.52775888 & 0.001508499\\\\\n",
       "\tResiduals & 2.332989316 & 42          &          NA &          NA\\\\\n",
       "\\end{tabular}\n"
      ],
      "text/markdown": [
       "\n",
       "| <!--/--> | Sum Sq | Df | F value | Pr(>F) | \n",
       "|---|---|---|---|---|---|---|---|\n",
       "| b | 0.018788764 |  1          |  0.33824761 | 0.563951137 | \n",
       "| e | 0.009778301 |  1          |  0.17603538 | 0.676941175 | \n",
       "| f | 0.057678418 |  1          |  1.03836462 | 0.314036242 | \n",
       "| g | 0.003602261 |  1          |  0.06485026 | 0.800230706 | \n",
       "| i | 0.001173758 |  1          |  0.02113076 | 0.885118690 | \n",
       "| j | 0.094955639 |  1          |  1.70945353 | 0.198168627 | \n",
       "| index | 0.640336627 |  1          | 11.52775888 | 0.001508499 | \n",
       "| Residuals | 2.332989316 | 42          |          NA |          NA | \n",
       "\n",
       "\n"
      ],
      "text/plain": [
       "          Sum Sq      Df F value     Pr(>F)     \n",
       "b         0.018788764  1  0.33824761 0.563951137\n",
       "e         0.009778301  1  0.17603538 0.676941175\n",
       "f         0.057678418  1  1.03836462 0.314036242\n",
       "g         0.003602261  1  0.06485026 0.800230706\n",
       "i         0.001173758  1  0.02113076 0.885118690\n",
       "j         0.094955639  1  1.70945353 0.198168627\n",
       "index     0.640336627  1 11.52775888 0.001508499\n",
       "Residuals 2.332989316 42          NA          NA"
      ]
     },
     "metadata": {},
     "output_type": "display_data"
    },
    {
     "data": {
      "text/plain": [
       "\n",
       "Call:\n",
       "lm(formula = response ~ b + e + f + g + i + j + index, data = train[101:150, \n",
       "    ])\n",
       "\n",
       "Residuals:\n",
       "     Min       1Q   Median       3Q      Max \n",
       "-0.60915 -0.11979 -0.01701  0.14695  0.49908 \n",
       "\n",
       "Coefficients:\n",
       "             Estimate Std. Error t value Pr(>|t|)   \n",
       "(Intercept)  0.516929   0.305260   1.693  0.09778 . \n",
       "b            0.073558   0.126477   0.582  0.56395   \n",
       "e           -0.053851   0.128350  -0.420  0.67694   \n",
       "f           -0.153063   0.150208  -1.019  0.31404   \n",
       "g           -0.035951   0.141173  -0.255  0.80023   \n",
       "i            0.021839   0.150236   0.145  0.88512   \n",
       "j           -0.139056   0.106355  -1.307  0.19817   \n",
       "index        0.008210   0.002418   3.395  0.00151 **\n",
       "---\n",
       "Signif. codes:  0 '***' 0.001 '**' 0.01 '*' 0.05 '.' 0.1 ' ' 1\n",
       "\n",
       "Residual standard error: 0.2357 on 42 degrees of freedom\n",
       "Multiple R-squared:  0.2997,\tAdjusted R-squared:  0.183 \n",
       "F-statistic: 2.567 on 7 and 42 DF,  p-value: 0.02691\n"
      ]
     },
     "metadata": {},
     "output_type": "display_data"
    },
    {
     "data": {
      "image/png": "[encoded data removed]",
      "text/plain": [
       "Plot with title \"Histogram of model4$residuals\""
      ]
     },
     "metadata": {},
     "output_type": "display_data"
    },
    {
     "data": {
      "image/png": "[encoded data removed]",
      "text/plain": [
       "Plot with title \"Normal Q-Q Plot\""
      ]
     },
     "metadata": {},
     "output_type": "display_data"
    }
   ],
   "source": [
    "model4 = lm(response ~ b + e + f + g + i + j + index, data=train[101:150,])\n",
    "anova(model4)\n",
    "Anova(model4)\n",
    "summary(model4)\n",
    "\n",
    "hist(model4$residuals)\n",
    "qqnorm(model4$residuals)\n",
    "qqline(model4$residuals)"
   ]
  },
  {
   "cell_type": "code",
   "execution_count": 13,
   "metadata": {
    "collapsed": true
   },
   "outputs": [
    {
     "data": {
      "text/html": [
       "<table>\n",
       "<thead><tr><th></th><th scope=col>Df</th><th scope=col>Sum Sq</th><th scope=col>Mean Sq</th><th scope=col>F value</th><th scope=col>Pr(&gt;F)</th></tr></thead>\n",
       "<tbody>\n",
       "\t<tr><th scope=row>index</th><td> 1          </td><td>0.7941362   </td><td>0.79413619  </td><td>15.02415    </td><td>0.0003218314</td></tr>\n",
       "\t<tr><th scope=row>Residuals</th><td>48          </td><td>2.5371514   </td><td>0.05285732  </td><td>      NA    </td><td>          NA</td></tr>\n",
       "</tbody>\n",
       "</table>\n"
      ],
      "text/latex": [
       "\\begin{tabular}{r|lllll}\n",
       "  & Df & Sum Sq & Mean Sq & F value & Pr(>F)\\\\\n",
       "\\hline\n",
       "\tindex &  1           & 0.7941362    & 0.79413619   & 15.02415     & 0.0003218314\\\\\n",
       "\tResiduals & 48           & 2.5371514    & 0.05285732   &       NA     &           NA\\\\\n",
       "\\end{tabular}\n"
      ],
      "text/markdown": [
       "\n",
       "| <!--/--> | Df | Sum Sq | Mean Sq | F value | Pr(>F) | \n",
       "|---|---|\n",
       "| index |  1           | 0.7941362    | 0.79413619   | 15.02415     | 0.0003218314 | \n",
       "| Residuals | 48           | 2.5371514    | 0.05285732   |       NA     |           NA | \n",
       "\n",
       "\n"
      ],
      "text/plain": [
       "          Df Sum Sq    Mean Sq    F value  Pr(>F)      \n",
       "index      1 0.7941362 0.79413619 15.02415 0.0003218314\n",
       "Residuals 48 2.5371514 0.05285732       NA           NA"
      ]
     },
     "metadata": {},
     "output_type": "display_data"
    },
    {
     "data": {
      "text/html": [
       "<table>\n",
       "<thead><tr><th></th><th scope=col>Sum Sq</th><th scope=col>Df</th><th scope=col>F value</th><th scope=col>Pr(&gt;F)</th></tr></thead>\n",
       "<tbody>\n",
       "\t<tr><th scope=row>index</th><td>0.7941362   </td><td> 1          </td><td>15.02415    </td><td>0.0003218314</td></tr>\n",
       "\t<tr><th scope=row>Residuals</th><td>2.5371514   </td><td>48          </td><td>      NA    </td><td>          NA</td></tr>\n",
       "</tbody>\n",
       "</table>\n"
      ],
      "text/latex": [
       "\\begin{tabular}{r|llll}\n",
       "  & Sum Sq & Df & F value & Pr(>F)\\\\\n",
       "\\hline\n",
       "\tindex & 0.7941362    &  1           & 15.02415     & 0.0003218314\\\\\n",
       "\tResiduals & 2.5371514    & 48           &       NA     &           NA\\\\\n",
       "\\end{tabular}\n"
      ],
      "text/markdown": [
       "\n",
       "| <!--/--> | Sum Sq | Df | F value | Pr(>F) | \n",
       "|---|---|\n",
       "| index | 0.7941362    |  1           | 15.02415     | 0.0003218314 | \n",
       "| Residuals | 2.5371514    | 48           |       NA     |           NA | \n",
       "\n",
       "\n"
      ],
      "text/plain": [
       "          Sum Sq    Df F value  Pr(>F)      \n",
       "index     0.7941362  1 15.02415 0.0003218314\n",
       "Residuals 2.5371514 48       NA           NA"
      ]
     },
     "metadata": {},
     "output_type": "display_data"
    },
    {
     "data": {
      "text/plain": [
       "\n",
       "Call:\n",
       "lm(formula = response ~ index, data = train[101:150, ])\n",
       "\n",
       "Residuals:\n",
       "     Min       1Q   Median       3Q      Max \n",
       "-0.55813 -0.15646  0.00736  0.14965  0.52252 \n",
       "\n",
       "Coefficients:\n",
       "            Estimate Std. Error t value Pr(>|t|)    \n",
       "(Intercept) 0.444894   0.284624   1.563 0.124600    \n",
       "index       0.008733   0.002253   3.876 0.000322 ***\n",
       "---\n",
       "Signif. codes:  0 '***' 0.001 '**' 0.01 '*' 0.05 '.' 0.1 ' ' 1\n",
       "\n",
       "Residual standard error: 0.2299 on 48 degrees of freedom\n",
       "Multiple R-squared:  0.2384,\tAdjusted R-squared:  0.2225 \n",
       "F-statistic: 15.02 on 1 and 48 DF,  p-value: 0.0003218\n"
      ]
     },
     "metadata": {},
     "output_type": "display_data"
    },
    {
     "data": {
      "image/png": "[encoded data removed]",
      "text/plain": [
       "Plot with title \"Histogram of model5$residuals\""
      ]
     },
     "metadata": {},
     "output_type": "display_data"
    },
    {
     "data": {
      "image/png": "[encoded data removed]",
      "text/plain": [
       "Plot with title \"Normal Q-Q Plot\""
      ]
     },
     "metadata": {},
     "output_type": "display_data"
    }
   ],
   "source": [
    "model5 = lm(response ~ index, data=train[101:150,])\n",
    "anova(model5)\n",
    "Anova(model5)\n",
    "summary(model5)\n",
    "\n",
    "hist(model5$residuals)\n",
    "qqnorm(model5$residuals)\n",
    "qqline(model5$residuals)"
   ]
  },
  {
   "cell_type": "code",
   "execution_count": 14,
   "metadata": {
    "collapsed": true
   },
   "outputs": [],
   "source": [
    "train_subset = train[101:150,]"
   ]
  },
  {
   "cell_type": "code",
   "execution_count": 25,
   "metadata": {
    "collapsed": true
   },
   "outputs": [
    {
     "data": {
      "image/png": "[encoded data removed]",
      "text/plain": [
       "Plot with title \"response vs index\""
      ]
     },
     "metadata": {},
     "output_type": "display_data"
    }
   ],
   "source": [
    "plot((train_subset$index), (train_subset$response), sub=\"Parth Doshi\", main=\"response vs index\")\n",
    "# plot(response ~ b*c*d*e*f*g*h*i*j, data=train_subset)\n",
    "# plot((train_subset$b), (train_subset$response))\n",
    "# plot((train_subset$c), (train_subset$response))\n",
    "# plot((train_subset$d), (train_subset$response))\n",
    "# plot((train_subset$e), (train_subset$response))\n",
    "# plot((train_subset$f), (train_subset$response))\n",
    "# plot((train_subset$g), (train_subset$response))\n",
    "# plot((train_subset$h), (train_subset$response))\n",
    "# plot((train_subset$i), (train_subset$response))\n",
    "# plot((train_subset$j), (train_subset$response))"
   ]
  },
  {
   "cell_type": "code",
   "execution_count": 16,
   "metadata": {
    "collapsed": true
   },
   "outputs": [
    {
     "name": "stderr",
     "output_type": "stream",
     "text": [
      "Warning message in cor(train_subset):\n",
      "\"the standard deviation is zero\""
     ]
    },
    {
     "data": {
      "text/html": [
       "<table>\n",
       "<thead><tr><th></th><th scope=col>a</th><th scope=col>b</th><th scope=col>c</th><th scope=col>d</th><th scope=col>e</th><th scope=col>f</th><th scope=col>g</th><th scope=col>h</th><th scope=col>i</th><th scope=col>j</th><th scope=col>response</th><th scope=col>index</th></tr></thead>\n",
       "<tbody>\n",
       "\t<tr><th scope=row>a</th><td> 1          </td><td>         NA </td><td>         NA </td><td>         NA </td><td>          NA</td><td>         NA </td><td>         NA </td><td>         NA </td><td>         NA </td><td>         NA </td><td>         NA </td><td>          NA</td></tr>\n",
       "\t<tr><th scope=row>b</th><td>NA          </td><td> 1.00000000 </td><td> 0.11744845 </td><td> 0.07919680 </td><td>-0.170696571</td><td> 0.11584737 </td><td>-0.07908339 </td><td>-0.01988695 </td><td>-0.03686729 </td><td>-0.06979436 </td><td> 0.14818853 </td><td> 0.135394209</td></tr>\n",
       "\t<tr><th scope=row>c</th><td>NA          </td><td> 0.11744845 </td><td> 1.00000000 </td><td>-0.06818489 </td><td> 0.046593460</td><td>-0.15341033 </td><td> 0.14385905 </td><td> 0.08756695 </td><td>-0.18956754 </td><td>-0.16186187 </td><td> 0.11321983 </td><td>-0.049469538</td></tr>\n",
       "\t<tr><th scope=row>d</th><td>NA          </td><td> 0.07919680 </td><td>-0.06818489 </td><td> 1.00000000 </td><td>-0.046881604</td><td>-0.06588092 </td><td>-0.07311564 </td><td> 0.05394851 </td><td>-0.20921222 </td><td>-0.09659448 </td><td> 0.09399954 </td><td>-0.062867247</td></tr>\n",
       "\t<tr><th scope=row>e</th><td>NA          </td><td>-0.17069657 </td><td> 0.04659346 </td><td>-0.04688160 </td><td> 1.000000000</td><td> 0.11200672 </td><td>-0.02053551 </td><td> 0.43711485 </td><td> 0.10990023 </td><td> 0.17515905 </td><td>-0.11606487 </td><td>-0.007581967</td></tr>\n",
       "\t<tr><th scope=row>f</th><td>NA          </td><td> 0.11584737 </td><td>-0.15341033 </td><td>-0.06588092 </td><td> 0.112006716</td><td> 1.00000000 </td><td>-0.05982178 </td><td> 0.14262101 </td><td> 0.07226051 </td><td>-0.04060933 </td><td>-0.15337684 </td><td>-0.068917122</td></tr>\n",
       "\t<tr><th scope=row>g</th><td>NA          </td><td>-0.07908339 </td><td> 0.14385905 </td><td>-0.07311564 </td><td>-0.020535511</td><td>-0.05982178 </td><td> 1.00000000 </td><td> 0.04523206 </td><td> 0.16296495 </td><td> 0.07713795 </td><td>-0.10948661 </td><td>-0.149461193</td></tr>\n",
       "\t<tr><th scope=row>h</th><td>NA          </td><td>-0.01988695 </td><td> 0.08756695 </td><td> 0.05394851 </td><td> 0.437114850</td><td> 0.14262101 </td><td> 0.04523206 </td><td> 1.00000000 </td><td> 0.14376126 </td><td>-0.02426599 </td><td> 0.08114309 </td><td> 0.139589053</td></tr>\n",
       "\t<tr><th scope=row>i</th><td>NA          </td><td>-0.03686729 </td><td>-0.18956754 </td><td>-0.20921222 </td><td> 0.109900234</td><td> 0.07226051 </td><td> 0.16296495 </td><td> 0.14376126 </td><td> 1.00000000 </td><td> 0.13753754 </td><td>-0.13399173 </td><td>-0.229872867</td></tr>\n",
       "\t<tr><th scope=row>j</th><td>NA          </td><td>-0.06979436 </td><td>-0.16186187 </td><td>-0.09659448 </td><td> 0.175159047</td><td>-0.04060933 </td><td> 0.07713795 </td><td>-0.02426599 </td><td> 0.13753754 </td><td> 1.00000000 </td><td>-0.20569261 </td><td>-0.048751057</td></tr>\n",
       "\t<tr><th scope=row>response</th><td>NA          </td><td> 0.14818853 </td><td> 0.11321983 </td><td> 0.09399954 </td><td>-0.116064867</td><td>-0.15337684 </td><td>-0.10948661 </td><td> 0.08114309 </td><td>-0.13399173 </td><td>-0.20569261 </td><td> 1.00000000 </td><td> 0.488249073</td></tr>\n",
       "\t<tr><th scope=row>index</th><td>NA          </td><td> 0.13539421 </td><td>-0.04946954 </td><td>-0.06286725 </td><td>-0.007581967</td><td>-0.06891712 </td><td>-0.14946119 </td><td> 0.13958905 </td><td>-0.22987287 </td><td>-0.04875106 </td><td> 0.48824907 </td><td> 1.000000000</td></tr>\n",
       "</tbody>\n",
       "</table>\n"
      ],
      "text/latex": [
       "\\begin{tabular}{r|llllllllllll}\n",
       "  & a & b & c & d & e & f & g & h & i & j & response & index\\\\\n",
       "\\hline\n",
       "\ta &  1           &          NA  &          NA  &          NA  &           NA &          NA  &          NA  &          NA  &          NA  &          NA  &          NA  &           NA\\\\\n",
       "\tb & NA           &  1.00000000  &  0.11744845  &  0.07919680  & -0.170696571 &  0.11584737  & -0.07908339  & -0.01988695  & -0.03686729  & -0.06979436  &  0.14818853  &  0.135394209\\\\\n",
       "\tc & NA           &  0.11744845  &  1.00000000  & -0.06818489  &  0.046593460 & -0.15341033  &  0.14385905  &  0.08756695  & -0.18956754  & -0.16186187  &  0.11321983  & -0.049469538\\\\\n",
       "\td & NA           &  0.07919680  & -0.06818489  &  1.00000000  & -0.046881604 & -0.06588092  & -0.07311564  &  0.05394851  & -0.20921222  & -0.09659448  &  0.09399954  & -0.062867247\\\\\n",
       "\te & NA           & -0.17069657  &  0.04659346  & -0.04688160  &  1.000000000 &  0.11200672  & -0.02053551  &  0.43711485  &  0.10990023  &  0.17515905  & -0.11606487  & -0.007581967\\\\\n",
       "\tf & NA           &  0.11584737  & -0.15341033  & -0.06588092  &  0.112006716 &  1.00000000  & -0.05982178  &  0.14262101  &  0.07226051  & -0.04060933  & -0.15337684  & -0.068917122\\\\\n",
       "\tg & NA           & -0.07908339  &  0.14385905  & -0.07311564  & -0.020535511 & -0.05982178  &  1.00000000  &  0.04523206  &  0.16296495  &  0.07713795  & -0.10948661  & -0.149461193\\\\\n",
       "\th & NA           & -0.01988695  &  0.08756695  &  0.05394851  &  0.437114850 &  0.14262101  &  0.04523206  &  1.00000000  &  0.14376126  & -0.02426599  &  0.08114309  &  0.139589053\\\\\n",
       "\ti & NA           & -0.03686729  & -0.18956754  & -0.20921222  &  0.109900234 &  0.07226051  &  0.16296495  &  0.14376126  &  1.00000000  &  0.13753754  & -0.13399173  & -0.229872867\\\\\n",
       "\tj & NA           & -0.06979436  & -0.16186187  & -0.09659448  &  0.175159047 & -0.04060933  &  0.07713795  & -0.02426599  &  0.13753754  &  1.00000000  & -0.20569261  & -0.048751057\\\\\n",
       "\tresponse & NA           &  0.14818853  &  0.11321983  &  0.09399954  & -0.116064867 & -0.15337684  & -0.10948661  &  0.08114309  & -0.13399173  & -0.20569261  &  1.00000000  &  0.488249073\\\\\n",
       "\tindex & NA           &  0.13539421  & -0.04946954  & -0.06286725  & -0.007581967 & -0.06891712  & -0.14946119  &  0.13958905  & -0.22987287  & -0.04875106  &  0.48824907  &  1.000000000\\\\\n",
       "\\end{tabular}\n"
      ],
      "text/markdown": [
       "\n",
       "| <!--/--> | a | b | c | d | e | f | g | h | i | j | response | index | \n",
       "|---|---|---|---|---|---|---|---|---|---|---|---|\n",
       "| a |  1           |          NA  |          NA  |          NA  |           NA |          NA  |          NA  |          NA  |          NA  |          NA  |          NA  |           NA | \n",
       "| b | NA           |  1.00000000  |  0.11744845  |  0.07919680  | -0.170696571 |  0.11584737  | -0.07908339  | -0.01988695  | -0.03686729  | -0.06979436  |  0.14818853  |  0.135394209 | \n",
       "| c | NA           |  0.11744845  |  1.00000000  | -0.06818489  |  0.046593460 | -0.15341033  |  0.14385905  |  0.08756695  | -0.18956754  | -0.16186187  |  0.11321983  | -0.049469538 | \n",
       "| d | NA           |  0.07919680  | -0.06818489  |  1.00000000  | -0.046881604 | -0.06588092  | -0.07311564  |  0.05394851  | -0.20921222  | -0.09659448  |  0.09399954  | -0.062867247 | \n",
       "| e | NA           | -0.17069657  |  0.04659346  | -0.04688160  |  1.000000000 |  0.11200672  | -0.02053551  |  0.43711485  |  0.10990023  |  0.17515905  | -0.11606487  | -0.007581967 | \n",
       "| f | NA           |  0.11584737  | -0.15341033  | -0.06588092  |  0.112006716 |  1.00000000  | -0.05982178  |  0.14262101  |  0.07226051  | -0.04060933  | -0.15337684  | -0.068917122 | \n",
       "| g | NA           | -0.07908339  |  0.14385905  | -0.07311564  | -0.020535511 | -0.05982178  |  1.00000000  |  0.04523206  |  0.16296495  |  0.07713795  | -0.10948661  | -0.149461193 | \n",
       "| h | NA           | -0.01988695  |  0.08756695  |  0.05394851  |  0.437114850 |  0.14262101  |  0.04523206  |  1.00000000  |  0.14376126  | -0.02426599  |  0.08114309  |  0.139589053 | \n",
       "| i | NA           | -0.03686729  | -0.18956754  | -0.20921222  |  0.109900234 |  0.07226051  |  0.16296495  |  0.14376126  |  1.00000000  |  0.13753754  | -0.13399173  | -0.229872867 | \n",
       "| j | NA           | -0.06979436  | -0.16186187  | -0.09659448  |  0.175159047 | -0.04060933  |  0.07713795  | -0.02426599  |  0.13753754  |  1.00000000  | -0.20569261  | -0.048751057 | \n",
       "| response | NA           |  0.14818853  |  0.11321983  |  0.09399954  | -0.116064867 | -0.15337684  | -0.10948661  |  0.08114309  | -0.13399173  | -0.20569261  |  1.00000000  |  0.488249073 | \n",
       "| index | NA           |  0.13539421  | -0.04946954  | -0.06286725  | -0.007581967 | -0.06891712  | -0.14946119  |  0.13958905  | -0.22987287  | -0.04875106  |  0.48824907  |  1.000000000 | \n",
       "\n",
       "\n"
      ],
      "text/plain": [
       "         a  b           c           d           e            f          \n",
       "a         1          NA          NA          NA           NA          NA\n",
       "b        NA  1.00000000  0.11744845  0.07919680 -0.170696571  0.11584737\n",
       "c        NA  0.11744845  1.00000000 -0.06818489  0.046593460 -0.15341033\n",
       "d        NA  0.07919680 -0.06818489  1.00000000 -0.046881604 -0.06588092\n",
       "e        NA -0.17069657  0.04659346 -0.04688160  1.000000000  0.11200672\n",
       "f        NA  0.11584737 -0.15341033 -0.06588092  0.112006716  1.00000000\n",
       "g        NA -0.07908339  0.14385905 -0.07311564 -0.020535511 -0.05982178\n",
       "h        NA -0.01988695  0.08756695  0.05394851  0.437114850  0.14262101\n",
       "i        NA -0.03686729 -0.18956754 -0.20921222  0.109900234  0.07226051\n",
       "j        NA -0.06979436 -0.16186187 -0.09659448  0.175159047 -0.04060933\n",
       "response NA  0.14818853  0.11321983  0.09399954 -0.116064867 -0.15337684\n",
       "index    NA  0.13539421 -0.04946954 -0.06286725 -0.007581967 -0.06891712\n",
       "         g           h           i           j           response   \n",
       "a                 NA          NA          NA          NA          NA\n",
       "b        -0.07908339 -0.01988695 -0.03686729 -0.06979436  0.14818853\n",
       "c         0.14385905  0.08756695 -0.18956754 -0.16186187  0.11321983\n",
       "d        -0.07311564  0.05394851 -0.20921222 -0.09659448  0.09399954\n",
       "e        -0.02053551  0.43711485  0.10990023  0.17515905 -0.11606487\n",
       "f        -0.05982178  0.14262101  0.07226051 -0.04060933 -0.15337684\n",
       "g         1.00000000  0.04523206  0.16296495  0.07713795 -0.10948661\n",
       "h         0.04523206  1.00000000  0.14376126 -0.02426599  0.08114309\n",
       "i         0.16296495  0.14376126  1.00000000  0.13753754 -0.13399173\n",
       "j         0.07713795 -0.02426599  0.13753754  1.00000000 -0.20569261\n",
       "response -0.10948661  0.08114309 -0.13399173 -0.20569261  1.00000000\n",
       "index    -0.14946119  0.13958905 -0.22987287 -0.04875106  0.48824907\n",
       "         index       \n",
       "a                  NA\n",
       "b         0.135394209\n",
       "c        -0.049469538\n",
       "d        -0.062867247\n",
       "e        -0.007581967\n",
       "f        -0.068917122\n",
       "g        -0.149461193\n",
       "h         0.139589053\n",
       "i        -0.229872867\n",
       "j        -0.048751057\n",
       "response  0.488249073\n",
       "index     1.000000000"
      ]
     },
     "metadata": {},
     "output_type": "display_data"
    }
   ],
   "source": [
    "cor(train_subset)"
   ]
  },
  {
   "cell_type": "code",
   "execution_count": 17,
   "metadata": {
    "collapsed": true
   },
   "outputs": [
    {
     "data": {
      "image/png": "[encoded data removed]",
      "text/plain": [
       "plot without title"
      ]
     },
     "metadata": {},
     "output_type": "display_data"
    }
   ],
   "source": [
    "plot(train_subset$index, model5$residuals)"
   ]
  },
  {
   "cell_type": "code",
   "execution_count": 18,
   "metadata": {
    "collapsed": true
   },
   "outputs": [
    {
     "data": {
      "image/png": "[encoded data removed]",
      "text/plain": [
       "plot without title"
      ]
     },
     "metadata": {},
     "output_type": "display_data"
    },
    {
     "data": {
      "image/png": "[encoded data removed]",
      "text/plain": [
       "plot without title"
      ]
     },
     "metadata": {},
     "output_type": "display_data"
    },
    {
     "data": {
      "image/png": "[encoded data removed]",
      "text/plain": [
       "plot without title"
      ]
     },
     "metadata": {},
     "output_type": "display_data"
    },
    {
     "data": {
      "image/png": "[encoded data removed]",
      "text/plain": [
       "plot without title"
      ]
     },
     "metadata": {},
     "output_type": "display_data"
    },
    {
     "data": {
      "image/png": "[encoded data removed]",
      "text/plain": [
       "plot without title"
      ]
     },
     "metadata": {},
     "output_type": "display_data"
    },
    {
     "data": {
      "image/png": "[encoded data removed]",
      "text/plain": [
       "plot without title"
      ]
     },
     "metadata": {},
     "output_type": "display_data"
    },
    {
     "data": {
      "image/png": "[encoded data removed]",
      "text/plain": [
       "plot without title"
      ]
     },
     "metadata": {},
     "output_type": "display_data"
    },
    {
     "data": {
      "image/png": "[encoded data removed]",
      "text/plain": [
       "plot without title"
      ]
     },
     "metadata": {},
     "output_type": "display_data"
    },
    {
     "data": {
      "image/png": "[encoded data removed]",
      "text/plain": [
       "plot without title"
      ]
     },
     "metadata": {},
     "output_type": "display_data"
    },
    {
     "data": {
      "image/png": "[encoded data removed]",
      "text/plain": [
       "plot without title"
      ]
     },
     "metadata": {},
     "output_type": "display_data"
    }
   ],
   "source": [
    "plot(train_subset$a, train_subset$response)\n",
    "plot(train_subset$b, train_subset$response)\n",
    "plot(train_subset$c, train_subset$response)\n",
    "plot(train_subset$d, train_subset$response)\n",
    "plot(train_subset$e, train_subset$response)\n",
    "plot(train_subset$f, train_subset$response)\n",
    "plot(train_subset$g, train_subset$response)\n",
    "plot(train_subset$h, train_subset$response)\n",
    "plot(train_subset$i, train_subset$response)\n",
    "plot(train_subset$j, train_subset$response)"
   ]
  },
  {
   "cell_type": "code",
   "execution_count": 19,
   "metadata": {
    "collapsed": true
   },
   "outputs": [
    {
     "data": {
      "text/html": [
       "1497.71426198012"
      ],
      "text/latex": [
       "1497.71426198012"
      ],
      "text/markdown": [
       "1497.71426198012"
      ],
      "text/plain": [
       "[1] 1497.714"
      ]
     },
     "metadata": {},
     "output_type": "display_data"
    },
    {
     "data": {
      "text/html": [
       "29.9542852396024"
      ],
      "text/latex": [
       "29.9542852396024"
      ],
      "text/markdown": [
       "29.9542852396024"
      ],
      "text/plain": [
       "[1] 29.95429"
      ]
     },
     "metadata": {},
     "output_type": "display_data"
    },
    {
     "data": {
      "text/html": [
       "17.2140325072712"
      ],
      "text/latex": [
       "17.2140325072712"
      ],
      "text/markdown": [
       "17.2140325072712"
      ],
      "text/plain": [
       "[1] 17.21403"
      ]
     },
     "metadata": {},
     "output_type": "display_data"
    },
    {
     "data": {
      "text/html": [
       "0.344280650145425"
      ],
      "text/latex": [
       "0.344280650145425"
      ],
      "text/markdown": [
       "0.344280650145425"
      ],
      "text/plain": [
       "[1] 0.3442807"
      ]
     },
     "metadata": {},
     "output_type": "display_data"
    },
    {
     "data": {
      "text/html": [
       "2.49867700189625"
      ],
      "text/latex": [
       "2.49867700189625"
      ],
      "text/markdown": [
       "2.49867700189625"
      ],
      "text/plain": [
       "[1] 2.498677"
      ]
     },
     "metadata": {},
     "output_type": "display_data"
    },
    {
     "data": {
      "text/html": [
       "0.0499735400379251"
      ],
      "text/latex": [
       "0.0499735400379251"
      ],
      "text/markdown": [
       "0.0499735400379251"
      ],
      "text/plain": [
       "[1] 0.04997354"
      ]
     },
     "metadata": {},
     "output_type": "display_data"
    },
    {
     "data": {
      "text/html": [
       "2.10882314084606"
      ],
      "text/latex": [
       "2.10882314084606"
      ],
      "text/markdown": [
       "2.10882314084606"
      ],
      "text/plain": [
       "[1] 2.108823"
      ]
     },
     "metadata": {},
     "output_type": "display_data"
    },
    {
     "data": {
      "text/html": [
       "0.0421764628169211"
      ],
      "text/latex": [
       "0.0421764628169211"
      ],
      "text/markdown": [
       "0.0421764628169211"
      ],
      "text/plain": [
       "[1] 0.04217646"
      ]
     },
     "metadata": {},
     "output_type": "display_data"
    }
   ],
   "source": [
    "predict_test_model2 = predict(model2, test_x)\n",
    "predict_test_model3 = predict(model3, test_x)\n",
    "predict_test_model4 = predict(model4, test_x)\n",
    "predict_test_model5 = predict(model5, test_x)\n",
    "\n",
    "sum((predict_test_model2 - test_y) ** 2)\n",
    "mean(((predict_test_model2 - test_y) ** 2)$response)\n",
    "\n",
    "sum((predict_test_model3 - test_y) ** 2)\n",
    "mean(((predict_test_model3 - test_y) ** 2)$response)\n",
    "\n",
    "sum((predict_test_model4 - test_y) ** 2)\n",
    "mean(((predict_test_model4 - test_y) ** 2)$response)\n",
    "\n",
    "sum((predict_test_model5 - test_y) ** 2)\n",
    "mean(((predict_test_model5 - test_y) ** 2)$response)"
   ]
  },
  {
   "cell_type": "code",
   "execution_count": 20,
   "metadata": {
    "collapsed": true
   },
   "outputs": [
    {
     "data": {
      "text/html": [
       "<table>\n",
       "<thead><tr><th></th><th scope=col>predicted</th><th scope=col>real</th></tr></thead>\n",
       "<tbody>\n",
       "\t<tr><th scope=row>151</th><td>1.763596</td><td>2.158941</td></tr>\n",
       "\t<tr><th scope=row>152</th><td>1.772330</td><td>2.330793</td></tr>\n",
       "\t<tr><th scope=row>153</th><td>1.781063</td><td>2.081419</td></tr>\n",
       "\t<tr><th scope=row>154</th><td>1.789796</td><td>1.859214</td></tr>\n",
       "\t<tr><th scope=row>155</th><td>1.798529</td><td>2.066007</td></tr>\n",
       "\t<tr><th scope=row>156</th><td>1.807262</td><td>2.055083</td></tr>\n",
       "\t<tr><th scope=row>157</th><td>1.815995</td><td>1.735900</td></tr>\n",
       "\t<tr><th scope=row>158</th><td>1.824728</td><td>1.573385</td></tr>\n",
       "\t<tr><th scope=row>159</th><td>1.833462</td><td>2.069271</td></tr>\n",
       "\t<tr><th scope=row>160</th><td>1.842195</td><td>2.226361</td></tr>\n",
       "\t<tr><th scope=row>161</th><td>1.850928</td><td>2.147873</td></tr>\n",
       "\t<tr><th scope=row>162</th><td>1.859661</td><td>1.985059</td></tr>\n",
       "\t<tr><th scope=row>163</th><td>1.868394</td><td>1.844095</td></tr>\n",
       "\t<tr><th scope=row>164</th><td>1.877127</td><td>2.023795</td></tr>\n",
       "\t<tr><th scope=row>165</th><td>1.885860</td><td>2.093206</td></tr>\n",
       "\t<tr><th scope=row>166</th><td>1.894593</td><td>1.946221</td></tr>\n",
       "\t<tr><th scope=row>167</th><td>1.903327</td><td>2.001812</td></tr>\n",
       "\t<tr><th scope=row>168</th><td>1.912060</td><td>1.810791</td></tr>\n",
       "\t<tr><th scope=row>169</th><td>1.920793</td><td>1.807720</td></tr>\n",
       "\t<tr><th scope=row>170</th><td>1.929526</td><td>1.943949</td></tr>\n",
       "\t<tr><th scope=row>171</th><td>1.938259</td><td>1.864279</td></tr>\n",
       "\t<tr><th scope=row>172</th><td>1.946992</td><td>2.000575</td></tr>\n",
       "\t<tr><th scope=row>173</th><td>1.955725</td><td>1.970845</td></tr>\n",
       "\t<tr><th scope=row>174</th><td>1.964458</td><td>1.696749</td></tr>\n",
       "\t<tr><th scope=row>175</th><td>1.973192</td><td>1.965980</td></tr>\n",
       "\t<tr><th scope=row>176</th><td>1.981925</td><td>1.981365</td></tr>\n",
       "\t<tr><th scope=row>177</th><td>1.990658</td><td>2.028799</td></tr>\n",
       "\t<tr><th scope=row>178</th><td>1.999391</td><td>2.122996</td></tr>\n",
       "\t<tr><th scope=row>179</th><td>2.008124</td><td>1.740604</td></tr>\n",
       "\t<tr><th scope=row>180</th><td>2.016857</td><td>2.266466</td></tr>\n",
       "\t<tr><th scope=row>181</th><td>2.025590</td><td>2.226242</td></tr>\n",
       "\t<tr><th scope=row>182</th><td>2.034324</td><td>2.350795</td></tr>\n",
       "\t<tr><th scope=row>183</th><td>2.043057</td><td>2.271894</td></tr>\n",
       "\t<tr><th scope=row>184</th><td>2.051790</td><td>2.133667</td></tr>\n",
       "\t<tr><th scope=row>185</th><td>2.060523</td><td>2.328520</td></tr>\n",
       "\t<tr><th scope=row>186</th><td>2.069256</td><td>1.938012</td></tr>\n",
       "\t<tr><th scope=row>187</th><td>2.077989</td><td>2.142195</td></tr>\n",
       "\t<tr><th scope=row>188</th><td>2.086722</td><td>2.226739</td></tr>\n",
       "\t<tr><th scope=row>189</th><td>2.095455</td><td>1.918922</td></tr>\n",
       "\t<tr><th scope=row>190</th><td>2.104189</td><td>2.188855</td></tr>\n",
       "\t<tr><th scope=row>191</th><td>2.112922</td><td>2.160757</td></tr>\n",
       "\t<tr><th scope=row>192</th><td>2.121655</td><td>2.296348</td></tr>\n",
       "\t<tr><th scope=row>193</th><td>2.130388</td><td>2.146580</td></tr>\n",
       "\t<tr><th scope=row>194</th><td>2.139121</td><td>2.127240</td></tr>\n",
       "\t<tr><th scope=row>195</th><td>2.147854</td><td>2.261577</td></tr>\n",
       "\t<tr><th scope=row>196</th><td>2.156587</td><td>2.342527</td></tr>\n",
       "\t<tr><th scope=row>197</th><td>2.165320</td><td>2.167696</td></tr>\n",
       "\t<tr><th scope=row>198</th><td>2.174054</td><td>2.646188</td></tr>\n",
       "\t<tr><th scope=row>199</th><td>2.182787</td><td>2.126076</td></tr>\n",
       "\t<tr><th scope=row>200</th><td>2.191520</td><td>2.408143</td></tr>\n",
       "</tbody>\n",
       "</table>\n"
      ],
      "text/latex": [
       "\\begin{tabular}{r|ll}\n",
       "  & predicted & real\\\\\n",
       "\\hline\n",
       "\t151 & 1.763596 & 2.158941\\\\\n",
       "\t152 & 1.772330 & 2.330793\\\\\n",
       "\t153 & 1.781063 & 2.081419\\\\\n",
       "\t154 & 1.789796 & 1.859214\\\\\n",
       "\t155 & 1.798529 & 2.066007\\\\\n",
       "\t156 & 1.807262 & 2.055083\\\\\n",
       "\t157 & 1.815995 & 1.735900\\\\\n",
       "\t158 & 1.824728 & 1.573385\\\\\n",
       "\t159 & 1.833462 & 2.069271\\\\\n",
       "\t160 & 1.842195 & 2.226361\\\\\n",
       "\t161 & 1.850928 & 2.147873\\\\\n",
       "\t162 & 1.859661 & 1.985059\\\\\n",
       "\t163 & 1.868394 & 1.844095\\\\\n",
       "\t164 & 1.877127 & 2.023795\\\\\n",
       "\t165 & 1.885860 & 2.093206\\\\\n",
       "\t166 & 1.894593 & 1.946221\\\\\n",
       "\t167 & 1.903327 & 2.001812\\\\\n",
       "\t168 & 1.912060 & 1.810791\\\\\n",
       "\t169 & 1.920793 & 1.807720\\\\\n",
       "\t170 & 1.929526 & 1.943949\\\\\n",
       "\t171 & 1.938259 & 1.864279\\\\\n",
       "\t172 & 1.946992 & 2.000575\\\\\n",
       "\t173 & 1.955725 & 1.970845\\\\\n",
       "\t174 & 1.964458 & 1.696749\\\\\n",
       "\t175 & 1.973192 & 1.965980\\\\\n",
       "\t176 & 1.981925 & 1.981365\\\\\n",
       "\t177 & 1.990658 & 2.028799\\\\\n",
       "\t178 & 1.999391 & 2.122996\\\\\n",
       "\t179 & 2.008124 & 1.740604\\\\\n",
       "\t180 & 2.016857 & 2.266466\\\\\n",
       "\t181 & 2.025590 & 2.226242\\\\\n",
       "\t182 & 2.034324 & 2.350795\\\\\n",
       "\t183 & 2.043057 & 2.271894\\\\\n",
       "\t184 & 2.051790 & 2.133667\\\\\n",
       "\t185 & 2.060523 & 2.328520\\\\\n",
       "\t186 & 2.069256 & 1.938012\\\\\n",
       "\t187 & 2.077989 & 2.142195\\\\\n",
       "\t188 & 2.086722 & 2.226739\\\\\n",
       "\t189 & 2.095455 & 1.918922\\\\\n",
       "\t190 & 2.104189 & 2.188855\\\\\n",
       "\t191 & 2.112922 & 2.160757\\\\\n",
       "\t192 & 2.121655 & 2.296348\\\\\n",
       "\t193 & 2.130388 & 2.146580\\\\\n",
       "\t194 & 2.139121 & 2.127240\\\\\n",
       "\t195 & 2.147854 & 2.261577\\\\\n",
       "\t196 & 2.156587 & 2.342527\\\\\n",
       "\t197 & 2.165320 & 2.167696\\\\\n",
       "\t198 & 2.174054 & 2.646188\\\\\n",
       "\t199 & 2.182787 & 2.126076\\\\\n",
       "\t200 & 2.191520 & 2.408143\\\\\n",
       "\\end{tabular}\n"
      ],
      "text/markdown": [
       "\n",
       "| <!--/--> | predicted | real | \n",
       "|---|---|---|---|---|---|---|---|---|---|---|---|---|---|---|---|---|---|---|---|---|---|---|---|---|---|---|---|---|---|---|---|---|---|---|---|---|---|---|---|---|---|---|---|---|---|---|---|---|---|\n",
       "| 151 | 1.763596 | 2.158941 | \n",
       "| 152 | 1.772330 | 2.330793 | \n",
       "| 153 | 1.781063 | 2.081419 | \n",
       "| 154 | 1.789796 | 1.859214 | \n",
       "| 155 | 1.798529 | 2.066007 | \n",
       "| 156 | 1.807262 | 2.055083 | \n",
       "| 157 | 1.815995 | 1.735900 | \n",
       "| 158 | 1.824728 | 1.573385 | \n",
       "| 159 | 1.833462 | 2.069271 | \n",
       "| 160 | 1.842195 | 2.226361 | \n",
       "| 161 | 1.850928 | 2.147873 | \n",
       "| 162 | 1.859661 | 1.985059 | \n",
       "| 163 | 1.868394 | 1.844095 | \n",
       "| 164 | 1.877127 | 2.023795 | \n",
       "| 165 | 1.885860 | 2.093206 | \n",
       "| 166 | 1.894593 | 1.946221 | \n",
       "| 167 | 1.903327 | 2.001812 | \n",
       "| 168 | 1.912060 | 1.810791 | \n",
       "| 169 | 1.920793 | 1.807720 | \n",
       "| 170 | 1.929526 | 1.943949 | \n",
       "| 171 | 1.938259 | 1.864279 | \n",
       "| 172 | 1.946992 | 2.000575 | \n",
       "| 173 | 1.955725 | 1.970845 | \n",
       "| 174 | 1.964458 | 1.696749 | \n",
       "| 175 | 1.973192 | 1.965980 | \n",
       "| 176 | 1.981925 | 1.981365 | \n",
       "| 177 | 1.990658 | 2.028799 | \n",
       "| 178 | 1.999391 | 2.122996 | \n",
       "| 179 | 2.008124 | 1.740604 | \n",
       "| 180 | 2.016857 | 2.266466 | \n",
       "| 181 | 2.025590 | 2.226242 | \n",
       "| 182 | 2.034324 | 2.350795 | \n",
       "| 183 | 2.043057 | 2.271894 | \n",
       "| 184 | 2.051790 | 2.133667 | \n",
       "| 185 | 2.060523 | 2.328520 | \n",
       "| 186 | 2.069256 | 1.938012 | \n",
       "| 187 | 2.077989 | 2.142195 | \n",
       "| 188 | 2.086722 | 2.226739 | \n",
       "| 189 | 2.095455 | 1.918922 | \n",
       "| 190 | 2.104189 | 2.188855 | \n",
       "| 191 | 2.112922 | 2.160757 | \n",
       "| 192 | 2.121655 | 2.296348 | \n",
       "| 193 | 2.130388 | 2.146580 | \n",
       "| 194 | 2.139121 | 2.127240 | \n",
       "| 195 | 2.147854 | 2.261577 | \n",
       "| 196 | 2.156587 | 2.342527 | \n",
       "| 197 | 2.165320 | 2.167696 | \n",
       "| 198 | 2.174054 | 2.646188 | \n",
       "| 199 | 2.182787 | 2.126076 | \n",
       "| 200 | 2.191520 | 2.408143 | \n",
       "\n",
       "\n"
      ],
      "text/plain": [
       "    predicted real    \n",
       "151 1.763596  2.158941\n",
       "152 1.772330  2.330793\n",
       "153 1.781063  2.081419\n",
       "154 1.789796  1.859214\n",
       "155 1.798529  2.066007\n",
       "156 1.807262  2.055083\n",
       "157 1.815995  1.735900\n",
       "158 1.824728  1.573385\n",
       "159 1.833462  2.069271\n",
       "160 1.842195  2.226361\n",
       "161 1.850928  2.147873\n",
       "162 1.859661  1.985059\n",
       "163 1.868394  1.844095\n",
       "164 1.877127  2.023795\n",
       "165 1.885860  2.093206\n",
       "166 1.894593  1.946221\n",
       "167 1.903327  2.001812\n",
       "168 1.912060  1.810791\n",
       "169 1.920793  1.807720\n",
       "170 1.929526  1.943949\n",
       "171 1.938259  1.864279\n",
       "172 1.946992  2.000575\n",
       "173 1.955725  1.970845\n",
       "174 1.964458  1.696749\n",
       "175 1.973192  1.965980\n",
       "176 1.981925  1.981365\n",
       "177 1.990658  2.028799\n",
       "178 1.999391  2.122996\n",
       "179 2.008124  1.740604\n",
       "180 2.016857  2.266466\n",
       "181 2.025590  2.226242\n",
       "182 2.034324  2.350795\n",
       "183 2.043057  2.271894\n",
       "184 2.051790  2.133667\n",
       "185 2.060523  2.328520\n",
       "186 2.069256  1.938012\n",
       "187 2.077989  2.142195\n",
       "188 2.086722  2.226739\n",
       "189 2.095455  1.918922\n",
       "190 2.104189  2.188855\n",
       "191 2.112922  2.160757\n",
       "192 2.121655  2.296348\n",
       "193 2.130388  2.146580\n",
       "194 2.139121  2.127240\n",
       "195 2.147854  2.261577\n",
       "196 2.156587  2.342527\n",
       "197 2.165320  2.167696\n",
       "198 2.174054  2.646188\n",
       "199 2.182787  2.126076\n",
       "200 2.191520  2.408143"
      ]
     },
     "metadata": {},
     "output_type": "display_data"
    }
   ],
   "source": [
    "data.frame(\"predicted\"=predict_test_model5, \"real\"=test_y$response)"
   ]
  },
  {
   "cell_type": "code",
   "execution_count": 21,
   "metadata": {},
   "outputs": [],
   "source": [
    "write.table(predict_test_model5, file=\"PR2_submit.dat\", col.names = F, row.names = F)"
   ]
  }
 ],
 "metadata": {
  "kernelspec": {
   "display_name": "R",
   "language": "R",
   "name": "ir"
  },
  "language_info": {
   "codemirror_mode": "r",
   "file_extension": ".r",
   "mimetype": "text/x-r-source",
   "name": "R",
   "pygments_lexer": "r",
   "version": "3.5.1"
  },
  "toc": {
   "base_numbering": 1,
   "nav_menu": {
    "height": "284px",
    "width": "205px"
   },
   "number_sections": true,
   "sideBar": true,
   "skip_h1_title": false,
   "title_cell": "Table of Contents",
   "title_sidebar": "Contents",
   "toc_cell": false,
   "toc_position": {},
   "toc_section_display": true,
   "toc_window_display": false
  },
  "varInspector": {
   "cols": {
    "lenName": 16,
    "lenType": 16,
    "lenVar": 40
   },
   "kernels_config": {
    "python": {
     "delete_cmd_postfix": "",
     "delete_cmd_prefix": "del ",
     "library": "var_list.py",
     "varRefreshCmd": "print(var_dic_list())"
    },
    "r": {
     "delete_cmd_postfix": ") ",
     "delete_cmd_prefix": "rm(",
     "library": "var_list.r",
     "varRefreshCmd": "cat(var_dic_list()) "
    }
   },
   "position": {
    "height": "292px",
    "left": "1947px",
    "right": "20px",
    "top": "561px",
    "width": "362px"
   },
   "types_to_exclude": [
    "module",
    "function",
    "builtin_function_or_method",
    "instance",
    "_Feature"
   ],
   "window_display": true
  }
 },
 "nbformat": 4,
 "nbformat_minor": 2
}
